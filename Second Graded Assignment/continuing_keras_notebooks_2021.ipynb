{
  "nbformat": 4,
  "nbformat_minor": 0,
  "metadata": {
    "colab": {
      "name": "continuing_keras_notebooks_2021.ipynb",
      "provenance": [],
      "collapsed_sections": [],
      "toc_visible": true
    },
    "kernelspec": {
      "name": "python3",
      "display_name": "Python 3"
    }
  },
  "cells": [
    {
      "cell_type": "markdown",
      "metadata": {
        "id": "WeMN9IMcpWX-"
      },
      "source": [
        "# Continuing Keras notebooks\n",
        "When working on large deep learning projects, it is possible that training a single model takes many hours. However, this may be too long for running a model on Google Colab, which offers [no guarantees](https://research.google.com/colaboratory/faq.html) on how long a notebook is allowed to run. This means that after training for a few hours, the **runtime may suddenly stop and delete all local variables, including the model and the training history!** \n",
        "\n",
        "This notebook therefore shows how you can exploit advanced tf.keras functionalities to maintain a backup of your model and resume incomplete training runs. \n",
        "\n"
      ]
    },
    {
      "cell_type": "markdown",
      "metadata": {
        "id": "x-RUnrVjCggP"
      },
      "source": [
        "### Import some libraries"
      ]
    },
    {
      "cell_type": "code",
      "metadata": {
        "id": "1SskaaJEpUw7",
        "colab": {
          "base_uri": "https://localhost:8080/"
        },
        "outputId": "55b8403f-acc9-4fd9-c430-4de7dd1d268f"
      },
      "source": [
        "try:\n",
        "  # %tensorflow_version only exists in Colab.\n",
        "  %tensorflow_version 2.x\n",
        "except Exception:\n",
        "  pass\n",
        "\n",
        "# TensorFlow and tf.keras.\n",
        "import tensorflow as tf\n",
        "from tensorflow import keras\n",
        "\n",
        "print(tf.__version__)\n",
        "\n",
        "# Helper libraries.\n",
        "import numpy as np\n",
        "import sklearn as sk\n",
        "from sklearn.model_selection import train_test_split\n",
        "\n",
        "from tensorflow.keras.datasets import mnist\n",
        "from tensorflow.keras.models import Sequential\n",
        "from tensorflow.keras.layers import Dense\n",
        "from tensorflow.keras.optimizers import Adam\n",
        "from tensorflow.keras.callbacks import ModelCheckpoint, History\n",
        "from tensorflow.keras.callbacks.experimental import BackupAndRestore"
      ],
      "execution_count": null,
      "outputs": [
        {
          "output_type": "stream",
          "text": [
            "2.4.1\n"
          ],
          "name": "stdout"
        }
      ]
    },
    {
      "cell_type": "code",
      "metadata": {
        "id": "tgBMYvWcprhu",
        "colab": {
          "base_uri": "https://localhost:8080/"
        },
        "outputId": "3d09e48b-5182-4db1-9dc0-2bbed6217516"
      },
      "source": [
        "# Mount the Google Drive file system.\n",
        "from google.colab import drive\n",
        "drive.mount('/content/gdrive')"
      ],
      "execution_count": null,
      "outputs": [
        {
          "output_type": "stream",
          "text": [
            "Drive already mounted at /content/gdrive; to attempt to forcibly remount, call drive.mount(\"/content/gdrive\", force_remount=True).\n"
          ],
          "name": "stdout"
        }
      ]
    },
    {
      "cell_type": "markdown",
      "metadata": {
        "id": "Num3NxfiC2BD"
      },
      "source": [
        "### Define an example setup"
      ]
    },
    {
      "cell_type": "code",
      "metadata": {
        "id": "62XNcyqTql1n"
      },
      "source": [
        "# Load MNIST dataset.\n",
        "(x_train_all, r_train_all_class), (x_test, r_test_class) = mnist.load_data()\n",
        "x_train_all = x_train_all.reshape(x_train_all.shape[0], -1)\n",
        "x_test = x_test.reshape(x_test.shape[0], -1)\n",
        "\n",
        "x_train_all = x_train_all.astype('float32') / 255\n",
        "x_test = x_test.astype('float32') / 255\n",
        "\n",
        "# Split train set into train/validation set.\n",
        "N_val = 10000\n",
        "N_train = x_train_all.shape[0] - N_val\n",
        "x_train, x_val, r_train_class, r_val_class = train_test_split(x_train_all, r_train_all_class, test_size = N_val, random_state=0)\n",
        "\n",
        "# Convert all labels to one-hot encoding.\n",
        "r_train_all = keras.utils.to_categorical(r_train_all_class)\n",
        "r_train = keras.utils.to_categorical(r_train_class)\n",
        "r_val = keras.utils.to_categorical(r_val_class)\n",
        "r_test = keras.utils.to_categorical(r_test_class)\n",
        "\n",
        "N_classes = r_train.shape[1]"
      ],
      "execution_count": null,
      "outputs": []
    },
    {
      "cell_type": "code",
      "metadata": {
        "id": "nSxqEMQvp4l1",
        "colab": {
          "base_uri": "https://localhost:8080/"
        },
        "outputId": "1102d28b-9d9c-4c8a-de9a-8022effd8a55"
      },
      "source": [
        "# Define a simple model.\n",
        "def build_model():\n",
        "  model = Sequential()\n",
        "  model.add(Dense(16, activation='relu', input_shape=(784,), kernel_initializer='he_uniform'))\n",
        "  model.add(Dense(N_classes, activation='softmax'))\n",
        "  model.compile(loss='categorical_crossentropy',\n",
        "                optimizer='adam',\n",
        "                metrics=['accuracy'])\n",
        "  return model\n",
        "model = build_model()\n",
        "model.summary()"
      ],
      "execution_count": null,
      "outputs": [
        {
          "output_type": "stream",
          "text": [
            "Model: \"sequential\"\n",
            "_________________________________________________________________\n",
            "Layer (type)                 Output Shape              Param #   \n",
            "=================================================================\n",
            "dense (Dense)                (None, 16)                12560     \n",
            "_________________________________________________________________\n",
            "dense_1 (Dense)              (None, 10)                170       \n",
            "=================================================================\n",
            "Total params: 12,730\n",
            "Trainable params: 12,730\n",
            "Non-trainable params: 0\n",
            "_________________________________________________________________\n"
          ],
          "name": "stdout"
        }
      ]
    },
    {
      "cell_type": "code",
      "metadata": {
        "id": "YCJddsAIHWHs"
      },
      "source": [
        "# Some training parameters.\n",
        "batch_size = 16\n",
        "total_nb_epochs = 10  # The total number of epochs that you want to run the fit() function.\n",
        "monitor = 'val_accuracy'  # The measure for the 'best' model. The default is 'val_loss'."
      ],
      "execution_count": null,
      "outputs": []
    },
    {
      "cell_type": "markdown",
      "metadata": {
        "id": "VJcBqG77IhWX"
      },
      "source": [
        "### Model checkpoints\n",
        "The tf.keras library has many options for saving and loading models. The most basic one is the ModelCheckpoint callback, which saves the entire model (including weights, optimizer state, ...) in the specified '.h5' file. For example, this callback can be used to automatically save the model that scores the best on the 'monitor' metric, e.g. the 'val_accuracy'.\n",
        "\n",
        "As stated previously, a possible issue is that your runtime may be interrupted before the training epochs are over. TensorFlow has therefore recently introduced the BackupAndRestore callback, which automatically maintains the *latest* state of the model as a backup. When executing an interrupted training run, this callback will allow you to resume from the epoch of that latest model. **Warning: this backup is deleted from the disk after all training epochs are completed!**"
      ]
    },
    {
      "cell_type": "code",
      "metadata": {
        "id": "trN_RlPZsNbH"
      },
      "source": [
        "# The directory where we can save the best models and the temporary backups. \n",
        "# Also, the training history and temporary states of the model will be saved here.\n",
        "checkpoint_dir = \"/content/gdrive/My Drive/Colab Notebooks/DL2020/continuing/\"\n",
        "\n",
        "# Create a callback that saves the latest model.\n",
        "backup_callback = BackupAndRestore(checkpoint_dir + \"backup/\")\n",
        "\n",
        "# Create a callback that saves the best model so far.\n",
        "best_cp_callback = ModelCheckpoint(checkpoint_dir+\"best_model.h5\",\n",
        "                                   monitor=monitor,\n",
        "                                   save_weights_only=False,\n",
        "                                   save_best_only=True,\n",
        "                                   verbose=1)"
      ],
      "execution_count": null,
      "outputs": []
    },
    {
      "cell_type": "markdown",
      "metadata": {
        "id": "16aGxlQ5YEx0"
      },
      "source": [
        "Try to run the model.fit code below and interrupt the process by clicking the cell's 'stop' button or clicking on 'Runtime' > 'Interrupt execution'. Then click 'Runtime' > 'Restart runtime' to wipe the memory of the notebook (this simulates what happens if your notebook disconnects completely). Afterwards, run the previous cells again."
      ]
    },
    {
      "cell_type": "code",
      "metadata": {
        "colab": {
          "base_uri": "https://localhost:8080/"
        },
        "id": "bl9LFkMmQr9k",
        "outputId": "d189cd35-8e54-486e-d9bd-fcebcab17cbb"
      },
      "source": [
        "history = model.fit(x_train, r_train,\n",
        "          batch_size=batch_size,\n",
        "          epochs=total_nb_epochs,\n",
        "          verbose=1,\n",
        "          callbacks = [best_cp_callback, backup_callback],\n",
        "          validation_data=(x_val, r_val),\n",
        "          )"
      ],
      "execution_count": null,
      "outputs": [
        {
          "output_type": "stream",
          "text": [
            "Epoch 3/10\n",
            "3125/3125 [==============================] - 5s 1ms/step - loss: 0.2409 - accuracy: 0.9327 - val_loss: 0.2252 - val_accuracy: 0.9350\n",
            "\n",
            "Epoch 00003: val_accuracy improved from -inf to 0.93500, saving model to /content/gdrive/My Drive/Colab Notebooks/DL2020/continuing/best_model.h5\n",
            "Epoch 4/10\n",
            "3125/3125 [==============================] - 4s 1ms/step - loss: 0.2179 - accuracy: 0.9371 - val_loss: 0.2116 - val_accuracy: 0.9364\n",
            "\n",
            "Epoch 00004: val_accuracy improved from 0.93500 to 0.93640, saving model to /content/gdrive/My Drive/Colab Notebooks/DL2020/continuing/best_model.h5\n",
            "Epoch 5/10\n",
            "3125/3125 [==============================] - 4s 1ms/step - loss: 0.2042 - accuracy: 0.9406 - val_loss: 0.1989 - val_accuracy: 0.9403\n",
            "\n",
            "Epoch 00005: val_accuracy improved from 0.93640 to 0.94030, saving model to /content/gdrive/My Drive/Colab Notebooks/DL2020/continuing/best_model.h5\n",
            "Epoch 6/10\n",
            "3125/3125 [==============================] - 4s 1ms/step - loss: 0.1886 - accuracy: 0.9457 - val_loss: 0.1894 - val_accuracy: 0.9446\n",
            "\n",
            "Epoch 00006: val_accuracy improved from 0.94030 to 0.94460, saving model to /content/gdrive/My Drive/Colab Notebooks/DL2020/continuing/best_model.h5\n",
            "Epoch 7/10\n",
            "3125/3125 [==============================] - 4s 1ms/step - loss: 0.1754 - accuracy: 0.9480 - val_loss: 0.1831 - val_accuracy: 0.9469\n",
            "\n",
            "Epoch 00007: val_accuracy improved from 0.94460 to 0.94690, saving model to /content/gdrive/My Drive/Colab Notebooks/DL2020/continuing/best_model.h5\n",
            "Epoch 8/10\n",
            "3125/3125 [==============================] - 4s 1ms/step - loss: 0.1684 - accuracy: 0.9515 - val_loss: 0.1741 - val_accuracy: 0.9496\n",
            "\n",
            "Epoch 00008: val_accuracy improved from 0.94690 to 0.94960, saving model to /content/gdrive/My Drive/Colab Notebooks/DL2020/continuing/best_model.h5\n",
            "Epoch 9/10\n",
            "3125/3125 [==============================] - 4s 1ms/step - loss: 0.1599 - accuracy: 0.9531 - val_loss: 0.1753 - val_accuracy: 0.9476\n",
            "\n",
            "Epoch 00009: val_accuracy did not improve from 0.94960\n",
            "Epoch 10/10\n",
            "3125/3125 [==============================] - 4s 1ms/step - loss: 0.1541 - accuracy: 0.9547 - val_loss: 0.1671 - val_accuracy: 0.9487\n",
            "\n",
            "Epoch 00010: val_accuracy did not improve from 0.94960\n"
          ],
          "name": "stdout"
        }
      ]
    },
    {
      "cell_type": "code",
      "metadata": {
        "id": "biVxmYed49cJ"
      },
      "source": [
        "# Normally, the backup is deleted automatically after all training epochs have ended. \r\n",
        "# Executing this command forces the deletion even if the training is not done yet.\r\n",
        "!rm -r \"{checkpoint_dir + \"backup/\"}\"\r\n",
        "\r\n",
        "# Use the line below to reset the model in memory as well.\r\n",
        "# model = build_model()"
      ],
      "execution_count": null,
      "outputs": []
    },
    {
      "cell_type": "markdown",
      "metadata": {
        "id": "mjS0FgiQYjhO"
      },
      "source": [
        "You will notice that the model training indeed continues from the last succesful epoch.\r\n",
        "\r\n",
        "However, when the memory is wiped, the 'best model' callback no longer knows what the val_accuracy was of the previously best model! Instead, the internal state of the callback is reset, and it thinks that the previously best score was '-inf'. Similarly, the actual history is not saved automatically, which makes it impossible to plot the full validation curve:"
      ]
    },
    {
      "cell_type": "code",
      "metadata": {
        "id": "IRCyxyHxDZ2l",
        "colab": {
          "base_uri": "https://localhost:8080/",
          "height": 282
        },
        "outputId": "e066db02-54ef-4eab-ea42-51b920d3c852"
      },
      "source": [
        "import matplotlib.pyplot as plt\n",
        "plt.plot(history.history['accuracy'])\n",
        "plt.plot(history.history['val_accuracy'])\n",
        "print(f\"Number of history entries: {len(history.history['loss'])}\")"
      ],
      "execution_count": null,
      "outputs": [
        {
          "output_type": "stream",
          "text": [
            "Number of history entries: 8\n"
          ],
          "name": "stdout"
        },
        {
          "output_type": "display_data",
          "data": {
            "image/png": "[encoded data removed]",
            "text/plain": [
              "<Figure size 432x288 with 1 Axes>"
            ]
          },
          "metadata": {
            "tags": [],
            "needs_background": "light"
          }
        }
      ]
    },
    {
      "cell_type": "markdown",
      "metadata": {
        "id": "xqMa8g0m9zaB"
      },
      "source": [
        "### History backup\r\n",
        "To make sure we save other information, we need to write additional backup code. Below is an example of how the History callback can be extended to automatically save the training history to a pickle file."
      ]
    },
    {
      "cell_type": "code",
      "metadata": {
        "id": "DTh0VObXhoPw",
        "colab": {
          "base_uri": "https://localhost:8080/"
        },
        "outputId": "c599f2d7-de60-4474-e156-bcfaa188dc23"
      },
      "source": [
        "import pickle\r\n",
        "import os\r\n",
        "\r\n",
        "class HistoryCheckpoint(History):\r\n",
        "  def __init__(self, pickle_path, monitor):\r\n",
        "    \"\"\"\r\n",
        "    A custom callback that saves the training history to a pickle file after\r\n",
        "    every epoch.\r\n",
        "    Arguments:\r\n",
        "      pickle_path: the path of where the history should be stored.\r\n",
        "      monitor: the value that indicates what the 'best' model is.\r\n",
        "    \"\"\"\r\n",
        "    super().__init__()\r\n",
        "    self.pickle_path = pickle_path\r\n",
        "    self.monitor = monitor\r\n",
        "    self.is_resuming = False\r\n",
        "\r\n",
        "  def load_history(self):\r\n",
        "    \"\"\"\r\n",
        "    Try to open the history file at the given pickle_path.\r\n",
        "    \"\"\"\r\n",
        "    with open(self.pickle_path, \"rb\") as file:\r\n",
        "      self.history = pickle.load(file)\r\n",
        "      self.epoch = [i for i in range(len(self.history['loss']))]\r\n",
        "      self.is_resuming = True\r\n",
        "      \r\n",
        "\r\n",
        "  def on_train_begin(self, logs=None):\r\n",
        "    # If not already resuming from a loaded history, then initialize all\r\n",
        "    # fields using the code from the History callback.\r\n",
        "    if not self.is_resuming:\r\n",
        "      super().on_train_begin(logs)\r\n",
        "\r\n",
        "  def on_epoch_end(self, epoch, logs=None):\r\n",
        "    # Update the history according to the functionality of History.\r\n",
        "    super().on_epoch_end(epoch, logs)\r\n",
        "\r\n",
        "    # Save the history to a pickle file.\r\n",
        "    with open(self.pickle_path, \"wb\") as file:\r\n",
        "      pickle.dump(self.history, file)\r\n",
        "\r\n",
        "  def on_train_end(self, logs=None):\r\n",
        "    os.remove(self.pickle_path)\r\n",
        "\r\n",
        "\r\n",
        "# Intitialize a HistoryCheckpoint.\r\n",
        "history_callback = HistoryCheckpoint(checkpoint_dir + \"history.pi\", \r\n",
        "                                     monitor=monitor)\r\n",
        "# Reset the other callbacks.\r\n",
        "backup_callback = BackupAndRestore(checkpoint_dir + \"backup/\")\r\n",
        "best_cp_callback = ModelCheckpoint(checkpoint_dir+\"best_model.h5\", \r\n",
        "                                   monitor=monitor,\r\n",
        "                                   save_weights_only=False,\r\n",
        "                                   save_best_only=True,\r\n",
        "                                   verbose=1)\r\n",
        "\r\n",
        "# Reset the model.\r\n",
        "model = build_model()\r\n",
        "\r\n",
        "try:\r\n",
        "  # Try to resume from a history.\r\n",
        "  history_callback.load_history()\r\n",
        "\r\n",
        "  # Set the best value from this history in the 'best model' callback.\r\n",
        "  if best_cp_callback.monitor_op == np.less:\r\n",
        "    best_cp_callback.best = np.min(history_callback.history[monitor])\r\n",
        "  if best_cp_callback.monitor_op == np.greater:\r\n",
        "    best_cp_callback.best = np.max(history_callback.history[monitor])\r\n",
        "  print(f\"History with {len(history_callback.epoch)} epochs loaded!\")\r\n",
        "except OSError:\r\n",
        "  print(\"No history found, starting new logs!\")\r\n",
        "\r\n",
        "# Fit the model.\r\n",
        "model.fit(x_train, r_train,\r\n",
        "          batch_size=batch_size,\r\n",
        "          epochs=total_nb_epochs,\r\n",
        "          verbose=1,\r\n",
        "          callbacks = [history_callback, best_cp_callback, backup_callback],\r\n",
        "          validation_data=(x_val, r_val)\r\n",
        "          )\r\n",
        "history = history_callback\r\n",
        "print(f\"Number of history entries: {len(history.history['loss'])}\")"
      ],
      "execution_count": null,
      "outputs": [
        {
          "output_type": "stream",
          "text": [
            "History with 4 epochs loaded!\n",
            "Epoch 5/10\n",
            "3125/3125 [==============================] - 5s 1ms/step - loss: 0.1771 - accuracy: 0.9499 - val_loss: 0.1860 - val_accuracy: 0.9487\n",
            "\n",
            "Epoch 00005: val_accuracy improved from 0.94590 to 0.94870, saving model to /content/gdrive/My Drive/Colab Notebooks/DL2020/continuing/best_model.h5\n",
            "Epoch 6/10\n",
            "3125/3125 [==============================] - 4s 1ms/step - loss: 0.1632 - accuracy: 0.9541 - val_loss: 0.1796 - val_accuracy: 0.9503\n",
            "\n",
            "Epoch 00006: val_accuracy improved from 0.94870 to 0.95030, saving model to /content/gdrive/My Drive/Colab Notebooks/DL2020/continuing/best_model.h5\n",
            "Epoch 7/10\n",
            "3125/3125 [==============================] - 4s 1ms/step - loss: 0.1558 - accuracy: 0.9552 - val_loss: 0.1793 - val_accuracy: 0.9482\n",
            "\n",
            "Epoch 00007: val_accuracy did not improve from 0.95030\n",
            "Epoch 8/10\n",
            "3125/3125 [==============================] - 4s 1ms/step - loss: 0.1503 - accuracy: 0.9570 - val_loss: 0.1691 - val_accuracy: 0.9509\n",
            "\n",
            "Epoch 00008: val_accuracy improved from 0.95030 to 0.95090, saving model to /content/gdrive/My Drive/Colab Notebooks/DL2020/continuing/best_model.h5\n",
            "Epoch 9/10\n",
            "3125/3125 [==============================] - 4s 1ms/step - loss: 0.1446 - accuracy: 0.9587 - val_loss: 0.1655 - val_accuracy: 0.9548\n",
            "\n",
            "Epoch 00009: val_accuracy improved from 0.95090 to 0.95480, saving model to /content/gdrive/My Drive/Colab Notebooks/DL2020/continuing/best_model.h5\n",
            "Epoch 10/10\n",
            "3125/3125 [==============================] - 4s 1ms/step - loss: 0.1414 - accuracy: 0.9587 - val_loss: 0.1693 - val_accuracy: 0.9537\n",
            "\n",
            "Epoch 00010: val_accuracy did not improve from 0.95480\n",
            "Number of history entries: 10\n"
          ],
          "name": "stdout"
        }
      ]
    },
    {
      "cell_type": "code",
      "metadata": {
        "colab": {
          "base_uri": "https://localhost:8080/"
        },
        "id": "Ymr7kyj19J17",
        "outputId": "34cb5add-cd80-4030-b196-43b03a753b45"
      },
      "source": [
        "# Again, the history will be removed after a full training run automatically,\r\n",
        "# but you can force the history to be deleted to be sure:\r\n",
        "!rm -r \"{checkpoint_dir + \"history.pi\"}\""
      ],
      "execution_count": null,
      "outputs": [
        {
          "output_type": "stream",
          "text": [
            "rm: cannot remove '/content/gdrive/My Drive/Colab Notebooks/DL2020/continuing/history.pi': No such file or directory\n"
          ],
          "name": "stdout"
        }
      ]
    },
    {
      "cell_type": "code",
      "metadata": {
        "id": "LR6nAjDb0Evc",
        "colab": {
          "base_uri": "https://localhost:8080/",
          "height": 282
        },
        "outputId": "43ef7428-ec73-4d39-c37f-fe0ca26ba1ce"
      },
      "source": [
        "import matplotlib.pyplot as plt\r\n",
        "plt.plot(history.history['accuracy'])\r\n",
        "plt.plot(history.history['val_accuracy'])\r\n",
        "print(f\"Number of history entries: {len(history.history['loss'])}\")"
      ],
      "execution_count": null,
      "outputs": [
        {
          "output_type": "stream",
          "text": [
            "Number of history entries: 10\n"
          ],
          "name": "stdout"
        },
        {
          "output_type": "display_data",
          "data": {
            "image/png": "[encoded data removed]",
            "text/plain": [
              "<Figure size 432x288 with 1 Axes>"
            ]
          },
          "metadata": {
            "tags": [],
            "needs_background": "light"
          }
        }
      ]
    },
    {
      "cell_type": "markdown",
      "metadata": {
        "id": "zRSYr5n8T8r-"
      },
      "source": [
        "### Further extensions\n",
        "The above code covers the standard use case, but you may run into some unexpected behaviour when using other callbacks, such as EarlyStopping or LearningRateScheduler. Without modifications, they will not be aware that you are resuming training!\n",
        "\n",
        "You can write your own callbacks, but it should already be clear that writing resumable code is tricky and requires a good overview of how information is stored in Keras. It can therefore be useful to dive into the [source code](https://github.com/tensorflow/tensorflow/blob/master/tensorflow/python/keras/callbacks.py) of current Keras callbacks. Obviously, this requires advanced knowledge of Python.\n",
        "\n",
        "Alternatively, you can ask us for help on Teams if you have questions about this notebook or a specific use case. "
      ]
    }
  ]
}