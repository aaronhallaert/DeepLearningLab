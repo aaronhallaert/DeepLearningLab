{
  "nbformat": 4,
  "nbformat_minor": 0,
  "metadata": {
    "colab": {
      "name": "GA3.ipynb",
      "provenance": [],
      "collapsed_sections": []
    },
    "kernelspec": {
      "name": "python3",
      "display_name": "Python 3"
    }
  },
  "cells": [
    {
      "cell_type": "code",
      "metadata": {
        "colab": {
          "base_uri": "https://localhost:8080/"
        },
        "id": "2c8di9NxAdlr",
        "outputId": "0a8ffca5-258c-4979-8499-fa237e69b79d"
      },
      "source": [
        "#imports and Drive mounting\n",
        "try:\n",
        "  # %tensorflow_version only exists in Colab.\n",
        "  %tensorflow_version 2.x\n",
        "except Exception:\n",
        "  pass\n",
        "\n",
        "# TensorFlow and tf.keras\n",
        "import tensorflow as tf\n",
        "from tensorflow import keras\n",
        "\n",
        "print(tf.__version__)\n",
        "\n",
        "# Helper libraries\n",
        "import numpy as np\n",
        "import matplotlib.pyplot as plt\n",
        "import matplotlib.gridspec as gridspec\n",
        "import sklearn as sk\n",
        "import pandas as pd\n",
        "from pandas import read_csv\n",
        "from datetime import datetime\n",
        "import math\n",
        "import os\n",
        "\n",
        "# fix random seed for reproducibility\n",
        "seed = 2020\n",
        "np.random.seed(seed)  \n",
        "\n",
        "from sklearn.model_selection import train_test_split\n",
        "\n",
        "from tensorflow.keras.datasets import cifar100\n",
        "from tensorflow.keras.preprocessing.image import ImageDataGenerator\n",
        "from tensorflow.keras.models import Sequential\n",
        "from tensorflow.keras.layers import Dense, Dropout, Flatten, BatchNormalization, Activation\n",
        "from tensorflow.keras.layers import Conv1D, MaxPooling1D, GlobalMaxPooling1D\n",
        "from tensorflow.keras.layers import LSTM, GRU\n",
        "from tensorflow.keras.regularizers import L1L2\n",
        "from tensorflow.keras.constraints import max_norm\n",
        "from tensorflow.keras.optimizers import Adam\n",
        "from tensorflow.keras.callbacks import EarlyStopping, ModelCheckpoint\n",
        "from tensorflow.keras.models import load_model\n",
        "from tensorflow.keras import optimizers\n",
        "from tensorflow.keras.losses import MAE\n",
        "from sklearn.preprocessing import StandardScaler\n",
        "from sklearn.metrics import mean_absolute_error"
      ],
      "execution_count": 11,
      "outputs": [
        {
          "output_type": "stream",
          "text": [
            "2.4.1\n"
          ],
          "name": "stdout"
        }
      ]
    },
    {
      "cell_type": "code",
      "metadata": {
        "colab": {
          "base_uri": "https://localhost:8080/"
        },
        "id": "dxsAyczmAsUX",
        "outputId": "b8bcaf2a-327d-4efd-af9a-d950f16be677"
      },
      "source": [
        "from google.colab import drive\n",
        "drive.mount('/content/gdrive')"
      ],
      "execution_count": 2,
      "outputs": [
        {
          "output_type": "stream",
          "text": [
            "Mounted at /content/gdrive\n"
          ],
          "name": "stdout"
        }
      ]
    },
    {
      "cell_type": "code",
      "metadata": {
        "id": "_LLIODcWA_sD"
      },
      "source": [
        "DATAPATH = '/content/gdrive/My Drive/Colab Notebooks/DL2021/'  \n",
        "TRAINDATAFILE = DATAPATH+'preprocessed_train_data.csv'\n",
        "VALDATAFILE = DATAPATH+'preprocessed_val_data.csv'\n",
        "TESTDATAFILE = DATAPATH+'preprocessed_test_data.csv'\n",
        "\n",
        "train_dataset = read_csv(TRAINDATAFILE, header=0, index_col=0)\n",
        "val_dataset = read_csv(VALDATAFILE, header=0, index_col=0)\n",
        "test_dataset = read_csv(TESTDATAFILE, header=0, index_col=0)"
      ],
      "execution_count": 3,
      "outputs": []
    },
    {
      "cell_type": "code",
      "metadata": {
        "colab": {
          "base_uri": "https://localhost:8080/"
        },
        "id": "Lp0ah9RNBPQc",
        "outputId": "4362cea0-7e27-433f-cec6-c5bc8c0f7b50"
      },
      "source": [
        "features = [1, 3, 4, 5, 6, 7, 9, 10, 13, 14, 15, 16]\n",
        "pollution = 4\n",
        "\n",
        "train_values = np.asarray(train_dataset.values[:,features],dtype=np.float32)\n",
        "train_labels = np.asarray(train_dataset.values[:,pollution],dtype=np.float32)\n",
        "val_values = np.asarray(val_dataset.values[:,features],dtype=np.float32)\n",
        "val_labels = np.asarray(val_dataset.values[:,pollution],dtype=np.float32)\n",
        "\n",
        "train_all_values = np.concatenate((train_values,val_values))\n",
        "train_all_labels = np.concatenate((train_labels,val_labels))\n",
        "\n",
        "test_values = np.asarray(test_dataset.values[:,features],dtype=np.float32)\n",
        "test_labels = np.asarray(test_dataset.values[:,pollution],dtype=np.float32)\n",
        "\n",
        "\n",
        "print(train_values.shape)\n",
        "print(train_labels.shape)\n",
        "print(val_values.shape)\n",
        "print(val_labels.shape)\n",
        "\n",
        "print(train_all_values.shape)\n",
        "print(train_all_labels.shape)\n",
        "\n",
        "print(test_values.shape)\n",
        "print(test_labels.shape)\n"
      ],
      "execution_count": 49,
      "outputs": [
        {
          "output_type": "stream",
          "text": [
            "(26280, 10)\n",
            "(26280,)\n",
            "(8760, 10)\n",
            "(8760,)\n",
            "(35040, 10)\n",
            "(35040,)\n",
            "(8760, 10)\n",
            "(8760,)\n"
          ],
          "name": "stdout"
        }
      ]
    },
    {
      "cell_type": "code",
      "metadata": {
        "id": "7bl-Wxz7Crpu"
      },
      "source": [
        "SS1 = StandardScaler()\n",
        "SS1.fit(train_values)\n",
        "\n",
        "train_scaled = SS1.transform(train_values)\n",
        "val_scaled = SS1.transform(val_values)"
      ],
      "execution_count": 50,
      "outputs": []
    },
    {
      "cell_type": "code",
      "metadata": {
        "id": "YoE3xtwvDje1"
      },
      "source": [
        "def create_dataset_dense(train, test, ahead=3):   # can use this with different 'ahead' values, but default is set to 3\n",
        "    return train[:-ahead,:], test[ahead:]\n",
        "\n",
        "X_train_d,r_train_d = create_dataset_dense(train_scaled,train_labels)\n",
        "X_val_d,r_val_d = create_dataset_dense(val_scaled,val_labels)"
      ],
      "execution_count": 51,
      "outputs": []
    },
    {
      "cell_type": "code",
      "metadata": {
        "colab": {
          "base_uri": "https://localhost:8080/"
        },
        "id": "-xjJISzqD4sZ",
        "outputId": "489136cd-f29d-4143-decd-4d5bcc8e2e05"
      },
      "source": [
        "def my_Dense(num_features,learning_rate=0.001,hidden=[],ridge_param = 0.0,dropouts=[0.0]):\n",
        "\n",
        "    model = Sequential()\n",
        "    model.add(Dropout(dropouts[0], input_shape=(num_features,)))\n",
        "    for idx in range(len(hidden)):\n",
        "      model.add(Dense(hidden[idx],activation = 'relu',kernel_regularizer=tf.keras.regularizers.l2(ridge_param)))\n",
        "      model.add(Dropout(dropouts[idx+1]))\n",
        "    model.add(Dense(1,activation='linear',kernel_regularizer=tf.keras.regularizers.l2(ridge_param)))\n",
        "    \n",
        "    optim = tf.keras.optimizers.Adam(lr=learning_rate)\n",
        "    \n",
        "    model.compile(loss='mae', optimizer=optim, metrics=['mae','mse'])\n",
        "    return model \n",
        "\n",
        "linreg = my_Dense(X_train_d.shape[1],learning_rate=0.001, hidden=[12, 12], ridge_param=0.001, dropouts=[0, 0.05, 0.05])\n",
        "linreg.summary()\n",
        "batch_size=64\n",
        "epochs=30\n",
        "linreg_history = linreg.fit(X_train_d, r_train_d,\n",
        "          batch_size=batch_size,\n",
        "          epochs=epochs,\n",
        "          verbose=1,\n",
        "          validation_data=(X_val_d, r_val_d),\n",
        "          shuffle=True)"
      ],
      "execution_count": 52,
      "outputs": [
        {
          "output_type": "stream",
          "text": [
            "Model: \"sequential_12\"\n",
            "_________________________________________________________________\n",
            "Layer (type)                 Output Shape              Param #   \n",
            "=================================================================\n",
            "dropout_24 (Dropout)         (None, 10)                0         \n",
            "_________________________________________________________________\n",
            "dense_23 (Dense)             (None, 12)                132       \n",
            "_________________________________________________________________\n",
            "dropout_25 (Dropout)         (None, 12)                0         \n",
            "_________________________________________________________________\n",
            "dense_24 (Dense)             (None, 12)                156       \n",
            "_________________________________________________________________\n",
            "dropout_26 (Dropout)         (None, 12)                0         \n",
            "_________________________________________________________________\n",
            "dense_25 (Dense)             (None, 1)                 13        \n",
            "=================================================================\n",
            "Total params: 301\n",
            "Trainable params: 301\n",
            "Non-trainable params: 0\n",
            "_________________________________________________________________\n",
            "Epoch 1/30\n",
            "411/411 [==============================] - 1s 2ms/step - loss: 86.0800 - mae: 86.0479 - mse: 15315.6359 - val_loss: 54.0058 - val_mae: 53.9211 - val_mse: 7122.8506\n",
            "Epoch 2/30\n",
            "411/411 [==============================] - 1s 1ms/step - loss: 41.1173 - mae: 41.0196 - mse: 3664.3288 - val_loss: 30.0631 - val_mae: 29.9530 - val_mse: 2452.3621\n",
            "Epoch 3/30\n",
            "411/411 [==============================] - 1s 1ms/step - loss: 29.9519 - mae: 29.8420 - mse: 2377.8389 - val_loss: 29.0356 - val_mae: 28.9272 - val_mse: 2426.1721\n",
            "Epoch 4/30\n",
            "411/411 [==============================] - 1s 1ms/step - loss: 28.7948 - mae: 28.6871 - mse: 2272.8826 - val_loss: 28.7728 - val_mae: 28.6675 - val_mse: 2383.5273\n",
            "Epoch 5/30\n",
            "411/411 [==============================] - 1s 1ms/step - loss: 28.6738 - mae: 28.5686 - mse: 2394.7633 - val_loss: 28.4604 - val_mae: 28.3565 - val_mse: 2370.9407\n",
            "Epoch 6/30\n",
            "411/411 [==============================] - 1s 1ms/step - loss: 28.5854 - mae: 28.4818 - mse: 2317.7114 - val_loss: 28.3229 - val_mae: 28.2208 - val_mse: 2355.8665\n",
            "Epoch 7/30\n",
            "411/411 [==============================] - 1s 2ms/step - loss: 27.9959 - mae: 27.8940 - mse: 2206.3403 - val_loss: 28.2002 - val_mae: 28.0986 - val_mse: 2356.7837\n",
            "Epoch 8/30\n",
            "411/411 [==============================] - 1s 2ms/step - loss: 28.2514 - mae: 28.1498 - mse: 2475.5174 - val_loss: 28.0902 - val_mae: 27.9901 - val_mse: 2327.2073\n",
            "Epoch 9/30\n",
            "411/411 [==============================] - 1s 1ms/step - loss: 28.3458 - mae: 28.2456 - mse: 2412.3140 - val_loss: 27.9551 - val_mae: 27.8544 - val_mse: 2338.3840\n",
            "Epoch 10/30\n",
            "411/411 [==============================] - 1s 1ms/step - loss: 27.4381 - mae: 27.3379 - mse: 2294.7757 - val_loss: 27.9454 - val_mae: 27.8450 - val_mse: 2334.1960\n",
            "Epoch 11/30\n",
            "411/411 [==============================] - 1s 1ms/step - loss: 27.3056 - mae: 27.2049 - mse: 2171.5180 - val_loss: 27.9284 - val_mae: 27.8276 - val_mse: 2316.8530\n",
            "Epoch 12/30\n",
            "411/411 [==============================] - 1s 2ms/step - loss: 27.3221 - mae: 27.2209 - mse: 2188.7646 - val_loss: 27.8999 - val_mae: 27.7980 - val_mse: 2305.8391\n",
            "Epoch 13/30\n",
            "411/411 [==============================] - 1s 1ms/step - loss: 27.0876 - mae: 26.9846 - mse: 2199.8441 - val_loss: 27.7566 - val_mae: 27.6521 - val_mse: 2312.7480\n",
            "Epoch 14/30\n",
            "411/411 [==============================] - 1s 1ms/step - loss: 27.4377 - mae: 27.3323 - mse: 2243.0088 - val_loss: 27.8580 - val_mae: 27.7509 - val_mse: 2316.9551\n",
            "Epoch 15/30\n",
            "411/411 [==============================] - 1s 1ms/step - loss: 27.0797 - mae: 26.9713 - mse: 2209.3493 - val_loss: 27.8257 - val_mae: 27.7152 - val_mse: 2303.2124\n",
            "Epoch 16/30\n",
            "411/411 [==============================] - 1s 1ms/step - loss: 27.6126 - mae: 27.5010 - mse: 2287.0066 - val_loss: 27.6692 - val_mae: 27.5533 - val_mse: 2328.6497\n",
            "Epoch 17/30\n",
            "411/411 [==============================] - 1s 1ms/step - loss: 27.1665 - mae: 27.0503 - mse: 2251.2115 - val_loss: 27.7300 - val_mae: 27.6115 - val_mse: 2300.0562\n",
            "Epoch 18/30\n",
            "411/411 [==============================] - 1s 1ms/step - loss: 27.0148 - mae: 26.8950 - mse: 2205.3471 - val_loss: 27.6524 - val_mae: 27.5290 - val_mse: 2310.4480\n",
            "Epoch 19/30\n",
            "411/411 [==============================] - 1s 1ms/step - loss: 26.8401 - mae: 26.7164 - mse: 2202.9306 - val_loss: 27.6730 - val_mae: 27.5463 - val_mse: 2300.0913\n",
            "Epoch 20/30\n",
            "411/411 [==============================] - 1s 1ms/step - loss: 26.7989 - mae: 26.6719 - mse: 2148.5240 - val_loss: 27.5656 - val_mae: 27.4348 - val_mse: 2317.6677\n",
            "Epoch 21/30\n",
            "411/411 [==============================] - 1s 1ms/step - loss: 26.6932 - mae: 26.5627 - mse: 2154.4408 - val_loss: 27.6172 - val_mae: 27.4846 - val_mse: 2301.2087\n",
            "Epoch 22/30\n",
            "411/411 [==============================] - 1s 1ms/step - loss: 27.1944 - mae: 27.0616 - mse: 2361.7457 - val_loss: 27.6555 - val_mae: 27.5214 - val_mse: 2283.8979\n",
            "Epoch 23/30\n",
            "411/411 [==============================] - 1s 2ms/step - loss: 26.3802 - mae: 26.2451 - mse: 2056.5570 - val_loss: 27.7192 - val_mae: 27.5831 - val_mse: 2283.0215\n",
            "Epoch 24/30\n",
            "411/411 [==============================] - 1s 1ms/step - loss: 26.9146 - mae: 26.7775 - mse: 2251.5387 - val_loss: 27.5933 - val_mae: 27.4545 - val_mse: 2281.2961\n",
            "Epoch 25/30\n",
            "411/411 [==============================] - 1s 2ms/step - loss: 26.4910 - mae: 26.3515 - mse: 2134.2307 - val_loss: 27.6758 - val_mae: 27.5356 - val_mse: 2287.7258\n",
            "Epoch 26/30\n",
            "411/411 [==============================] - 1s 1ms/step - loss: 27.0506 - mae: 26.9100 - mse: 2317.7097 - val_loss: 27.6536 - val_mae: 27.5119 - val_mse: 2286.8442\n",
            "Epoch 27/30\n",
            "411/411 [==============================] - 1s 1ms/step - loss: 26.6925 - mae: 26.5504 - mse: 2212.8206 - val_loss: 27.6660 - val_mae: 27.5225 - val_mse: 2288.5859\n",
            "Epoch 28/30\n",
            "411/411 [==============================] - 1s 1ms/step - loss: 26.8325 - mae: 26.6888 - mse: 2286.8734 - val_loss: 27.6154 - val_mae: 27.4703 - val_mse: 2287.6123\n",
            "Epoch 29/30\n",
            "411/411 [==============================] - 1s 1ms/step - loss: 26.4612 - mae: 26.3161 - mse: 2163.5457 - val_loss: 27.6378 - val_mae: 27.4922 - val_mse: 2287.0203\n",
            "Epoch 30/30\n",
            "411/411 [==============================] - 1s 1ms/step - loss: 26.3581 - mae: 26.2122 - mse: 2119.9492 - val_loss: 27.6194 - val_mae: 27.4722 - val_mse: 2282.8970\n"
          ],
          "name": "stdout"
        }
      ]
    },
    {
      "cell_type": "code",
      "metadata": {
        "colab": {
          "base_uri": "https://localhost:8080/",
          "height": 330
        },
        "id": "q_l1Vj1hEcJX",
        "outputId": "1b436814-291b-4f8b-efa4-1ee8745f32c3"
      },
      "source": [
        "def plot_history(history):\n",
        "  plt.figure(figsize = (6,4))\n",
        "  \n",
        "  plt.xlabel('Epoch')\n",
        "  plt.ylabel('Mae')\n",
        "  plt.plot(history.epoch, np.array(history.history['mae']),'g-',\n",
        "           label='Train MAE')\n",
        "  plt.plot(history.epoch, np.array(history.history['val_mae']),'r-',\n",
        "           label = 'Validation MAE')\n",
        "  plt.legend()\n",
        "  plt.show()\n",
        "\n",
        "plot_history(linreg_history)\n",
        "\n",
        "y_train_linreg = linreg.predict(X_train_d)\n",
        "y_val_linreg = linreg.predict(X_val_d)\n",
        "\n",
        "mae_train_linreg = mean_absolute_error(r_train_d,y_train_linreg)\n",
        "mae_val_linreg = mean_absolute_error(r_val_d,y_val_linreg)\n",
        "\n",
        "print(\"\\\"Current pollution\\\" baseline:\\n train mae = \",mae_train_linreg,\n",
        "      \"\\n validation mae = \",mae_val_linreg)"
      ],
      "execution_count": 53,
      "outputs": [
        {
          "output_type": "display_data",
          "data": {
            "image/png": "[encoded data removed]",
            "text/plain": [
              "<Figure size 432x288 with 1 Axes>"
            ]
          },
          "metadata": {
            "tags": [],
            "needs_background": "light"
          }
        },
        {
          "output_type": "stream",
          "text": [
            "\"Current pollution\" baseline:\n",
            " train mae =  25.123404 \n",
            " validation mae =  27.472187\n"
          ],
          "name": "stdout"
        }
      ]
    },
    {
      "cell_type": "code",
      "metadata": {
        "id": "py1Vy-tEFc6v"
      },
      "source": [
        "#Initial\n",
        "#train mae =  26.051659 \n",
        "#validation mae =  28.148123\n",
        "\n",
        "#Removed cv_strength feature\n",
        "#train mae =  26.052532 \n",
        "#validation mae =  28.147144\n",
        "\n",
        "#Adding one hidden layer (12 neurons) with l2=0.001, dropout=0.05\n",
        "#train mae =  25.307522 \n",
        "#validation mae =  27.613567\n",
        "\n",
        "#Adding two hidden layers (12, 12 neurons) with l2=0.001, dropout=0.05,0.05\n",
        "#train mae =  25.158009 \n",
        "#validation mae =  27.461634\n",
        "\n",
        "\n",
        "#TESTED:\n",
        "#Having both dew and temp is better than only having one of them or none of them\n",
        "#Same for snow and rain"
      ],
      "execution_count": null,
      "outputs": []
    }
  ]
}