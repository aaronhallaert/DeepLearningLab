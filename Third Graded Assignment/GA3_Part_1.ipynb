{
  "nbformat": 4,
  "nbformat_minor": 0,
  "metadata": {
    "colab": {
      "name": "GA3.ipynb",
      "provenance": [],
      "collapsed_sections": []
    },
    "kernelspec": {
      "name": "python3",
      "display_name": "Python 3"
    }
  },
  "cells": [
    {
      "cell_type": "code",
      "metadata": {
        "colab": {
          "base_uri": "https://localhost:8080/"
        },
        "id": "2c8di9NxAdlr",
        "outputId": "efec4450-eb28-4e30-ad77-7f7ed7e70f19"
      },
      "source": [
        "#imports and Drive mounting\n",
        "try:\n",
        "  # %tensorflow_version only exists in Colab.\n",
        "  %tensorflow_version 2.x\n",
        "except Exception:\n",
        "  pass\n",
        "\n",
        "# TensorFlow and tf.keras\n",
        "import tensorflow as tf\n",
        "from tensorflow import keras\n",
        "\n",
        "print(tf.__version__)\n",
        "\n",
        "# Helper libraries\n",
        "import numpy as np\n",
        "import matplotlib.pyplot as plt\n",
        "import matplotlib.gridspec as gridspec\n",
        "import sklearn as sk\n",
        "import pandas as pd\n",
        "from pandas import read_csv\n",
        "from datetime import datetime\n",
        "import math\n",
        "import os\n",
        "\n",
        "# fix random seed for reproducibility\n",
        "seed = 2020\n",
        "np.random.seed(seed)  \n",
        "\n",
        "from sklearn.model_selection import train_test_split\n",
        "\n",
        "from tensorflow.keras.datasets import cifar100\n",
        "from tensorflow.keras.preprocessing.image import ImageDataGenerator\n",
        "from tensorflow.keras.models import Sequential\n",
        "from tensorflow.keras.layers import Dense, Dropout, Flatten, BatchNormalization, Activation\n",
        "from tensorflow.keras.layers import Conv1D, MaxPooling1D, GlobalMaxPooling1D\n",
        "from tensorflow.keras.layers import LSTM, GRU\n",
        "from tensorflow.keras.regularizers import L1L2\n",
        "from tensorflow.keras.constraints import max_norm\n",
        "from tensorflow.keras.optimizers import Adam\n",
        "from tensorflow.keras.callbacks import EarlyStopping, ModelCheckpoint\n",
        "from tensorflow.keras.models import load_model\n",
        "from tensorflow.keras import optimizers\n",
        "from tensorflow.keras.losses import MAE\n",
        "from sklearn.preprocessing import StandardScaler\n",
        "from sklearn.metrics import mean_absolute_error"
      ],
      "execution_count": 1,
      "outputs": [
        {
          "output_type": "stream",
          "text": [
            "2.4.1\n"
          ],
          "name": "stdout"
        }
      ]
    },
    {
      "cell_type": "code",
      "metadata": {
        "colab": {
          "base_uri": "https://localhost:8080/"
        },
        "id": "dxsAyczmAsUX",
        "outputId": "b35f7f3e-3055-46f6-95fd-f70b4ede632f"
      },
      "source": [
        "from google.colab import drive\n",
        "drive.mount('/content/gdrive')"
      ],
      "execution_count": 2,
      "outputs": [
        {
          "output_type": "stream",
          "text": [
            "Mounted at /content/gdrive\n"
          ],
          "name": "stdout"
        }
      ]
    },
    {
      "cell_type": "code",
      "metadata": {
        "id": "_LLIODcWA_sD"
      },
      "source": [
        "DATAPATH = '/content/gdrive/My Drive/Colab Notebooks/DL2021/'  \n",
        "TRAINDATAFILE = DATAPATH+'preprocessed_train_data.csv'\n",
        "VALDATAFILE = DATAPATH+'preprocessed_val_data.csv'\n",
        "TESTDATAFILE = DATAPATH+'preprocessed_test_data.csv'\n",
        "\n",
        "train_dataset = read_csv(TRAINDATAFILE, header=0, index_col=0)\n",
        "val_dataset = read_csv(VALDATAFILE, header=0, index_col=0)\n",
        "test_dataset = read_csv(TESTDATAFILE, header=0, index_col=0)"
      ],
      "execution_count": 3,
      "outputs": []
    },
    {
      "cell_type": "code",
      "metadata": {
        "colab": {
          "base_uri": "https://localhost:8080/"
        },
        "id": "Lp0ah9RNBPQc",
        "outputId": "654216f9-b7f3-43bb-ab65-12becf6bc25a"
      },
      "source": [
        "features = [1, 3, 4, 5, 6, 7, 9, 10, 13, 14, 15, 16]\n",
        "pollution = 4\n",
        "\n",
        "train_values = np.asarray(train_dataset.values[:,features],dtype=np.float32)\n",
        "train_labels = np.asarray(train_dataset.values[:,pollution],dtype=np.float32)\n",
        "val_values = np.asarray(val_dataset.values[:,features],dtype=np.float32)\n",
        "val_labels = np.asarray(val_dataset.values[:,pollution],dtype=np.float32)\n",
        "\n",
        "train_all_values = np.concatenate((train_values,val_values))\n",
        "train_all_labels = np.concatenate((train_labels,val_labels))\n",
        "\n",
        "test_values = np.asarray(test_dataset.values[:,features],dtype=np.float32)\n",
        "test_labels = np.asarray(test_dataset.values[:,pollution],dtype=np.float32)\n",
        "\n",
        "\n",
        "print(train_values.shape)\n",
        "print(train_labels.shape)\n",
        "print(val_values.shape)\n",
        "print(val_labels.shape)\n",
        "\n",
        "print(train_all_values.shape)\n",
        "print(train_all_labels.shape)\n",
        "\n",
        "print(test_values.shape)\n",
        "print(test_labels.shape)\n"
      ],
      "execution_count": 4,
      "outputs": [
        {
          "output_type": "stream",
          "text": [
            "(26280, 12)\n",
            "(26280,)\n",
            "(8760, 12)\n",
            "(8760,)\n",
            "(35040, 12)\n",
            "(35040,)\n",
            "(8760, 12)\n",
            "(8760,)\n"
          ],
          "name": "stdout"
        }
      ]
    },
    {
      "cell_type": "code",
      "metadata": {
        "id": "7bl-Wxz7Crpu"
      },
      "source": [
        "SS1 = StandardScaler()\n",
        "SS1.fit(train_values)\n",
        "\n",
        "train_scaled = SS1.transform(train_values)\n",
        "val_scaled = SS1.transform(val_values)"
      ],
      "execution_count": 5,
      "outputs": []
    },
    {
      "cell_type": "code",
      "metadata": {
        "id": "YoE3xtwvDje1"
      },
      "source": [
        "def create_dataset_dense(train, test, ahead=3):   # can use this with different 'ahead' values, but default is set to 3\n",
        "    return train[:-ahead,:], test[ahead:]\n",
        "\n",
        "X_train_d,r_train_d = create_dataset_dense(train_scaled,train_labels)\n",
        "X_val_d,r_val_d = create_dataset_dense(val_scaled,val_labels)"
      ],
      "execution_count": 6,
      "outputs": []
    },
    {
      "cell_type": "code",
      "metadata": {
        "colab": {
          "base_uri": "https://localhost:8080/"
        },
        "id": "-xjJISzqD4sZ",
        "outputId": "51f6c6d4-b25f-41fa-89e1-00d449fc3052"
      },
      "source": [
        "def my_Dense(num_features,learning_rate=0.001,hidden=[],ridge_param = 0.0,dropouts=[0.0]):\n",
        "\n",
        "    model = Sequential()\n",
        "    model.add(Dropout(dropouts[0], input_shape=(num_features,)))\n",
        "    for idx in range(len(hidden)):\n",
        "      model.add(Dense(hidden[idx],activation = 'relu',kernel_regularizer=tf.keras.regularizers.l2(ridge_param)))\n",
        "      model.add(Dropout(dropouts[idx+1]))\n",
        "    model.add(Dense(1,activation='linear',kernel_regularizer=tf.keras.regularizers.l2(ridge_param)))\n",
        "    \n",
        "    optim = tf.keras.optimizers.Adam(lr=learning_rate)\n",
        "    \n",
        "    model.compile(loss='mae', optimizer=optim, metrics=['mae','mse'])\n",
        "    return model \n",
        "\n",
        "linreg = my_Dense(X_train_d.shape[1],learning_rate=0.001, hidden=[12, 12], ridge_param=0.001, dropouts=[0, 0.05, 0.05])\n",
        "linreg.summary()\n",
        "batch_size=64\n",
        "epochs=30\n",
        "linreg_history = linreg.fit(X_train_d, r_train_d,\n",
        "          batch_size=batch_size,\n",
        "          epochs=epochs,\n",
        "          verbose=1,\n",
        "          validation_data=(X_val_d, r_val_d),\n",
        "          shuffle=True)"
      ],
      "execution_count": 7,
      "outputs": [
        {
          "output_type": "stream",
          "text": [
            "Model: \"sequential\"\n",
            "_________________________________________________________________\n",
            "Layer (type)                 Output Shape              Param #   \n",
            "=================================================================\n",
            "dropout (Dropout)            (None, 12)                0         \n",
            "_________________________________________________________________\n",
            "dense (Dense)                (None, 12)                156       \n",
            "_________________________________________________________________\n",
            "dropout_1 (Dropout)          (None, 12)                0         \n",
            "_________________________________________________________________\n",
            "dense_1 (Dense)              (None, 12)                156       \n",
            "_________________________________________________________________\n",
            "dropout_2 (Dropout)          (None, 12)                0         \n",
            "_________________________________________________________________\n",
            "dense_2 (Dense)              (None, 1)                 13        \n",
            "=================================================================\n",
            "Total params: 325\n",
            "Trainable params: 325\n",
            "Non-trainable params: 0\n",
            "_________________________________________________________________\n",
            "Epoch 1/30\n",
            "411/411 [==============================] - 2s 3ms/step - loss: 86.2592 - mae: 86.2250 - mse: 15373.1722 - val_loss: 63.8581 - val_mae: 63.7787 - val_mse: 10333.3496\n",
            "Epoch 2/30\n",
            "411/411 [==============================] - 1s 1ms/step - loss: 49.1321 - mae: 49.0426 - mse: 5241.1014 - val_loss: 33.4270 - val_mae: 33.3193 - val_mse: 2662.2737\n",
            "Epoch 3/30\n",
            "411/411 [==============================] - 1s 1ms/step - loss: 31.7897 - mae: 31.6805 - mse: 2654.4933 - val_loss: 29.5250 - val_mae: 29.4140 - val_mse: 2425.9912\n",
            "Epoch 4/30\n",
            "411/411 [==============================] - 1s 1ms/step - loss: 30.0502 - mae: 29.9396 - mse: 2565.8325 - val_loss: 29.0268 - val_mae: 28.9169 - val_mse: 2400.5491\n",
            "Epoch 5/30\n",
            "411/411 [==============================] - 1s 1ms/step - loss: 28.9382 - mae: 28.8286 - mse: 2362.1560 - val_loss: 28.6562 - val_mae: 28.5461 - val_mse: 2383.4988\n",
            "Epoch 6/30\n",
            "411/411 [==============================] - 1s 1ms/step - loss: 28.7874 - mae: 28.6777 - mse: 2454.7097 - val_loss: 28.6716 - val_mae: 28.5622 - val_mse: 2375.3591\n",
            "Epoch 7/30\n",
            "411/411 [==============================] - 1s 1ms/step - loss: 28.4637 - mae: 28.3542 - mse: 2348.3649 - val_loss: 28.3993 - val_mae: 28.2891 - val_mse: 2345.0681\n",
            "Epoch 8/30\n",
            "411/411 [==============================] - 1s 1ms/step - loss: 28.2134 - mae: 28.1025 - mse: 2244.2714 - val_loss: 28.2300 - val_mae: 28.1177 - val_mse: 2349.9651\n",
            "Epoch 9/30\n",
            "411/411 [==============================] - 1s 1ms/step - loss: 28.0108 - mae: 27.8981 - mse: 2294.7317 - val_loss: 28.2960 - val_mae: 28.1828 - val_mse: 2333.7981\n",
            "Epoch 10/30\n",
            "411/411 [==============================] - 1s 1ms/step - loss: 28.0703 - mae: 27.9562 - mse: 2295.9333 - val_loss: 28.2615 - val_mae: 28.1457 - val_mse: 2333.9265\n",
            "Epoch 11/30\n",
            "411/411 [==============================] - 1s 1ms/step - loss: 28.1029 - mae: 27.9859 - mse: 2265.4308 - val_loss: 28.1274 - val_mae: 28.0082 - val_mse: 2336.9724\n",
            "Epoch 12/30\n",
            "411/411 [==============================] - 1s 1ms/step - loss: 27.5528 - mae: 27.4329 - mse: 2330.5754 - val_loss: 28.0845 - val_mae: 27.9627 - val_mse: 2325.6611\n",
            "Epoch 13/30\n",
            "411/411 [==============================] - 1s 1ms/step - loss: 27.5234 - mae: 27.4008 - mse: 2241.7676 - val_loss: 28.0186 - val_mae: 27.8936 - val_mse: 2318.5532\n",
            "Epoch 14/30\n",
            "411/411 [==============================] - 1s 1ms/step - loss: 27.5068 - mae: 27.3817 - mse: 2269.2489 - val_loss: 28.1104 - val_mae: 27.9835 - val_mse: 2324.8032\n",
            "Epoch 15/30\n",
            "411/411 [==============================] - 1s 1ms/step - loss: 27.3994 - mae: 27.2716 - mse: 2176.0932 - val_loss: 28.1742 - val_mae: 28.0456 - val_mse: 2318.5557\n",
            "Epoch 16/30\n",
            "411/411 [==============================] - 1s 1ms/step - loss: 27.5078 - mae: 27.3783 - mse: 2216.5661 - val_loss: 28.1686 - val_mae: 28.0380 - val_mse: 2319.3667\n",
            "Epoch 17/30\n",
            "411/411 [==============================] - 1s 1ms/step - loss: 27.1889 - mae: 27.0576 - mse: 2161.2521 - val_loss: 28.1353 - val_mae: 28.0036 - val_mse: 2321.2900\n",
            "Epoch 18/30\n",
            "411/411 [==============================] - 1s 1ms/step - loss: 27.8070 - mae: 27.6748 - mse: 2342.6902 - val_loss: 28.0738 - val_mae: 27.9406 - val_mse: 2318.5300\n",
            "Epoch 19/30\n",
            "411/411 [==============================] - 1s 1ms/step - loss: 27.0343 - mae: 26.9007 - mse: 2202.4097 - val_loss: 27.9140 - val_mae: 27.7791 - val_mse: 2318.3811\n",
            "Epoch 20/30\n",
            "411/411 [==============================] - 1s 1ms/step - loss: 27.4016 - mae: 27.2667 - mse: 2246.1891 - val_loss: 27.9137 - val_mae: 27.7776 - val_mse: 2321.1926\n",
            "Epoch 21/30\n",
            "411/411 [==============================] - 1s 1ms/step - loss: 27.7955 - mae: 27.6595 - mse: 2403.2123 - val_loss: 27.9406 - val_mae: 27.8042 - val_mse: 2317.1167\n",
            "Epoch 22/30\n",
            "411/411 [==============================] - 1s 1ms/step - loss: 27.3459 - mae: 27.2092 - mse: 2255.6769 - val_loss: 28.0171 - val_mae: 27.8803 - val_mse: 2311.8926\n",
            "Epoch 23/30\n",
            "411/411 [==============================] - 1s 1ms/step - loss: 27.1682 - mae: 27.0310 - mse: 2227.5388 - val_loss: 28.1516 - val_mae: 28.0138 - val_mse: 2314.4666\n",
            "Epoch 24/30\n",
            "411/411 [==============================] - 1s 1ms/step - loss: 27.1308 - mae: 26.9923 - mse: 2194.1140 - val_loss: 27.9469 - val_mae: 27.8069 - val_mse: 2310.3730\n",
            "Epoch 25/30\n",
            "411/411 [==============================] - 1s 1ms/step - loss: 27.6288 - mae: 27.4886 - mse: 2316.7771 - val_loss: 27.8732 - val_mae: 27.7313 - val_mse: 2314.7339\n",
            "Epoch 26/30\n",
            "411/411 [==============================] - 1s 1ms/step - loss: 27.1139 - mae: 26.9725 - mse: 2192.7666 - val_loss: 27.9735 - val_mae: 27.8311 - val_mse: 2310.4983\n",
            "Epoch 27/30\n",
            "411/411 [==============================] - 1s 1ms/step - loss: 26.9256 - mae: 26.7831 - mse: 2177.1118 - val_loss: 27.8647 - val_mae: 27.7206 - val_mse: 2317.7131\n",
            "Epoch 28/30\n",
            "411/411 [==============================] - 1s 1ms/step - loss: 27.1633 - mae: 27.0194 - mse: 2176.5585 - val_loss: 27.8332 - val_mae: 27.6883 - val_mse: 2324.7690\n",
            "Epoch 29/30\n",
            "411/411 [==============================] - 1s 1ms/step - loss: 26.9677 - mae: 26.8232 - mse: 2197.3997 - val_loss: 27.9518 - val_mae: 27.8066 - val_mse: 2316.9094\n",
            "Epoch 30/30\n",
            "411/411 [==============================] - 1s 1ms/step - loss: 26.8702 - mae: 26.7249 - mse: 2189.7306 - val_loss: 27.9101 - val_mae: 27.7637 - val_mse: 2307.0979\n"
          ],
          "name": "stdout"
        }
      ]
    },
    {
      "cell_type": "code",
      "metadata": {
        "colab": {
          "base_uri": "https://localhost:8080/",
          "height": 332
        },
        "id": "q_l1Vj1hEcJX",
        "outputId": "44e3258e-97c4-491f-86af-eab29b6d97b2"
      },
      "source": [
        "def plot_history(history):\n",
        "  plt.figure(figsize = (6,4))\n",
        "  \n",
        "  plt.xlabel('Epoch')\n",
        "  plt.ylabel('Mae')\n",
        "  plt.plot(history.epoch, np.array(history.history['mae']),'g-',\n",
        "           label='Train MAE')\n",
        "  plt.plot(history.epoch, np.array(history.history['val_mae']),'r-',\n",
        "           label = 'Validation MAE')\n",
        "  plt.legend()\n",
        "  plt.show()\n",
        "\n",
        "plot_history(linreg_history)\n",
        "\n",
        "y_train_linreg = linreg.predict(X_train_d)\n",
        "y_val_linreg = linreg.predict(X_val_d)\n",
        "\n",
        "mae_train_linreg = mean_absolute_error(r_train_d,y_train_linreg)\n",
        "mae_val_linreg = mean_absolute_error(r_val_d,y_val_linreg)\n",
        "\n",
        "print(\"\\\"Current pollution\\\" baseline:\\n train mae = \",mae_train_linreg,\n",
        "      \"\\n validation mae = \",mae_val_linreg)"
      ],
      "execution_count": 8,
      "outputs": [
        {
          "output_type": "display_data",
          "data": {
            "image/png": "[encoded data removed]",
            "text/plain": [
              "<Figure size 432x288 with 1 Axes>"
            ]
          },
          "metadata": {
            "tags": [],
            "needs_background": "light"
          }
        },
        {
          "output_type": "stream",
          "text": [
            "\"Current pollution\" baseline:\n",
            " train mae =  25.365208 \n",
            " validation mae =  27.763733\n"
          ],
          "name": "stdout"
        }
      ]
    },
    {
      "cell_type": "code",
      "metadata": {
        "id": "py1Vy-tEFc6v"
      },
      "source": [
        "#Initial\n",
        "#train mae =  26.051659 \n",
        "#validation mae =  28.148123\n",
        "\n",
        "#Removed cv_strength feature\n",
        "#train mae =  26.052532 \n",
        "#validation mae =  28.147144\n",
        "\n",
        "#Adding one hidden layer (12 neurons) with l2=0.001, dropout=0.05\n",
        "#train mae =  25.307522 \n",
        "#validation mae =  27.613567\n",
        "\n",
        "#Adding two hidden layers (12, 12 neurons) with l2=0.001, dropout=0.05,0.05\n",
        "#train mae =  25.158009 \n",
        "#validation mae =  27.461634\n",
        "\n",
        "\n",
        "#TESTED:\n",
        "#Having both dew and temp is better than only having one of them or none of them\n",
        "#Same for snow and rain"
      ],
      "execution_count": null,
      "outputs": []
    }
  ]
}