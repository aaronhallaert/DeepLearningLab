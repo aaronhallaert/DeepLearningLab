{
  "nbformat": 4,
  "nbformat_minor": 0,
  "metadata": {
    "colab": {
      "name": "GA1 - Train Init.ipynb",
      "provenance": [],
      "authorship_tag": "ABX9TyOCaOvp7lzAX0yZMt5Z9KeT"
    },
    "kernelspec": {
      "name": "python3",
      "display_name": "Python 3"
    }
  },
  "cells": [
    {
      "cell_type": "markdown",
      "metadata": {
        "id": "u2aKnWDyp0PT"
      },
      "source": [
        "# First Graded Assignment \r\n",
        "## (Aaron - Architecture 1)"
      ]
    },
    {
      "cell_type": "markdown",
      "metadata": {
        "id": "Us0MnVh_rW0Q"
      },
      "source": [
        "## Setup"
      ]
    },
    {
      "cell_type": "markdown",
      "metadata": {
        "id": "c7ib5c57qAJs"
      },
      "source": [
        "### Init modules and helper functions\r\n",
        "Load modules and set seed"
      ]
    },
    {
      "cell_type": "code",
      "metadata": {
        "id": "PQ-XU9TLpyHK",
        "colab": {
          "base_uri": "https://localhost:8080/"
        },
        "outputId": "a2efc97d-bde4-4fb7-826b-56852a7ada37"
      },
      "source": [
        "try:\r\n",
        "  # %tensorflow_version only exists in Colab.\r\n",
        "  %tensorflow_version 2.x\r\n",
        "except Exception:\r\n",
        "  pass\r\n",
        "\r\n",
        "# TensorFlow and tf.keras\r\n",
        "import tensorflow as tf\r\n",
        "from tensorflow import keras\r\n",
        "\r\n",
        "print(tf.__version__)\r\n",
        "\r\n",
        "# Helper libraries\r\n",
        "import numpy as np\r\n",
        "import matplotlib.pyplot as plt\r\n",
        "import sklearn as sk\r\n",
        "import pandas as pd\r\n",
        "\r\n",
        "# fix random seed for reproducibility\r\n",
        "seed = 2021\r\n",
        "np.random.seed(seed)  \r\n",
        "\r\n",
        "import sklearn as sk\r\n",
        "from sklearn.model_selection import train_test_split\r\n",
        "\r\n",
        "from tensorflow.keras.datasets import mnist\r\n",
        "from tensorflow.keras.models import Sequential\r\n",
        "from tensorflow.keras.layers import Dense, Dropout\r\n",
        "from tensorflow.keras.optimizers import Adam\r\n",
        "from tensorflow.keras.constraints import max_norm\r\n",
        "from tensorflow.keras.callbacks import EarlyStopping, ModelCheckpoint\r\n",
        "from tensorflow.keras.models import load_model"
      ],
      "execution_count": 1,
      "outputs": [
        {
          "output_type": "stream",
          "text": [
            "2.4.1\n"
          ],
          "name": "stdout"
        }
      ]
    },
    {
      "cell_type": "markdown",
      "metadata": {
        "id": "gih7AYCrqITl"
      },
      "source": [
        "Helper function to plot history"
      ]
    },
    {
      "cell_type": "code",
      "metadata": {
        "id": "rL5nGo4s-PyD"
      },
      "source": [
        "#helper functions for visualisation\n",
        "\n",
        "# same function as in the getting started notebook, \n",
        "# but now plotting the loss functions used in this notebook\n",
        "# we plot the loss we want to optimise on th eleft (in this case: accuracy)\n",
        "def plot_history(history):\n",
        "  plt.figure(figsize = (12,4))\n",
        "  plt.subplot(1,2,1)\n",
        "\n",
        "  plt.xlabel('Epoch')\n",
        "  plt.ylabel('Accuracy')\n",
        "  plt.plot(history.epoch, np.array(history.history['accuracy']),'g-',\n",
        "           label='Train accuracy')\n",
        "  plt.plot(history.epoch, np.array(history.history['val_accuracy']),'r-',\n",
        "           label = 'Validation accuracy')\n",
        "  plt.legend()\n",
        "\n",
        "  plt.subplot(1,2,2)\n",
        "  plt.xlabel('Epoch')\n",
        "  plt.ylabel('Loss minimised by model')\n",
        "  plt.plot(history.epoch, np.array(history.history['loss']),'g-',\n",
        "           label='Train loss')\n",
        "  plt.plot(history.epoch, np.array(history.history['val_loss']),'r-',\n",
        "           label = 'Validation loss')\n",
        "  plt.legend()"
      ],
      "execution_count": 2,
      "outputs": []
    },
    {
      "cell_type": "markdown",
      "metadata": {
        "id": "diH1fR8GqPdy"
      },
      "source": [
        "### Mounting Google Drive"
      ]
    },
    {
      "cell_type": "code",
      "metadata": {
        "id": "FkPQKyYsqSkr",
        "colab": {
          "base_uri": "https://localhost:8080/"
        },
        "outputId": "9c5343f5-4c27-460e-b3a8-a77ef33c0bc5"
      },
      "source": [
        "from google.colab import drive\r\n",
        "drive.mount('/content/gdrive')\r\n",
        "\r\n",
        "import os\r\n",
        "\r\n",
        "#!ls '/content/gdrive/My Drive/'"
      ],
      "execution_count": 3,
      "outputs": [
        {
          "output_type": "stream",
          "text": [
            "Drive already mounted at /content/gdrive; to attempt to forcibly remount, call drive.mount(\"/content/gdrive\", force_remount=True).\n"
          ],
          "name": "stdout"
        }
      ]
    },
    {
      "cell_type": "markdown",
      "metadata": {
        "id": "Bjb18F3cqdYp"
      },
      "source": [
        "### Loading and visualizing the data"
      ]
    },
    {
      "cell_type": "code",
      "metadata": {
        "id": "zuoepw55qh7c",
        "colab": {
          "base_uri": "https://localhost:8080/"
        },
        "outputId": "9bbb24e9-7cf3-48f1-fae0-0a00668f7e37"
      },
      "source": [
        "# load train and test data\r\n",
        "(x_train_all, r_train_all_class), (x_test, r_test_class) = mnist.load_data()\r\n",
        "x_train_all = x_train_all.reshape(x_train_all.shape[0], -1)\r\n",
        "x_test = x_test.reshape(x_test.shape[0], -1)\r\n",
        "\r\n",
        "# some preprocessing ... convert integers to floating point and rescale them to [0,1] range\r\n",
        "x_train_all = x_train_all.astype('float32')\r\n",
        "x_test = x_test.astype('float32')\r\n",
        "x_train_all /= 255\r\n",
        "x_test /= 255\r\n",
        "\r\n",
        "print(x_train_all.shape[0], ' original train samples')\r\n",
        "print(x_test.shape[0], ' original test samples')\r\n",
        "\r\n",
        "# This data set contains a train set and test set\r\n",
        "# we still need to split off a validation set\r\n",
        "\r\n",
        "# Number of test samples\r\n",
        "N_test = x_test.shape[0]\r\n",
        "\r\n",
        "# split off 10000 samples for validation\r\n",
        "N_val = 10000\r\n",
        "N_train = x_train_all.shape[0] - N_val\r\n",
        "\r\n",
        "# now extract the samples into train, validate and test sets\r\n",
        "# set random state to make sure you get the same split each time\r\n",
        "x_train, x_val, r_train_class, r_val_class = train_test_split(x_train_all, r_train_all_class, test_size = N_val, random_state=0)\r\n",
        "\r\n",
        "# For initial explorations, it is often useful to \r\n",
        "# try out some things first on a smaller data set\r\n",
        "# in comment below is the code for using all training data\r\n",
        "# in this case, we select 10000 samples for training\r\n",
        "# don't forget to use all training examples for your final model\r\n",
        "# by replacing the line below by the commented one beneath it\r\n",
        "\r\n",
        "# CHANGE!\r\n",
        "\r\n",
        "#N_train = 10000\r\n",
        "\r\n",
        "x_train = x_train[:N_train,:]\r\n",
        "r_train_class = r_train_class[:N_train]\r\n",
        "\r\n",
        "print(\"Using \",x_train.shape[0],\" train samples, \", x_val.shape[0], \" validation samples and \",x_test.shape[0],\" test samples\")\r\n",
        "print(\"Each sample has \",x_train.shape[1],\" features\")"
      ],
      "execution_count": 4,
      "outputs": [
        {
          "output_type": "stream",
          "text": [
            "60000  original train samples\n",
            "10000  original test samples\n",
            "Using  50000  train samples,  10000  validation samples and  10000  test samples\n",
            "Each sample has  784  features\n"
          ],
          "name": "stdout"
        }
      ]
    },
    {
      "cell_type": "code",
      "metadata": {
        "id": "tqKL4kOuq2DY",
        "colab": {
          "base_uri": "https://localhost:8080/",
          "height": 644
        },
        "outputId": "69ec7a76-fc32-4d74-8032-ae99f1a4ce34"
      },
      "source": [
        "# The features in this data set are the pixels of a 28x28 pixel image\r\n",
        "# You can visualise an individual image as follows\r\n",
        "# (here for the first 9 images in the training set)\r\n",
        "\r\n",
        "f = plt.figure(figsize=(10,10));\r\n",
        "for idx in range(9):\r\n",
        "    plt.subplot(3,3,idx+1)\r\n",
        "    plt.subplots_adjust(hspace=0.5)\r\n",
        "    plt.title(\"Label is \" + str(r_train_class[idx]))\r\n",
        "    plt.imshow(np.reshape(x_train[idx,:],(28,28)), cmap='Greys', interpolation='None')\r\n",
        "\r\n",
        "# The labels are numbers from 0 to 9\r\n",
        "print(\"A few labels:\")\r\n",
        "print(r_train_class[:9])"
      ],
      "execution_count": 5,
      "outputs": [
        {
          "output_type": "stream",
          "text": [
            "A few labels:\n",
            "[7 6 4 2 5 9 1 8 8]\n"
          ],
          "name": "stdout"
        },
        {
          "output_type": "display_data",
          "data": {
            "image/png": "[encoded data removed]",
            "text/plain": [
              "<Figure size 720x720 with 9 Axes>"
            ]
          },
          "metadata": {
            "tags": [],
            "needs_background": "light"
          }
        }
      ]
    },
    {
      "cell_type": "markdown",
      "metadata": {
        "id": "r7JGQyBBrBO5"
      },
      "source": [
        "### Convert labels for multiclass"
      ]
    },
    {
      "cell_type": "code",
      "metadata": {
        "id": "c4cdY2CLrHBO"
      },
      "source": [
        "r_train_all = keras.utils.to_categorical(r_train_all_class)\r\n",
        "r_train = keras.utils.to_categorical(r_train_class)\r\n",
        "r_val = keras.utils.to_categorical(r_val_class)\r\n",
        "r_test = keras.utils.to_categorical(r_test_class)\r\n",
        "\r\n",
        "# look at the new labels"
      ],
      "execution_count": 6,
      "outputs": []
    },
    {
      "cell_type": "markdown",
      "metadata": {
        "id": "pOp6909arNvK"
      },
      "source": [
        "## Model Architecture"
      ]
    },
    {
      "cell_type": "code",
      "metadata": {
        "id": "LsmJgf1QrS16"
      },
      "source": [
        "num_classes = 10\r\n",
        "\r\n",
        "# this first network has 2 hidden layers\r\n",
        "# the first layer needs to be told explicitly what the input shape is\r\n",
        "# the output layer has 10 neurons: one neuron per class\r\n",
        "\r\n",
        "# Note that we use the \"He\" initialisation scheme here, since this is often advised \r\n",
        "# for layers with ReLu neurons - although you are free to change this, it is not necessary for this assignment\r\n",
        "\r\n",
        "# Also note that \"dropout\" is implemented in separate layers in Keras\r\n",
        "# they are added below in comment to show you how to use them\r\n",
        "# note that you can also start your network with a dropout layer (randomly setting input features to 0)\r\n",
        "\r\n",
        "def initial_model():\r\n",
        "    # create linear model\r\n",
        "    model = Sequential()\r\n",
        "    # we start with a first fully connected layer\r\n",
        "    model.add(Dense(392, activation='relu', input_shape=(784,), kernel_initializer='he_uniform'))\r\n",
        "    ## then add some dropout, set at a very low value for now\r\n",
        "    model.add(Dropout(0.5))\r\n",
        "    # a second dense layer with half as many neurons\r\n",
        "    model.add(Dense(64, activation='relu', kernel_initializer='he_uniform'))\r\n",
        "    ## some more dropout\r\n",
        "    model.add(Dropout(0.005))\r\n",
        "    # and the output layer\r\n",
        "    model.add(Dense(num_classes, activation='softmax'))\r\n",
        "\r\n",
        "    model.compile(loss='categorical_crossentropy',\r\n",
        "                  optimizer=Adam(learning_rate=0.0025), # set to default learning rate here\r\n",
        "                  metrics=['accuracy']) # save accuracy in addition to cross entropy error\r\n",
        "    return model"
      ],
      "execution_count": 7,
      "outputs": []
    },
    {
      "cell_type": "markdown",
      "metadata": {
        "id": "nJ5Riys4t5ro"
      },
      "source": [
        "## Final model and analysis\r\n",
        "All train data, basic measurements on testdata"
      ]
    },
    {
      "cell_type": "markdown",
      "metadata": {
        "id": "nVM2IoorvIq7"
      },
      "source": [
        "### Retrain on all data"
      ]
    },
    {
      "cell_type": "code",
      "metadata": {
        "id": "Pcu_lr0Ot-lz",
        "colab": {
          "base_uri": "https://localhost:8080/"
        },
        "outputId": "8dccae03-49cd-4f3f-fe79-437fc08c6dca"
      },
      "source": [
        "model_for_test = initial_model()\r\n",
        "model_for_test.summary()\r\n",
        "\r\n",
        "# We now add batch size to the mix of training parameters\r\n",
        "# If you don't specify batch size below, all training data will be used for each learning step\r\n",
        "batch_size = 1024\r\n",
        "epochs = 40\r\n",
        "\r\n",
        "history_for_test = model_for_test.fit(x_train_all, r_train_all,\r\n",
        "                    batch_size=batch_size,\r\n",
        "                    epochs=epochs,\r\n",
        "                    verbose=1\r\n",
        "                    )\r\n"
      ],
      "execution_count": 8,
      "outputs": [
        {
          "output_type": "stream",
          "text": [
            "Model: \"sequential\"\n",
            "_________________________________________________________________\n",
            "Layer (type)                 Output Shape              Param #   \n",
            "=================================================================\n",
            "dense (Dense)                (None, 392)               307720    \n",
            "_________________________________________________________________\n",
            "dropout (Dropout)            (None, 392)               0         \n",
            "_________________________________________________________________\n",
            "dense_1 (Dense)              (None, 64)                25152     \n",
            "_________________________________________________________________\n",
            "dropout_1 (Dropout)          (None, 64)                0         \n",
            "_________________________________________________________________\n",
            "dense_2 (Dense)              (None, 10)                650       \n",
            "=================================================================\n",
            "Total params: 333,522\n",
            "Trainable params: 333,522\n",
            "Non-trainable params: 0\n",
            "_________________________________________________________________\n",
            "Epoch 1/40\n",
            "59/59 [==============================] - 3s 38ms/step - loss: 0.9332 - accuracy: 0.7013\n",
            "Epoch 2/40\n",
            "59/59 [==============================] - 2s 37ms/step - loss: 0.2173 - accuracy: 0.9351\n",
            "Epoch 3/40\n",
            "59/59 [==============================] - 2s 39ms/step - loss: 0.1600 - accuracy: 0.9520\n",
            "Epoch 4/40\n",
            "59/59 [==============================] - 2s 38ms/step - loss: 0.1280 - accuracy: 0.9599\n",
            "Epoch 5/40\n",
            "59/59 [==============================] - 2s 38ms/step - loss: 0.1104 - accuracy: 0.9652\n",
            "Epoch 6/40\n",
            "59/59 [==============================] - 2s 37ms/step - loss: 0.0975 - accuracy: 0.9698\n",
            "Epoch 7/40\n",
            "59/59 [==============================] - 2s 38ms/step - loss: 0.0818 - accuracy: 0.9743\n",
            "Epoch 8/40\n",
            "59/59 [==============================] - 2s 38ms/step - loss: 0.0745 - accuracy: 0.9759\n",
            "Epoch 9/40\n",
            "59/59 [==============================] - 2s 38ms/step - loss: 0.0677 - accuracy: 0.9781\n",
            "Epoch 10/40\n",
            "59/59 [==============================] - 2s 38ms/step - loss: 0.0643 - accuracy: 0.9793\n",
            "Epoch 11/40\n",
            "59/59 [==============================] - 2s 38ms/step - loss: 0.0584 - accuracy: 0.9813\n",
            "Epoch 12/40\n",
            "59/59 [==============================] - 2s 38ms/step - loss: 0.0574 - accuracy: 0.9809\n",
            "Epoch 13/40\n",
            "59/59 [==============================] - 2s 38ms/step - loss: 0.0514 - accuracy: 0.9827\n",
            "Epoch 14/40\n",
            "59/59 [==============================] - 2s 38ms/step - loss: 0.0510 - accuracy: 0.9825\n",
            "Epoch 15/40\n",
            "59/59 [==============================] - 2s 37ms/step - loss: 0.0471 - accuracy: 0.9843\n",
            "Epoch 16/40\n",
            "59/59 [==============================] - 2s 38ms/step - loss: 0.0504 - accuracy: 0.9834\n",
            "Epoch 17/40\n",
            "59/59 [==============================] - 2s 38ms/step - loss: 0.0425 - accuracy: 0.9861\n",
            "Epoch 18/40\n",
            "59/59 [==============================] - 2s 38ms/step - loss: 0.0385 - accuracy: 0.9875\n",
            "Epoch 19/40\n",
            "59/59 [==============================] - 2s 38ms/step - loss: 0.0355 - accuracy: 0.9883\n",
            "Epoch 20/40\n",
            "59/59 [==============================] - 2s 38ms/step - loss: 0.0385 - accuracy: 0.9870\n",
            "Epoch 21/40\n",
            "59/59 [==============================] - 2s 38ms/step - loss: 0.0366 - accuracy: 0.9875\n",
            "Epoch 22/40\n",
            "59/59 [==============================] - 2s 37ms/step - loss: 0.0397 - accuracy: 0.9867\n",
            "Epoch 23/40\n",
            "59/59 [==============================] - 2s 38ms/step - loss: 0.0343 - accuracy: 0.9883\n",
            "Epoch 24/40\n",
            "59/59 [==============================] - 2s 38ms/step - loss: 0.0361 - accuracy: 0.9877\n",
            "Epoch 25/40\n",
            "59/59 [==============================] - 2s 39ms/step - loss: 0.0350 - accuracy: 0.9880\n",
            "Epoch 26/40\n",
            "59/59 [==============================] - 2s 38ms/step - loss: 0.0363 - accuracy: 0.9874\n",
            "Epoch 27/40\n",
            "59/59 [==============================] - 2s 38ms/step - loss: 0.0317 - accuracy: 0.9886\n",
            "Epoch 28/40\n",
            "59/59 [==============================] - 2s 38ms/step - loss: 0.0311 - accuracy: 0.9899\n",
            "Epoch 29/40\n",
            "59/59 [==============================] - 2s 38ms/step - loss: 0.0294 - accuracy: 0.9904\n",
            "Epoch 30/40\n",
            "59/59 [==============================] - 2s 38ms/step - loss: 0.0282 - accuracy: 0.9909\n",
            "Epoch 31/40\n",
            "59/59 [==============================] - 2s 38ms/step - loss: 0.0300 - accuracy: 0.9900\n",
            "Epoch 32/40\n",
            "59/59 [==============================] - 2s 38ms/step - loss: 0.0268 - accuracy: 0.9907\n",
            "Epoch 33/40\n",
            "59/59 [==============================] - 2s 38ms/step - loss: 0.0275 - accuracy: 0.9907\n",
            "Epoch 34/40\n",
            "59/59 [==============================] - 2s 38ms/step - loss: 0.0281 - accuracy: 0.9906\n",
            "Epoch 35/40\n",
            "59/59 [==============================] - 2s 38ms/step - loss: 0.0274 - accuracy: 0.9903\n",
            "Epoch 36/40\n",
            "59/59 [==============================] - 2s 38ms/step - loss: 0.0284 - accuracy: 0.9902\n",
            "Epoch 37/40\n",
            "59/59 [==============================] - 2s 38ms/step - loss: 0.0273 - accuracy: 0.9907\n",
            "Epoch 38/40\n",
            "59/59 [==============================] - 2s 38ms/step - loss: 0.0247 - accuracy: 0.9914\n",
            "Epoch 39/40\n",
            "59/59 [==============================] - 2s 38ms/step - loss: 0.0254 - accuracy: 0.9911\n",
            "Epoch 40/40\n",
            "59/59 [==============================] - 2s 38ms/step - loss: 0.0255 - accuracy: 0.9911\n"
          ],
          "name": "stdout"
        }
      ]
    },
    {
      "cell_type": "markdown",
      "metadata": {
        "id": "vET4MUlZvNc4"
      },
      "source": [
        "### Plot Accuracy and Loss"
      ]
    },
    {
      "cell_type": "code",
      "metadata": {
        "id": "PqRytrMdvBMj",
        "colab": {
          "base_uri": "https://localhost:8080/",
          "height": 297
        },
        "outputId": "8e5fc52d-c5fe-4725-db97-41b5f8fff448"
      },
      "source": [
        "plt.figure(figsize = (12,4))\r\n",
        "plt.subplot(1,2,1)\r\n",
        "\r\n",
        "plt.xlabel('Epoch')\r\n",
        "plt.ylabel('Accuracy')\r\n",
        "plt.plot(history_for_test.epoch, np.array(history_for_test.history['accuracy']),'g-',\r\n",
        "        label='Train accuracy')\r\n",
        "plt.legend()\r\n",
        "\r\n",
        "plt.subplot(1,2,2)\r\n",
        "plt.xlabel('Epoch')\r\n",
        "plt.ylabel('Loss minimised by model')\r\n",
        "plt.plot(history_for_test.epoch, np.array(history_for_test.history['loss']),'g-',\r\n",
        "        label='Train loss')\r\n",
        "plt.legend()"
      ],
      "execution_count": 9,
      "outputs": [
        {
          "output_type": "execute_result",
          "data": {
            "text/plain": [
              "<matplotlib.legend.Legend at 0x7f9623bafdd0>"
            ]
          },
          "metadata": {
            "tags": []
          },
          "execution_count": 9
        },
        {
          "output_type": "display_data",
          "data": {
            "image/png": "[encoded data removed]",
            "text/plain": [
              "<Figure size 864x288 with 2 Axes>"
            ]
          },
          "metadata": {
            "tags": [],
            "needs_background": "light"
          }
        }
      ]
    },
    {
      "cell_type": "markdown",
      "metadata": {
        "id": "GwKlj0LHvFJb"
      },
      "source": [
        "### Saving the whole model"
      ]
    },
    {
      "cell_type": "code",
      "metadata": {
        "id": "O4maECyfvD3o",
        "colab": {
          "base_uri": "https://localhost:8080/"
        },
        "outputId": "96ed8b68-a3c1-4135-a370-8d30f652630d"
      },
      "source": [
        "#the file type for storing complete models is \".h5\"\r\n",
        "# feel free to change the path to whatever suits you best!\r\n",
        "checkpoint_dir = \"/content/gdrive/My Drive/Colab Notebooks/DL2021/GA1/Architecture1/\"\r\n",
        "modelpath = checkpoint_dir+\"final_model_2layer_train.h5\"\r\n",
        "\r\n",
        "print(\"Final model saved as \",modelpath)\r\n",
        "\r\n",
        "# Save entire model to a HDF5 file\r\n",
        "model_for_test.save(modelpath)"
      ],
      "execution_count": 13,
      "outputs": [
        {
          "output_type": "stream",
          "text": [
            "Final model saved as  /content/gdrive/My Drive/Colab Notebooks/DL2021/GA1/Architecture1/final_model_2layer_train.h5\n"
          ],
          "name": "stdout"
        }
      ]
    },
    {
      "cell_type": "markdown",
      "metadata": {
        "id": "dI9MjVD3vX8G"
      },
      "source": [
        "### Measurements on final model"
      ]
    },
    {
      "cell_type": "code",
      "metadata": {
        "id": "ewS9rl9svXJP",
        "colab": {
          "base_uri": "https://localhost:8080/"
        },
        "outputId": "c505ca91-d164-4612-ed18-ed4ddac4f906"
      },
      "source": [
        "# The code below should give the same results as that for the original model\r\n",
        "[train_loss, train_accuracy] = model_for_test.evaluate(x_train_all, r_train_all, verbose=0)\r\n",
        "print(\"Training set Accuracy:{:7.4f}\".format(train_accuracy))\r\n",
        "print(\"Training set Loss:{:7.6f}\\n\".format(train_loss))\r\n",
        "\r\n",
        "[test_loss, test_accuracy] = model_for_test.evaluate(x_test, r_test, verbose=0)\r\n",
        "print(\"Test set Accuracy:{:7.4f}\".format(test_accuracy))\r\n",
        "print(\"Test set Loss:{:7.6f}\\n\".format(test_loss))"
      ],
      "execution_count": 14,
      "outputs": [
        {
          "output_type": "stream",
          "text": [
            "Training set Accuracy: 0.9991\n",
            "Training set Loss:0.002889\n",
            "\n",
            "Test set Accuracy: 0.9847\n",
            "Test set Loss:0.065192\n",
            "\n"
          ],
          "name": "stdout"
        }
      ]
    }
  ]
}