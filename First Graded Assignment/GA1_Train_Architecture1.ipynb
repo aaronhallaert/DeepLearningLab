{
  "nbformat": 4,
  "nbformat_minor": 0,
  "metadata": {
    "colab": {
      "name": "GA1 - Train Init.ipynb",
      "provenance": [],
      "authorship_tag": "ABX9TyMmBoRfIqzytdpT9gSQC045"
    },
    "kernelspec": {
      "name": "python3",
      "display_name": "Python 3"
    }
  },
  "cells": [
    {
      "cell_type": "markdown",
      "metadata": {
        "id": "u2aKnWDyp0PT"
      },
      "source": [
        "# First Graded Assignment \r\n",
        "## (Aaron - Architecture 1)"
      ]
    },
    {
      "cell_type": "markdown",
      "metadata": {
        "id": "Us0MnVh_rW0Q"
      },
      "source": [
        "## Setup"
      ]
    },
    {
      "cell_type": "markdown",
      "metadata": {
        "id": "c7ib5c57qAJs"
      },
      "source": [
        "### Init modules and helper functions\r\n",
        "Load modules and set seed"
      ]
    },
    {
      "cell_type": "code",
      "metadata": {
        "id": "PQ-XU9TLpyHK",
        "outputId": "e917f63d-3b7b-4606-af13-c0f252029070",
        "colab": {
          "base_uri": "https://localhost:8080/"
        }
      },
      "source": [
        "try:\r\n",
        "  # %tensorflow_version only exists in Colab.\r\n",
        "  %tensorflow_version 2.x\r\n",
        "except Exception:\r\n",
        "  pass\r\n",
        "\r\n",
        "# TensorFlow and tf.keras\r\n",
        "import tensorflow as tf\r\n",
        "from tensorflow import keras\r\n",
        "\r\n",
        "print(tf.__version__)\r\n",
        "\r\n",
        "# Helper libraries\r\n",
        "import numpy as np\r\n",
        "import matplotlib.pyplot as plt\r\n",
        "import sklearn as sk\r\n",
        "import pandas as pd\r\n",
        "\r\n",
        "# fix random seed for reproducibility\r\n",
        "seed = 2021\r\n",
        "np.random.seed(seed)  \r\n",
        "\r\n",
        "import sklearn as sk\r\n",
        "from sklearn.model_selection import train_test_split\r\n",
        "\r\n",
        "from tensorflow.keras.datasets import mnist\r\n",
        "from tensorflow.keras.models import Sequential\r\n",
        "from tensorflow.keras.layers import Dense, Dropout\r\n",
        "from tensorflow.keras.optimizers import Adam\r\n",
        "from tensorflow.keras.constraints import max_norm\r\n",
        "from tensorflow.keras.callbacks import EarlyStopping, ModelCheckpoint\r\n",
        "from tensorflow.keras.models import load_model"
      ],
      "execution_count": 1,
      "outputs": [
        {
          "output_type": "stream",
          "text": [
            "2.4.1\n"
          ],
          "name": "stdout"
        }
      ]
    },
    {
      "cell_type": "markdown",
      "metadata": {
        "id": "gih7AYCrqITl"
      },
      "source": [
        "Helper function to plot history"
      ]
    },
    {
      "cell_type": "code",
      "metadata": {
        "id": "rL5nGo4s-PyD"
      },
      "source": [
        "#helper functions for visualisation\n",
        "\n",
        "# same function as in the getting started notebook, \n",
        "# but now plotting the loss functions used in this notebook\n",
        "# we plot the loss we want to optimise on th eleft (in this case: accuracy)\n",
        "def plot_history(history):\n",
        "  plt.figure(figsize = (12,4))\n",
        "  plt.subplot(1,2,1)\n",
        "\n",
        "  plt.xlabel('Epoch')\n",
        "  plt.ylabel('Accuracy')\n",
        "  plt.plot(history.epoch, np.array(history.history['accuracy']),'g-',\n",
        "           label='Train accuracy')\n",
        "  plt.plot(history.epoch, np.array(history.history['val_accuracy']),'r-',\n",
        "           label = 'Validation accuracy')\n",
        "  plt.legend()\n",
        "\n",
        "  plt.subplot(1,2,2)\n",
        "  plt.xlabel('Epoch')\n",
        "  plt.ylabel('Loss minimised by model')\n",
        "  plt.plot(history.epoch, np.array(history.history['loss']),'g-',\n",
        "           label='Train loss')\n",
        "  plt.plot(history.epoch, np.array(history.history['val_loss']),'r-',\n",
        "           label = 'Validation loss')\n",
        "  plt.legend()"
      ],
      "execution_count": 2,
      "outputs": []
    },
    {
      "cell_type": "markdown",
      "metadata": {
        "id": "diH1fR8GqPdy"
      },
      "source": [
        "### Mounting Google Drive"
      ]
    },
    {
      "cell_type": "code",
      "metadata": {
        "id": "FkPQKyYsqSkr",
        "outputId": "14902b32-43f8-4fa4-cc56-96b2e100f422",
        "colab": {
          "base_uri": "https://localhost:8080/"
        }
      },
      "source": [
        "from google.colab import drive\r\n",
        "drive.mount('/content/gdrive')\r\n",
        "\r\n",
        "import os\r\n",
        "\r\n",
        "#!ls '/content/gdrive/My Drive/'"
      ],
      "execution_count": 3,
      "outputs": [
        {
          "output_type": "stream",
          "text": [
            "Drive already mounted at /content/gdrive; to attempt to forcibly remount, call drive.mount(\"/content/gdrive\", force_remount=True).\n"
          ],
          "name": "stdout"
        }
      ]
    },
    {
      "cell_type": "markdown",
      "metadata": {
        "id": "Bjb18F3cqdYp"
      },
      "source": [
        "### Loading and visualizing the data"
      ]
    },
    {
      "cell_type": "code",
      "metadata": {
        "id": "zuoepw55qh7c",
        "outputId": "ce933e49-5d45-4853-8657-9423c0b5653c",
        "colab": {
          "base_uri": "https://localhost:8080/"
        }
      },
      "source": [
        "# load train and test data\r\n",
        "(x_train_all, r_train_all_class), (x_test, r_test_class) = mnist.load_data()\r\n",
        "x_train_all = x_train_all.reshape(x_train_all.shape[0], -1)\r\n",
        "x_test = x_test.reshape(x_test.shape[0], -1)\r\n",
        "\r\n",
        "# some preprocessing ... convert integers to floating point and rescale them to [0,1] range\r\n",
        "x_train_all = x_train_all.astype('float32')\r\n",
        "x_test = x_test.astype('float32')\r\n",
        "x_train_all /= 255\r\n",
        "x_test /= 255\r\n",
        "\r\n",
        "print(x_train_all.shape[0], ' original train samples')\r\n",
        "print(x_test.shape[0], ' original test samples')\r\n",
        "\r\n",
        "# This data set contains a train set and test set\r\n",
        "# we still need to split off a validation set\r\n",
        "\r\n",
        "# Number of test samples\r\n",
        "N_test = x_test.shape[0]\r\n",
        "\r\n",
        "# split off 10000 samples for validation\r\n",
        "N_val = 10000\r\n",
        "N_train = x_train_all.shape[0] - N_val\r\n",
        "\r\n",
        "# now extract the samples into train, validate and test sets\r\n",
        "# set random state to make sure you get the same split each time\r\n",
        "x_train, x_val, r_train_class, r_val_class = train_test_split(x_train_all, r_train_all_class, test_size = N_val, random_state=0)\r\n",
        "\r\n",
        "# For initial explorations, it is often useful to \r\n",
        "# try out some things first on a smaller data set\r\n",
        "# in comment below is the code for using all training data\r\n",
        "# in this case, we select 10000 samples for training\r\n",
        "# don't forget to use all training examples for your final model\r\n",
        "# by replacing the line below by the commented one beneath it\r\n",
        "\r\n",
        "# CHANGE!\r\n",
        "\r\n",
        "#N_train = 10000\r\n",
        "\r\n",
        "x_train = x_train[:N_train,:]\r\n",
        "r_train_class = r_train_class[:N_train]\r\n",
        "\r\n",
        "print(\"Using \",x_train.shape[0],\" train samples, \", x_val.shape[0], \" validation samples and \",x_test.shape[0],\" test samples\")\r\n",
        "print(\"Each sample has \",x_train.shape[1],\" features\")"
      ],
      "execution_count": 4,
      "outputs": [
        {
          "output_type": "stream",
          "text": [
            "60000  original train samples\n",
            "10000  original test samples\n",
            "Using  50000  train samples,  10000  validation samples and  10000  test samples\n",
            "Each sample has  784  features\n"
          ],
          "name": "stdout"
        }
      ]
    },
    {
      "cell_type": "code",
      "metadata": {
        "id": "tqKL4kOuq2DY",
        "outputId": "d246ef92-a9cd-44c8-c3aa-efbf23fe6e8a",
        "colab": {
          "base_uri": "https://localhost:8080/",
          "height": 644
        }
      },
      "source": [
        "# The features in this data set are the pixels of a 28x28 pixel image\r\n",
        "# You can visualise an individual image as follows\r\n",
        "# (here for the first 9 images in the training set)\r\n",
        "\r\n",
        "f = plt.figure(figsize=(10,10));\r\n",
        "for idx in range(9):\r\n",
        "    plt.subplot(3,3,idx+1)\r\n",
        "    plt.subplots_adjust(hspace=0.5)\r\n",
        "    plt.title(\"Label is \" + str(r_train_class[idx]))\r\n",
        "    plt.imshow(np.reshape(x_train[idx,:],(28,28)), cmap='Greys', interpolation='None')\r\n",
        "\r\n",
        "# The labels are numbers from 0 to 9\r\n",
        "print(\"A few labels:\")\r\n",
        "print(r_train_class[:9])"
      ],
      "execution_count": 5,
      "outputs": [
        {
          "output_type": "stream",
          "text": [
            "A few labels:\n",
            "[7 6 4 2 5 9 1 8 8]\n"
          ],
          "name": "stdout"
        },
        {
          "output_type": "display_data",
          "data": {
            "image/png": "[encoded data removed]",
            "text/plain": [
              "<Figure size 720x720 with 9 Axes>"
            ]
          },
          "metadata": {
            "tags": [],
            "needs_background": "light"
          }
        }
      ]
    },
    {
      "cell_type": "markdown",
      "metadata": {
        "id": "r7JGQyBBrBO5"
      },
      "source": [
        "### Convert labels for multiclass"
      ]
    },
    {
      "cell_type": "code",
      "metadata": {
        "id": "c4cdY2CLrHBO"
      },
      "source": [
        "r_train_all = keras.utils.to_categorical(r_train_all_class)\r\n",
        "r_train = keras.utils.to_categorical(r_train_class)\r\n",
        "r_val = keras.utils.to_categorical(r_val_class)\r\n",
        "r_test = keras.utils.to_categorical(r_test_class)\r\n",
        "\r\n",
        "# look at the new labels"
      ],
      "execution_count": 6,
      "outputs": []
    },
    {
      "cell_type": "markdown",
      "metadata": {
        "id": "pOp6909arNvK"
      },
      "source": [
        "## Model Architecture"
      ]
    },
    {
      "cell_type": "code",
      "metadata": {
        "id": "LsmJgf1QrS16"
      },
      "source": [
        "num_classes = 10\r\n",
        "\r\n",
        "# this first network has 2 hidden layers\r\n",
        "# the first layer needs to be told explicitly what the input shape is\r\n",
        "# the output layer has 10 neurons: one neuron per class\r\n",
        "\r\n",
        "# Note that we use the \"He\" initialisation scheme here, since this is often advised \r\n",
        "# for layers with ReLu neurons - although you are free to change this, it is not necessary for this assignment\r\n",
        "\r\n",
        "# Also note that \"dropout\" is implemented in separate layers in Keras\r\n",
        "# they are added below in comment to show you how to use them\r\n",
        "# note that you can also start your network with a dropout layer (randomly setting input features to 0)\r\n",
        "\r\n",
        "def initial_model():\r\n",
        "    # create linear model\r\n",
        "    model = Sequential()\r\n",
        "    # we start with a first fully connected layer\r\n",
        "    model.add(Dense(392, activation='relu', input_shape=(784,), kernel_initializer='he_uniform'))\r\n",
        "    ## then add some dropout, set at a very low value for now\r\n",
        "    model.add(Dropout(0.5))\r\n",
        "    # a second dense layer with half as many neurons\r\n",
        "    model.add(Dense(64, activation='relu', kernel_initializer='he_uniform'))\r\n",
        "    ## some more dropout\r\n",
        "    #model.add(Dropout(0.001))\r\n",
        "    # and the output layer\r\n",
        "    model.add(Dense(num_classes, activation='softmax'))\r\n",
        "\r\n",
        "    model.compile(loss='categorical_crossentropy',\r\n",
        "                  optimizer=Adam(learning_rate=0.0001), # set to default learning rate here\r\n",
        "                  metrics=['accuracy']) # save accuracy in addition to cross entropy error\r\n",
        "    return model"
      ],
      "execution_count": 18,
      "outputs": []
    },
    {
      "cell_type": "markdown",
      "metadata": {
        "id": "1luGMHMVrkmH"
      },
      "source": [
        "## Training"
      ]
    },
    {
      "cell_type": "code",
      "metadata": {
        "id": "tiVCm2VKsSGo",
        "outputId": "a52ab21d-17f8-4ed4-95ad-1ff7a595d160",
        "colab": {
          "base_uri": "https://localhost:8080/"
        }
      },
      "source": [
        "# Model checkpoints are saved versions of intermediate models during training\r\n",
        "\r\n",
        "# Set the path for saving intermediate model checkpoints\r\n",
        "\r\n",
        "# With the setting below, models will be dumped in your drive in the specified folder (make this folder first)\r\n",
        "# Change this path name to a unique path for each model you want to keep (otherwise they will be overwritten)\r\n",
        "\r\n",
        "checkpoint_dir = \"/content/gdrive/My Drive/Colab Notebooks/DL2021/GA1/Architecture1/\"\r\n",
        "print(\"Models will be saved in \",checkpoint_dir)\r\n",
        "# Have a look what is already in that path\r\n",
        "!ls \"{checkpoint_dir}\"\r\n",
        "\r\n",
        "\r\n",
        "# CHANGE THIS!\r\n",
        "# architecture1_model_version_0.1\r\n",
        "model_savename = checkpoint_dir+\"architecture1_model_version_0.5.h5\"\r\n",
        "checkpoint_path = checkpoint_dir+\"cp-{epoch:04d}.ckpt\"\r\n",
        "\r\n",
        "\r\n",
        "# Create your model\r\n",
        "model_1 = initial_model()\r\n",
        "model_1.summary()\r\n",
        "\r\n",
        "\r\n",
        "# We now add batch size to the mix of training parameters\r\n",
        "# If you don't specify batch size below, all training data will be used for each learning step\r\n",
        "batch_size = 32\r\n",
        "epochs = 30\r\n",
        "\r\n",
        "# Modelcheckpoint callback:\r\n",
        "# - save at every epoch if 'save_best_only'=false\r\n",
        "# - save complete model if 'save weights only' = false\r\n",
        "\r\n",
        "cp_callback = tf.keras.callbacks.ModelCheckpoint(checkpoint_path, \r\n",
        "                                                 monitor='val_accuracy',\r\n",
        "                                                 save_weights_only=True,\r\n",
        "                                                 save_best_only=True,\r\n",
        "                                                 verbose=1)\r\n",
        "\r\n",
        "# Set early stopping: with parameters below, training will stop \r\n",
        "# when validation accuracy hasn't improved for 6 epochs\r\n",
        "# (or when the total number of epochs has passed)\r\n",
        "# If necessary, you can also set a threshold, ignoring all improvements below the threshold\r\n",
        "stopping_callback = tf.keras.callbacks.EarlyStopping(monitor='val_accuracy', patience=4,min_delta=0.0001)\r\n",
        "\r\n",
        "# NOTE that it may be useful NOT to use early stopping while you are tisll tuning learning convergence\r\n",
        "# also be sure to adapt the patience in order to allow convergence\r\n",
        "\r\n",
        "# Putting verbose = 1 below (instead of 0 i the previous notebook) plots out 1 line per epoch\r\n",
        "history_1 = model_1.fit(x_train, r_train,\r\n",
        "                    batch_size=batch_size,\r\n",
        "                    epochs=epochs,\r\n",
        "                    verbose=1,\r\n",
        "                    callbacks = [cp_callback, stopping_callback],\r\n",
        "                    validation_data=(x_val, r_val)\r\n",
        "                    )\r\n",
        "# If you want to save the weights of this trained model, run:\r\n",
        "model_1.save_weights(model_savename)"
      ],
      "execution_count": 19,
      "outputs": [
        {
          "output_type": "stream",
          "text": [
            "Models will be saved in  /content/gdrive/My Drive/Colab Notebooks/DL2021/GA1/Architecture1/\n",
            "architecture1_model_version_0.1.h5  cp-0008.ckpt.index\n",
            "architecture1_model_version_0.2.h5  cp-0009.ckpt.data-00000-of-00001\n",
            "architecture1_model_version_0.3.h5  cp-0009.ckpt.index\n",
            "architecture1_model_version_0.4.h5  cp-0010.ckpt.data-00000-of-00001\n",
            "checkpoint\t\t\t    cp-0010.ckpt.index\n",
            "cp-0001.ckpt.data-00000-of-00001    cp-0011.ckpt.data-00000-of-00001\n",
            "cp-0001.ckpt.index\t\t    cp-0011.ckpt.index\n",
            "cp-0002.ckpt.data-00000-of-00001    cp-0012.ckpt.data-00000-of-00001\n",
            "cp-0002.ckpt.index\t\t    cp-0012.ckpt.index\n",
            "cp-0003.ckpt.data-00000-of-00001    cp-0013.ckpt.data-00000-of-00001\n",
            "cp-0003.ckpt.index\t\t    cp-0013.ckpt.index\n",
            "cp-0004.ckpt.data-00000-of-00001    cp-0014.ckpt.data-00000-of-00001\n",
            "cp-0004.ckpt.index\t\t    cp-0014.ckpt.index\n",
            "cp-0005.ckpt.data-00000-of-00001    cp-0015.ckpt.data-00000-of-00001\n",
            "cp-0005.ckpt.index\t\t    cp-0015.ckpt.index\n",
            "cp-0006.ckpt.data-00000-of-00001    cp-0016.ckpt.data-00000-of-00001\n",
            "cp-0006.ckpt.index\t\t    cp-0016.ckpt.index\n",
            "cp-0007.ckpt.data-00000-of-00001    cp-0017.ckpt.data-00000-of-00001\n",
            "cp-0007.ckpt.index\t\t    cp-0017.ckpt.index\n",
            "cp-0008.ckpt.data-00000-of-00001\n",
            "Model: \"sequential_4\"\n",
            "_________________________________________________________________\n",
            "Layer (type)                 Output Shape              Param #   \n",
            "=================================================================\n",
            "dense_12 (Dense)             (None, 392)               307720    \n",
            "_________________________________________________________________\n",
            "dropout_1 (Dropout)          (None, 392)               0         \n",
            "_________________________________________________________________\n",
            "dense_13 (Dense)             (None, 64)                25152     \n",
            "_________________________________________________________________\n",
            "dense_14 (Dense)             (None, 10)                650       \n",
            "=================================================================\n",
            "Total params: 333,522\n",
            "Trainable params: 333,522\n",
            "Non-trainable params: 0\n",
            "_________________________________________________________________\n",
            "Epoch 1/30\n",
            "1563/1563 [==============================] - 8s 5ms/step - loss: 1.1103 - accuracy: 0.6553 - val_loss: 0.2619 - val_accuracy: 0.9267\n",
            "\n",
            "Epoch 00001: val_accuracy improved from -inf to 0.92670, saving model to /content/gdrive/My Drive/Colab Notebooks/DL2021/GA1/Architecture1/cp-0001.ckpt\n",
            "Epoch 2/30\n",
            "1563/1563 [==============================] - 8s 5ms/step - loss: 0.3237 - accuracy: 0.9041 - val_loss: 0.1934 - val_accuracy: 0.9436\n",
            "\n",
            "Epoch 00002: val_accuracy improved from 0.92670 to 0.94360, saving model to /content/gdrive/My Drive/Colab Notebooks/DL2021/GA1/Architecture1/cp-0002.ckpt\n",
            "Epoch 3/30\n",
            "1563/1563 [==============================] - 8s 5ms/step - loss: 0.2491 - accuracy: 0.9263 - val_loss: 0.1596 - val_accuracy: 0.9514\n",
            "\n",
            "Epoch 00003: val_accuracy improved from 0.94360 to 0.95140, saving model to /content/gdrive/My Drive/Colab Notebooks/DL2021/GA1/Architecture1/cp-0003.ckpt\n",
            "Epoch 4/30\n",
            "1563/1563 [==============================] - 8s 5ms/step - loss: 0.2014 - accuracy: 0.9435 - val_loss: 0.1375 - val_accuracy: 0.9574\n",
            "\n",
            "Epoch 00004: val_accuracy improved from 0.95140 to 0.95740, saving model to /content/gdrive/My Drive/Colab Notebooks/DL2021/GA1/Architecture1/cp-0004.ckpt\n",
            "Epoch 5/30\n",
            "1563/1563 [==============================] - 8s 5ms/step - loss: 0.1693 - accuracy: 0.9507 - val_loss: 0.1214 - val_accuracy: 0.9616\n",
            "\n",
            "Epoch 00005: val_accuracy improved from 0.95740 to 0.96160, saving model to /content/gdrive/My Drive/Colab Notebooks/DL2021/GA1/Architecture1/cp-0005.ckpt\n",
            "Epoch 6/30\n",
            "1563/1563 [==============================] - 8s 5ms/step - loss: 0.1533 - accuracy: 0.9542 - val_loss: 0.1096 - val_accuracy: 0.9660\n",
            "\n",
            "Epoch 00006: val_accuracy improved from 0.96160 to 0.96600, saving model to /content/gdrive/My Drive/Colab Notebooks/DL2021/GA1/Architecture1/cp-0006.ckpt\n",
            "Epoch 7/30\n",
            "1563/1563 [==============================] - 8s 5ms/step - loss: 0.1361 - accuracy: 0.9596 - val_loss: 0.1013 - val_accuracy: 0.9691\n",
            "\n",
            "Epoch 00007: val_accuracy improved from 0.96600 to 0.96910, saving model to /content/gdrive/My Drive/Colab Notebooks/DL2021/GA1/Architecture1/cp-0007.ckpt\n",
            "Epoch 8/30\n",
            "1563/1563 [==============================] - 8s 5ms/step - loss: 0.1213 - accuracy: 0.9632 - val_loss: 0.0946 - val_accuracy: 0.9706\n",
            "\n",
            "Epoch 00008: val_accuracy improved from 0.96910 to 0.97060, saving model to /content/gdrive/My Drive/Colab Notebooks/DL2021/GA1/Architecture1/cp-0008.ckpt\n",
            "Epoch 9/30\n",
            "1563/1563 [==============================] - 8s 5ms/step - loss: 0.1132 - accuracy: 0.9657 - val_loss: 0.0887 - val_accuracy: 0.9722\n",
            "\n",
            "Epoch 00009: val_accuracy improved from 0.97060 to 0.97220, saving model to /content/gdrive/My Drive/Colab Notebooks/DL2021/GA1/Architecture1/cp-0009.ckpt\n",
            "Epoch 10/30\n",
            "1563/1563 [==============================] - 8s 5ms/step - loss: 0.1044 - accuracy: 0.9687 - val_loss: 0.0845 - val_accuracy: 0.9738\n",
            "\n",
            "Epoch 00010: val_accuracy improved from 0.97220 to 0.97380, saving model to /content/gdrive/My Drive/Colab Notebooks/DL2021/GA1/Architecture1/cp-0010.ckpt\n",
            "Epoch 11/30\n",
            "1563/1563 [==============================] - 8s 5ms/step - loss: 0.0942 - accuracy: 0.9715 - val_loss: 0.0799 - val_accuracy: 0.9750\n",
            "\n",
            "Epoch 00011: val_accuracy improved from 0.97380 to 0.97500, saving model to /content/gdrive/My Drive/Colab Notebooks/DL2021/GA1/Architecture1/cp-0011.ckpt\n",
            "Epoch 12/30\n",
            "1563/1563 [==============================] - 8s 5ms/step - loss: 0.0897 - accuracy: 0.9735 - val_loss: 0.0784 - val_accuracy: 0.9762\n",
            "\n",
            "Epoch 00012: val_accuracy improved from 0.97500 to 0.97620, saving model to /content/gdrive/My Drive/Colab Notebooks/DL2021/GA1/Architecture1/cp-0012.ckpt\n",
            "Epoch 13/30\n",
            "1563/1563 [==============================] - 8s 5ms/step - loss: 0.0837 - accuracy: 0.9753 - val_loss: 0.0736 - val_accuracy: 0.9773\n",
            "\n",
            "Epoch 00013: val_accuracy improved from 0.97620 to 0.97730, saving model to /content/gdrive/My Drive/Colab Notebooks/DL2021/GA1/Architecture1/cp-0013.ckpt\n",
            "Epoch 14/30\n",
            "1563/1563 [==============================] - 8s 5ms/step - loss: 0.0800 - accuracy: 0.9751 - val_loss: 0.0727 - val_accuracy: 0.9775\n",
            "\n",
            "Epoch 00014: val_accuracy improved from 0.97730 to 0.97750, saving model to /content/gdrive/My Drive/Colab Notebooks/DL2021/GA1/Architecture1/cp-0014.ckpt\n",
            "Epoch 15/30\n",
            "1563/1563 [==============================] - 8s 5ms/step - loss: 0.0738 - accuracy: 0.9776 - val_loss: 0.0707 - val_accuracy: 0.9778\n",
            "\n",
            "Epoch 00015: val_accuracy improved from 0.97750 to 0.97780, saving model to /content/gdrive/My Drive/Colab Notebooks/DL2021/GA1/Architecture1/cp-0015.ckpt\n",
            "Epoch 16/30\n",
            "1563/1563 [==============================] - 8s 5ms/step - loss: 0.0663 - accuracy: 0.9795 - val_loss: 0.0679 - val_accuracy: 0.9789\n",
            "\n",
            "Epoch 00016: val_accuracy improved from 0.97780 to 0.97890, saving model to /content/gdrive/My Drive/Colab Notebooks/DL2021/GA1/Architecture1/cp-0016.ckpt\n",
            "Epoch 17/30\n",
            "1563/1563 [==============================] - 8s 5ms/step - loss: 0.0639 - accuracy: 0.9794 - val_loss: 0.0657 - val_accuracy: 0.9795\n",
            "\n",
            "Epoch 00017: val_accuracy improved from 0.97890 to 0.97950, saving model to /content/gdrive/My Drive/Colab Notebooks/DL2021/GA1/Architecture1/cp-0017.ckpt\n",
            "Epoch 18/30\n",
            "1563/1563 [==============================] - 8s 5ms/step - loss: 0.0583 - accuracy: 0.9818 - val_loss: 0.0672 - val_accuracy: 0.9791\n",
            "\n",
            "Epoch 00018: val_accuracy did not improve from 0.97950\n",
            "Epoch 19/30\n",
            "1563/1563 [==============================] - 8s 5ms/step - loss: 0.0571 - accuracy: 0.9833 - val_loss: 0.0638 - val_accuracy: 0.9808\n",
            "\n",
            "Epoch 00019: val_accuracy improved from 0.97950 to 0.98080, saving model to /content/gdrive/My Drive/Colab Notebooks/DL2021/GA1/Architecture1/cp-0019.ckpt\n",
            "Epoch 20/30\n",
            "1563/1563 [==============================] - 8s 5ms/step - loss: 0.0544 - accuracy: 0.9834 - val_loss: 0.0649 - val_accuracy: 0.9786\n",
            "\n",
            "Epoch 00020: val_accuracy did not improve from 0.98080\n",
            "Epoch 21/30\n",
            "1563/1563 [==============================] - 8s 5ms/step - loss: 0.0519 - accuracy: 0.9835 - val_loss: 0.0623 - val_accuracy: 0.9809\n",
            "\n",
            "Epoch 00021: val_accuracy improved from 0.98080 to 0.98090, saving model to /content/gdrive/My Drive/Colab Notebooks/DL2021/GA1/Architecture1/cp-0021.ckpt\n",
            "Epoch 22/30\n",
            "1563/1563 [==============================] - 8s 5ms/step - loss: 0.0520 - accuracy: 0.9833 - val_loss: 0.0632 - val_accuracy: 0.9812\n",
            "\n",
            "Epoch 00022: val_accuracy improved from 0.98090 to 0.98120, saving model to /content/gdrive/My Drive/Colab Notebooks/DL2021/GA1/Architecture1/cp-0022.ckpt\n",
            "Epoch 23/30\n",
            "1563/1563 [==============================] - 8s 5ms/step - loss: 0.0514 - accuracy: 0.9845 - val_loss: 0.0626 - val_accuracy: 0.9815\n",
            "\n",
            "Epoch 00023: val_accuracy improved from 0.98120 to 0.98150, saving model to /content/gdrive/My Drive/Colab Notebooks/DL2021/GA1/Architecture1/cp-0023.ckpt\n",
            "Epoch 24/30\n",
            "1563/1563 [==============================] - 8s 5ms/step - loss: 0.0458 - accuracy: 0.9855 - val_loss: 0.0606 - val_accuracy: 0.9810\n",
            "\n",
            "Epoch 00024: val_accuracy did not improve from 0.98150\n",
            "Epoch 25/30\n",
            "1563/1563 [==============================] - 9s 6ms/step - loss: 0.0430 - accuracy: 0.9871 - val_loss: 0.0608 - val_accuracy: 0.9821\n",
            "\n",
            "Epoch 00025: val_accuracy improved from 0.98150 to 0.98210, saving model to /content/gdrive/My Drive/Colab Notebooks/DL2021/GA1/Architecture1/cp-0025.ckpt\n",
            "Epoch 26/30\n",
            "1563/1563 [==============================] - 9s 5ms/step - loss: 0.0420 - accuracy: 0.9863 - val_loss: 0.0632 - val_accuracy: 0.9813\n",
            "\n",
            "Epoch 00026: val_accuracy did not improve from 0.98210\n",
            "Epoch 27/30\n",
            "1563/1563 [==============================] - 8s 5ms/step - loss: 0.0409 - accuracy: 0.9873 - val_loss: 0.0612 - val_accuracy: 0.9812\n",
            "\n",
            "Epoch 00027: val_accuracy did not improve from 0.98210\n",
            "Epoch 28/30\n",
            "1563/1563 [==============================] - 8s 5ms/step - loss: 0.0384 - accuracy: 0.9881 - val_loss: 0.0592 - val_accuracy: 0.9823\n",
            "\n",
            "Epoch 00028: val_accuracy improved from 0.98210 to 0.98230, saving model to /content/gdrive/My Drive/Colab Notebooks/DL2021/GA1/Architecture1/cp-0028.ckpt\n",
            "Epoch 29/30\n",
            "1563/1563 [==============================] - 8s 5ms/step - loss: 0.0371 - accuracy: 0.9884 - val_loss: 0.0616 - val_accuracy: 0.9815\n",
            "\n",
            "Epoch 00029: val_accuracy did not improve from 0.98230\n",
            "Epoch 30/30\n",
            "1563/1563 [==============================] - 8s 5ms/step - loss: 0.0377 - accuracy: 0.9880 - val_loss: 0.0594 - val_accuracy: 0.9827\n",
            "\n",
            "Epoch 00030: val_accuracy improved from 0.98230 to 0.98270, saving model to /content/gdrive/My Drive/Colab Notebooks/DL2021/GA1/Architecture1/cp-0030.ckpt\n"
          ],
          "name": "stdout"
        }
      ]
    },
    {
      "cell_type": "markdown",
      "metadata": {
        "id": "x0ZHq_CAtGfD"
      },
      "source": [
        "## Analyse\r\n",
        "Analyse the trained model on train data and validation data"
      ]
    },
    {
      "cell_type": "markdown",
      "metadata": {
        "id": "48kIKuRltk3h"
      },
      "source": [
        "### Analyse last model"
      ]
    },
    {
      "cell_type": "code",
      "metadata": {
        "colab": {
          "base_uri": "https://localhost:8080/",
          "height": 390
        },
        "id": "NigJYW4X3Rf9",
        "outputId": "e18271ed-c77c-49f5-fcc9-8100de99d157"
      },
      "source": [
        "# model_1 now contains the model at the end of the training run\n",
        "# We analyse the result:\n",
        "\n",
        "[train_loss, train_accuracy] = model_1.evaluate(x_train, r_train, verbose=0)\n",
        "print(\"Training set Accuracy:{:7.4f}\".format(train_accuracy))\n",
        "print(\"Training set Loss:{:7.6f}\\n\".format(train_loss))\n",
        "\n",
        "[val_loss, val_accuracy] = model_1.evaluate(x_val, r_val, verbose=0)\n",
        "print(\"Validation set Accuracy:{:7.4f}\".format(val_accuracy))\n",
        "print(\"Validation set Loss:{:7.6f}\\n\".format(val_loss))\n",
        "\n",
        "#Now we visualise what happened during training\n",
        "plot_history(history_1)"
      ],
      "execution_count": 20,
      "outputs": [
        {
          "output_type": "stream",
          "text": [
            "Training set Accuracy: 0.9980\n",
            "Training set Loss:0.011395\n",
            "\n",
            "Validation set Accuracy: 0.9827\n",
            "Validation set Loss:0.059354\n",
            "\n"
          ],
          "name": "stdout"
        },
        {
          "output_type": "display_data",
          "data": {
            "image/png": "[encoded data removed]",
            "text/plain": [
              "<Figure size 864x288 with 2 Axes>"
            ]
          },
          "metadata": {
            "tags": [],
            "needs_background": "light"
          }
        }
      ]
    },
    {
      "cell_type": "markdown",
      "metadata": {
        "id": "TVOJeV-otnyX"
      },
      "source": [
        "### Analyse best model (from checkpoint)"
      ]
    },
    {
      "cell_type": "code",
      "metadata": {
        "id": "ugpD8ks6ts2H",
        "outputId": "c0508e6d-ef91-49d7-d19d-adb6e54e86f8",
        "colab": {
          "base_uri": "https://localhost:8080/"
        }
      },
      "source": [
        "import pathlib\r\n",
        "\r\n",
        "# Find latest checkpoint\r\n",
        "# Sort the checkpoints by modification time.\r\n",
        "checkpoints = pathlib.Path(checkpoint_dir).glob(\"*.index\")\r\n",
        "checkpoints = sorted(checkpoints, key=lambda cp:cp.stat().st_mtime)\r\n",
        "checkpoints = [cp.with_suffix('') for cp in checkpoints]\r\n",
        "latest = str(checkpoints[-1])\r\n",
        "print(latest)\r\n",
        "\r\n",
        "# Now restore the model\r\n",
        "\r\n",
        "best_model_1 = initial_model() # this is a new model\r\n",
        "best_model_1.load_weights(latest)\r\n",
        "\r\n",
        "# The code below should give slightly better results than that for the original model\r\n",
        "[train_loss, train_accuracy] = best_model_1.evaluate(x_train, r_train, verbose=0)\r\n",
        "print(\"Training set Accuracy:{:7.4f}\".format(train_accuracy))\r\n",
        "print(\"Training set Loss:{:7.6f}\\n\".format(train_loss))\r\n",
        "\r\n",
        "[val_loss, val_accuracy] = best_model_1.evaluate(x_val, r_val, verbose=0)\r\n",
        "print(\"Validation set Accuracy:{:7.4f}\".format(val_accuracy))\r\n",
        "print(\"Validation set Loss:{:7.6f}\\n\".format(val_loss))"
      ],
      "execution_count": 21,
      "outputs": [
        {
          "output_type": "stream",
          "text": [
            "/content/gdrive/My Drive/Colab Notebooks/DL2021/GA1/Architecture1/cp-0030.ckpt\n",
            "Training set Accuracy: 0.9980\n",
            "Training set Loss:0.011395\n",
            "\n",
            "Validation set Accuracy: 0.9827\n",
            "Validation set Loss:0.059354\n",
            "\n"
          ],
          "name": "stdout"
        }
      ]
    },
    {
      "cell_type": "markdown",
      "metadata": {
        "id": "nJ5Riys4t5ro"
      },
      "source": [
        "## Final model and analysis\r\n",
        "All train data, basic measurements on testdata"
      ]
    },
    {
      "cell_type": "markdown",
      "metadata": {
        "id": "nVM2IoorvIq7"
      },
      "source": [
        "### Retrain on all data"
      ]
    },
    {
      "cell_type": "code",
      "metadata": {
        "id": "Pcu_lr0Ot-lz",
        "outputId": "881b663d-a90e-4600-cd54-ad4da6f0c0f5",
        "colab": {
          "base_uri": "https://localhost:8080/"
        }
      },
      "source": [
        "model_for_test = initial_model()\r\n",
        "model_1.summary()\r\n",
        "\r\n",
        "# We now add batch size to the mix of training parameters\r\n",
        "# If you don't specify batch size below, all training data will be used for each learning step\r\n",
        "batch_size = 32\r\n",
        "epochs = 30\r\n",
        "\r\n",
        "history_for_test = model_for_test.fit(x_train_all, r_train_all,\r\n",
        "                    batch_size=batch_size,\r\n",
        "                    epochs=epochs,\r\n",
        "                    verbose=1\r\n",
        "                    )\r\n"
      ],
      "execution_count": 22,
      "outputs": [
        {
          "output_type": "stream",
          "text": [
            "Model: \"sequential_4\"\n",
            "_________________________________________________________________\n",
            "Layer (type)                 Output Shape              Param #   \n",
            "=================================================================\n",
            "dense_12 (Dense)             (None, 392)               307720    \n",
            "_________________________________________________________________\n",
            "dropout_1 (Dropout)          (None, 392)               0         \n",
            "_________________________________________________________________\n",
            "dense_13 (Dense)             (None, 64)                25152     \n",
            "_________________________________________________________________\n",
            "dense_14 (Dense)             (None, 10)                650       \n",
            "=================================================================\n",
            "Total params: 333,522\n",
            "Trainable params: 333,522\n",
            "Non-trainable params: 0\n",
            "_________________________________________________________________\n",
            "Epoch 1/30\n",
            "1875/1875 [==============================] - 8s 4ms/step - loss: 1.0531 - accuracy: 0.6759\n",
            "Epoch 2/30\n",
            "1875/1875 [==============================] - 8s 4ms/step - loss: 0.3051 - accuracy: 0.9104\n",
            "Epoch 3/30\n",
            "1875/1875 [==============================] - 8s 4ms/step - loss: 0.2236 - accuracy: 0.9335\n",
            "Epoch 4/30\n",
            "1875/1875 [==============================] - 8s 4ms/step - loss: 0.1846 - accuracy: 0.9453\n",
            "Epoch 5/30\n",
            "1875/1875 [==============================] - 8s 4ms/step - loss: 0.1503 - accuracy: 0.9568\n",
            "Epoch 6/30\n",
            "1875/1875 [==============================] - 8s 4ms/step - loss: 0.1331 - accuracy: 0.9608\n",
            "Epoch 7/30\n",
            "1875/1875 [==============================] - 8s 4ms/step - loss: 0.1247 - accuracy: 0.9633\n",
            "Epoch 8/30\n",
            "1875/1875 [==============================] - 8s 4ms/step - loss: 0.1111 - accuracy: 0.9672\n",
            "Epoch 9/30\n",
            "1875/1875 [==============================] - 8s 4ms/step - loss: 0.0989 - accuracy: 0.9707\n",
            "Epoch 10/30\n",
            "1875/1875 [==============================] - 8s 4ms/step - loss: 0.0922 - accuracy: 0.9705\n",
            "Epoch 11/30\n",
            "1875/1875 [==============================] - 8s 4ms/step - loss: 0.0853 - accuracy: 0.9738\n",
            "Epoch 12/30\n",
            "1875/1875 [==============================] - 8s 4ms/step - loss: 0.0768 - accuracy: 0.9769\n",
            "Epoch 13/30\n",
            "1875/1875 [==============================] - 8s 4ms/step - loss: 0.0707 - accuracy: 0.9781\n",
            "Epoch 14/30\n",
            "1875/1875 [==============================] - 8s 4ms/step - loss: 0.0675 - accuracy: 0.9795\n",
            "Epoch 15/30\n",
            "1875/1875 [==============================] - 8s 4ms/step - loss: 0.0682 - accuracy: 0.9790\n",
            "Epoch 16/30\n",
            "1875/1875 [==============================] - 9s 5ms/step - loss: 0.0606 - accuracy: 0.9816\n",
            "Epoch 17/30\n",
            "1875/1875 [==============================] - 8s 4ms/step - loss: 0.0580 - accuracy: 0.9823\n",
            "Epoch 18/30\n",
            "1875/1875 [==============================] - 8s 4ms/step - loss: 0.0544 - accuracy: 0.9827\n",
            "Epoch 19/30\n",
            "1875/1875 [==============================] - 8s 4ms/step - loss: 0.0518 - accuracy: 0.9840\n",
            "Epoch 20/30\n",
            "1875/1875 [==============================] - 9s 5ms/step - loss: 0.0503 - accuracy: 0.9844\n",
            "Epoch 21/30\n",
            "1875/1875 [==============================] - 9s 5ms/step - loss: 0.0466 - accuracy: 0.9857\n",
            "Epoch 22/30\n",
            "1875/1875 [==============================] - 8s 4ms/step - loss: 0.0459 - accuracy: 0.9846\n",
            "Epoch 23/30\n",
            "1875/1875 [==============================] - 8s 4ms/step - loss: 0.0439 - accuracy: 0.9852\n",
            "Epoch 24/30\n",
            "1875/1875 [==============================] - 8s 4ms/step - loss: 0.0406 - accuracy: 0.9865\n",
            "Epoch 25/30\n",
            "1875/1875 [==============================] - 8s 4ms/step - loss: 0.0366 - accuracy: 0.9884\n",
            "Epoch 26/30\n",
            "1875/1875 [==============================] - 8s 4ms/step - loss: 0.0377 - accuracy: 0.9879\n",
            "Epoch 27/30\n",
            "1875/1875 [==============================] - 8s 4ms/step - loss: 0.0356 - accuracy: 0.9887\n",
            "Epoch 28/30\n",
            "1875/1875 [==============================] - 8s 4ms/step - loss: 0.0362 - accuracy: 0.9883\n",
            "Epoch 29/30\n",
            "1875/1875 [==============================] - 8s 4ms/step - loss: 0.0336 - accuracy: 0.9890\n",
            "Epoch 30/30\n",
            "1875/1875 [==============================] - 8s 4ms/step - loss: 0.0329 - accuracy: 0.9896\n"
          ],
          "name": "stdout"
        }
      ]
    },
    {
      "cell_type": "markdown",
      "metadata": {
        "id": "vET4MUlZvNc4"
      },
      "source": [
        "### Plot Accuracy and Loss"
      ]
    },
    {
      "cell_type": "code",
      "metadata": {
        "id": "PqRytrMdvBMj",
        "outputId": "8b9181a7-cc58-4f3d-c7ce-3988790b6d25",
        "colab": {
          "base_uri": "https://localhost:8080/",
          "height": 297
        }
      },
      "source": [
        "plt.figure(figsize = (12,4))\r\n",
        "plt.subplot(1,2,1)\r\n",
        "\r\n",
        "plt.xlabel('Epoch')\r\n",
        "plt.ylabel('Accuracy')\r\n",
        "plt.plot(history_for_test.epoch, np.array(history_for_test.history['accuracy']),'g-',\r\n",
        "        label='Train accuracy')\r\n",
        "plt.legend()\r\n",
        "\r\n",
        "plt.subplot(1,2,2)\r\n",
        "plt.xlabel('Epoch')\r\n",
        "plt.ylabel('Loss minimised by model')\r\n",
        "plt.plot(history_for_test.epoch, np.array(history_for_test.history['loss']),'g-',\r\n",
        "        label='Train loss')\r\n",
        "plt.legend()"
      ],
      "execution_count": 23,
      "outputs": [
        {
          "output_type": "execute_result",
          "data": {
            "text/plain": [
              "<matplotlib.legend.Legend at 0x7f2593afa358>"
            ]
          },
          "metadata": {
            "tags": []
          },
          "execution_count": 23
        },
        {
          "output_type": "display_data",
          "data": {
            "image/png": "[encoded data removed]",
            "text/plain": [
              "<Figure size 864x288 with 2 Axes>"
            ]
          },
          "metadata": {
            "tags": [],
            "needs_background": "light"
          }
        }
      ]
    },
    {
      "cell_type": "markdown",
      "metadata": {
        "id": "GwKlj0LHvFJb"
      },
      "source": [
        "### Saving the whole model"
      ]
    },
    {
      "cell_type": "code",
      "metadata": {
        "id": "O4maECyfvD3o",
        "outputId": "7676b171-2d08-4c68-87c4-d33ade3d0aa6",
        "colab": {
          "base_uri": "https://localhost:8080/"
        }
      },
      "source": [
        "#the file type for storing complete models is \".h5\"\r\n",
        "# feel free to change the path to whatever suits you best!\r\n",
        "modelpath = checkpoint_dir+\"architecture1_final_model.h5\"\r\n",
        "\r\n",
        "print(\"Final model saved as \",modelpath)\r\n",
        "\r\n",
        "# Save entire model to a HDF5 file\r\n",
        "model_for_test.save(modelpath)"
      ],
      "execution_count": 24,
      "outputs": [
        {
          "output_type": "stream",
          "text": [
            "Final model saved as  /content/gdrive/My Drive/Colab Notebooks/DL2021/GA1/Architecture1/architecture1_final_model.h5\n"
          ],
          "name": "stdout"
        }
      ]
    },
    {
      "cell_type": "markdown",
      "metadata": {
        "id": "dI9MjVD3vX8G"
      },
      "source": [
        "### Measurements on final model"
      ]
    },
    {
      "cell_type": "code",
      "metadata": {
        "id": "ewS9rl9svXJP",
        "outputId": "42eaba12-e63e-4a03-8729-db016019f5f2",
        "colab": {
          "base_uri": "https://localhost:8080/"
        }
      },
      "source": [
        "# The code below should give the same results as that for the original model\r\n",
        "[train_loss, train_accuracy] = model_for_test.evaluate(x_train_all, r_train_all, verbose=0)\r\n",
        "print(\"Training set Accuracy:{:7.4f}\".format(train_accuracy))\r\n",
        "print(\"Training set Loss:{:7.6f}\\n\".format(train_loss))\r\n",
        "\r\n",
        "[test_loss, test_accuracy] = model_for_test.evaluate(x_test, r_test, verbose=0)\r\n",
        "print(\"Validation set Accuracy:{:7.4f}\".format(test_accuracy))\r\n",
        "print(\"Validation set Loss:{:7.6f}\\n\".format(test_loss))"
      ],
      "execution_count": 25,
      "outputs": [
        {
          "output_type": "stream",
          "text": [
            "Training set Accuracy: 0.9978\n",
            "Training set Loss:0.010046\n",
            "\n",
            "Validation set Accuracy: 0.9841\n",
            "Validation set Loss:0.059360\n",
            "\n"
          ],
          "name": "stdout"
        }
      ]
    }
  ]
}