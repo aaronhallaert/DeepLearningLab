{
  "nbformat": 4,
  "nbformat_minor": 0,
  "metadata": {
    "colab": {
      "name": "GA1 - Train Init.ipynb",
      "provenance": [],
      "authorship_tag": "ABX9TyOl0a7xGrZysYqiCJXxkOuh"
    },
    "kernelspec": {
      "name": "python3",
      "display_name": "Python 3"
    }
  },
  "cells": [
    {
      "cell_type": "markdown",
      "metadata": {
        "id": "u2aKnWDyp0PT"
      },
      "source": [
        "# First Graded Assignment \r\n",
        "## (Aaron - Architecture 1)"
      ]
    },
    {
      "cell_type": "markdown",
      "metadata": {
        "id": "Us0MnVh_rW0Q"
      },
      "source": [
        "## Setup"
      ]
    },
    {
      "cell_type": "markdown",
      "metadata": {
        "id": "c7ib5c57qAJs"
      },
      "source": [
        "### Init modules and helper functions\r\n",
        "Load modules and set seed"
      ]
    },
    {
      "cell_type": "code",
      "metadata": {
        "id": "PQ-XU9TLpyHK",
        "colab": {
          "base_uri": "https://localhost:8080/"
        },
        "outputId": "e257737b-3585-4223-8d2f-8972754bec1f"
      },
      "source": [
        "try:\r\n",
        "  # %tensorflow_version only exists in Colab.\r\n",
        "  %tensorflow_version 2.x\r\n",
        "except Exception:\r\n",
        "  pass\r\n",
        "\r\n",
        "# TensorFlow and tf.keras\r\n",
        "import tensorflow as tf\r\n",
        "from tensorflow import keras\r\n",
        "\r\n",
        "print(tf.__version__)\r\n",
        "\r\n",
        "# Helper libraries\r\n",
        "import numpy as np\r\n",
        "import matplotlib.pyplot as plt\r\n",
        "import sklearn as sk\r\n",
        "import pandas as pd\r\n",
        "\r\n",
        "# fix random seed for reproducibility\r\n",
        "seed = 2021\r\n",
        "np.random.seed(seed)  \r\n",
        "\r\n",
        "import sklearn as sk\r\n",
        "from sklearn.model_selection import train_test_split\r\n",
        "\r\n",
        "from tensorflow.keras.datasets import mnist\r\n",
        "from tensorflow.keras.models import Sequential\r\n",
        "from tensorflow.keras.layers import Dense, Dropout\r\n",
        "from tensorflow.keras.optimizers import Adam\r\n",
        "from tensorflow.keras.constraints import max_norm\r\n",
        "from tensorflow.keras.callbacks import EarlyStopping, ModelCheckpoint\r\n",
        "from tensorflow.keras.models import load_model"
      ],
      "execution_count": 26,
      "outputs": [
        {
          "output_type": "stream",
          "text": [
            "2.4.1\n"
          ],
          "name": "stdout"
        }
      ]
    },
    {
      "cell_type": "markdown",
      "metadata": {
        "id": "gih7AYCrqITl"
      },
      "source": [
        "Helper function to plot history"
      ]
    },
    {
      "cell_type": "code",
      "metadata": {
        "id": "rL5nGo4s-PyD"
      },
      "source": [
        "#helper functions for visualisation\n",
        "\n",
        "# same function as in the getting started notebook, \n",
        "# but now plotting the loss functions used in this notebook\n",
        "# we plot the loss we want to optimise on th eleft (in this case: accuracy)\n",
        "def plot_history(history):\n",
        "  plt.figure(figsize = (12,4))\n",
        "  plt.subplot(1,2,1)\n",
        "\n",
        "  plt.xlabel('Epoch')\n",
        "  plt.ylabel('Accuracy')\n",
        "  plt.plot(history.epoch, np.array(history.history['accuracy']),'g-',\n",
        "           label='Train accuracy')\n",
        "  plt.plot(history.epoch, np.array(history.history['val_accuracy']),'r-',\n",
        "           label = 'Validation accuracy')\n",
        "  plt.legend()\n",
        "\n",
        "  plt.subplot(1,2,2)\n",
        "  plt.xlabel('Epoch')\n",
        "  plt.ylabel('Loss minimised by model')\n",
        "  plt.plot(history.epoch, np.array(history.history['loss']),'g-',\n",
        "           label='Train loss')\n",
        "  plt.plot(history.epoch, np.array(history.history['val_loss']),'r-',\n",
        "           label = 'Validation loss')\n",
        "  plt.legend()"
      ],
      "execution_count": 27,
      "outputs": []
    },
    {
      "cell_type": "markdown",
      "metadata": {
        "id": "diH1fR8GqPdy"
      },
      "source": [
        "### Mounting Google Drive"
      ]
    },
    {
      "cell_type": "code",
      "metadata": {
        "id": "FkPQKyYsqSkr",
        "colab": {
          "base_uri": "https://localhost:8080/"
        },
        "outputId": "1fc35cfe-a1c8-4850-aab2-b4c737cf06ff"
      },
      "source": [
        "from google.colab import drive\r\n",
        "drive.mount('/content/gdrive')\r\n",
        "\r\n",
        "import os\r\n",
        "\r\n",
        "#!ls '/content/gdrive/My Drive/'"
      ],
      "execution_count": 28,
      "outputs": [
        {
          "output_type": "stream",
          "text": [
            "Drive already mounted at /content/gdrive; to attempt to forcibly remount, call drive.mount(\"/content/gdrive\", force_remount=True).\n"
          ],
          "name": "stdout"
        }
      ]
    },
    {
      "cell_type": "markdown",
      "metadata": {
        "id": "Bjb18F3cqdYp"
      },
      "source": [
        "### Loading and visualizing the data"
      ]
    },
    {
      "cell_type": "code",
      "metadata": {
        "id": "zuoepw55qh7c",
        "colab": {
          "base_uri": "https://localhost:8080/"
        },
        "outputId": "8b4b3bd0-708a-4144-d9af-d31bf4fd7470"
      },
      "source": [
        "# load train and test data\r\n",
        "(x_train_all, r_train_all_class), (x_test, r_test_class) = mnist.load_data()\r\n",
        "x_train_all = x_train_all.reshape(x_train_all.shape[0], -1)\r\n",
        "x_test = x_test.reshape(x_test.shape[0], -1)\r\n",
        "\r\n",
        "# some preprocessing ... convert integers to floating point and rescale them to [0,1] range\r\n",
        "x_train_all = x_train_all.astype('float32')\r\n",
        "x_test = x_test.astype('float32')\r\n",
        "x_train_all /= 255\r\n",
        "x_test /= 255\r\n",
        "\r\n",
        "print(x_train_all.shape[0], ' original train samples')\r\n",
        "print(x_test.shape[0], ' original test samples')\r\n",
        "\r\n",
        "# This data set contains a train set and test set\r\n",
        "# we still need to split off a validation set\r\n",
        "\r\n",
        "# Number of test samples\r\n",
        "N_test = x_test.shape[0]\r\n",
        "\r\n",
        "# split off 10000 samples for validation\r\n",
        "N_val = 10000\r\n",
        "N_train = x_train_all.shape[0] - N_val\r\n",
        "\r\n",
        "# now extract the samples into train, validate and test sets\r\n",
        "# set random state to make sure you get the same split each time\r\n",
        "x_train, x_val, r_train_class, r_val_class = train_test_split(x_train_all, r_train_all_class, test_size = N_val, random_state=0)\r\n",
        "\r\n",
        "# For initial explorations, it is often useful to \r\n",
        "# try out some things first on a smaller data set\r\n",
        "# in comment below is the code for using all training data\r\n",
        "# in this case, we select 10000 samples for training\r\n",
        "# don't forget to use all training examples for your final model\r\n",
        "# by replacing the line below by the commented one beneath it\r\n",
        "\r\n",
        "# CHANGE!\r\n",
        "\r\n",
        "#N_train = 10000\r\n",
        "\r\n",
        "x_train = x_train[:N_train,:]\r\n",
        "r_train_class = r_train_class[:N_train]\r\n",
        "\r\n",
        "print(\"Using \",x_train.shape[0],\" train samples, \", x_val.shape[0], \" validation samples and \",x_test.shape[0],\" test samples\")\r\n",
        "print(\"Each sample has \",x_train.shape[1],\" features\")"
      ],
      "execution_count": 29,
      "outputs": [
        {
          "output_type": "stream",
          "text": [
            "60000  original train samples\n",
            "10000  original test samples\n",
            "Using  50000  train samples,  10000  validation samples and  10000  test samples\n",
            "Each sample has  784  features\n"
          ],
          "name": "stdout"
        }
      ]
    },
    {
      "cell_type": "code",
      "metadata": {
        "id": "tqKL4kOuq2DY",
        "colab": {
          "base_uri": "https://localhost:8080/",
          "height": 644
        },
        "outputId": "fe19f9ab-b0fa-4b87-c2d9-7120580259b4"
      },
      "source": [
        "# The features in this data set are the pixels of a 28x28 pixel image\r\n",
        "# You can visualise an individual image as follows\r\n",
        "# (here for the first 9 images in the training set)\r\n",
        "\r\n",
        "f = plt.figure(figsize=(10,10));\r\n",
        "for idx in range(9):\r\n",
        "    plt.subplot(3,3,idx+1)\r\n",
        "    plt.subplots_adjust(hspace=0.5)\r\n",
        "    plt.title(\"Label is \" + str(r_train_class[idx]))\r\n",
        "    plt.imshow(np.reshape(x_train[idx,:],(28,28)), cmap='Greys', interpolation='None')\r\n",
        "\r\n",
        "# The labels are numbers from 0 to 9\r\n",
        "print(\"A few labels:\")\r\n",
        "print(r_train_class[:9])"
      ],
      "execution_count": 30,
      "outputs": [
        {
          "output_type": "stream",
          "text": [
            "A few labels:\n",
            "[7 6 4 2 5 9 1 8 8]\n"
          ],
          "name": "stdout"
        },
        {
          "output_type": "display_data",
          "data": {
            "image/png": "[encoded data removed]",
            "text/plain": [
              "<Figure size 720x720 with 9 Axes>"
            ]
          },
          "metadata": {
            "tags": [],
            "needs_background": "light"
          }
        }
      ]
    },
    {
      "cell_type": "markdown",
      "metadata": {
        "id": "r7JGQyBBrBO5"
      },
      "source": [
        "### Convert labels for multiclass"
      ]
    },
    {
      "cell_type": "code",
      "metadata": {
        "id": "c4cdY2CLrHBO"
      },
      "source": [
        "r_train_all = keras.utils.to_categorical(r_train_all_class)\r\n",
        "r_train = keras.utils.to_categorical(r_train_class)\r\n",
        "r_val = keras.utils.to_categorical(r_val_class)\r\n",
        "r_test = keras.utils.to_categorical(r_test_class)\r\n",
        "\r\n",
        "# look at the new labels"
      ],
      "execution_count": 31,
      "outputs": []
    },
    {
      "cell_type": "markdown",
      "metadata": {
        "id": "pOp6909arNvK"
      },
      "source": [
        "## Model Architecture"
      ]
    },
    {
      "cell_type": "code",
      "metadata": {
        "id": "LsmJgf1QrS16"
      },
      "source": [
        "num_classes = 10\r\n",
        "\r\n",
        "# this first network has 2 hidden layers\r\n",
        "# the first layer needs to be told explicitly what the input shape is\r\n",
        "# the output layer has 10 neurons: one neuron per class\r\n",
        "\r\n",
        "# Note that we use the \"He\" initialisation scheme here, since this is often advised \r\n",
        "# for layers with ReLu neurons - although you are free to change this, it is not necessary for this assignment\r\n",
        "\r\n",
        "# Also note that \"dropout\" is implemented in separate layers in Keras\r\n",
        "# they are added below in comment to show you how to use them\r\n",
        "# note that you can also start your network with a dropout layer (randomly setting input features to 0)\r\n",
        "\r\n",
        "def initial_model():\r\n",
        "    # create linear model\r\n",
        "    model = Sequential()\r\n",
        "    # we start with a first fully connected layer\r\n",
        "    model.add(Dense(392, activation='relu', input_shape=(784,), kernel_initializer='he_uniform'))\r\n",
        "    ## then add some dropout, set at a very low value for now\r\n",
        "    model.add(Dropout(0.5))\r\n",
        "    # a second dense layer with half as many neurons\r\n",
        "    model.add(Dense(64, activation='relu', kernel_initializer='he_uniform'))\r\n",
        "    ## some more dropout\r\n",
        "    model.add(Dropout(0.005))\r\n",
        "    # and the output layer\r\n",
        "    model.add(Dense(num_classes, activation='softmax'))\r\n",
        "\r\n",
        "    model.compile(loss='categorical_crossentropy',\r\n",
        "                  optimizer=Adam(learning_rate=0.0025), # set to default learning rate here\r\n",
        "                  metrics=['accuracy']) # save accuracy in addition to cross entropy error\r\n",
        "    return model"
      ],
      "execution_count": 81,
      "outputs": []
    },
    {
      "cell_type": "markdown",
      "metadata": {
        "id": "1luGMHMVrkmH"
      },
      "source": [
        "## Training"
      ]
    },
    {
      "cell_type": "code",
      "metadata": {
        "id": "tiVCm2VKsSGo",
        "colab": {
          "base_uri": "https://localhost:8080/"
        },
        "outputId": "c41ab863-1c18-4da0-80b2-c63dd542db1a"
      },
      "source": [
        "# Model checkpoints are saved versions of intermediate models during training\r\n",
        "\r\n",
        "# Set the path for saving intermediate model checkpoints\r\n",
        "\r\n",
        "# With the setting below, models will be dumped in your drive in the specified folder (make this folder first)\r\n",
        "# Change this path name to a unique path for each model you want to keep (otherwise they will be overwritten)\r\n",
        "\r\n",
        "checkpoint_dir = \"/content/gdrive/My Drive/Colab Notebooks/DL2021/GA1/Architecture1/\"\r\n",
        "print(\"Models will be saved in \",checkpoint_dir)\r\n",
        "# Have a look what is already in that path\r\n",
        "!ls \"{checkpoint_dir}\"\r\n",
        "\r\n",
        "\r\n",
        "# CHANGE THIS!\r\n",
        "# architecture1_model_version_0.1\r\n",
        "model_savename = checkpoint_dir+\"architecture1_model_version_0.10.h5\"\r\n",
        "checkpoint_path = checkpoint_dir+\"cp-{epoch:04d}.ckpt\"\r\n",
        "\r\n",
        "\r\n",
        "# Create your model\r\n",
        "model_1 = initial_model()\r\n",
        "model_1.summary()\r\n",
        "\r\n",
        "\r\n",
        "# We now add batch size to the mix of training parameters\r\n",
        "# If you don't specify batch size below, all training data will be used for each learning step\r\n",
        "batch_size = 1024\r\n",
        "epochs = 60\r\n",
        "\r\n",
        "# Modelcheckpoint callback:\r\n",
        "# - save at every epoch if 'save_best_only'=false\r\n",
        "# - save complete model if 'save weights only' = false\r\n",
        "\r\n",
        "cp_callback = tf.keras.callbacks.ModelCheckpoint(checkpoint_path, \r\n",
        "                                                 monitor='val_accuracy',\r\n",
        "                                                 save_weights_only=True,\r\n",
        "                                                 save_best_only=True,\r\n",
        "                                                 verbose=1)\r\n",
        "\r\n",
        "# Set early stopping: with parameters below, training will stop \r\n",
        "# when validation accuracy hasn't improved for 6 epochs\r\n",
        "# (or when the total number of epochs has passed)\r\n",
        "# If necessary, you can also set a threshold, ignoring all improvements below the threshold\r\n",
        "stopping_callback = tf.keras.callbacks.EarlyStopping(monitor='val_accuracy', patience=6,min_delta=0.0001)\r\n",
        "\r\n",
        "# NOTE that it may be useful NOT to use early stopping while you are tisll tuning learning convergence\r\n",
        "# also be sure to adapt the patience in order to allow convergence\r\n",
        "\r\n",
        "# Putting verbose = 1 below (instead of 0 i the previous notebook) plots out 1 line per epoch\r\n",
        "history_1 = model_1.fit(x_train, r_train,\r\n",
        "                    batch_size=batch_size,\r\n",
        "                    epochs=epochs,\r\n",
        "                    verbose=1,\r\n",
        "                    callbacks = [cp_callback, stopping_callback],\r\n",
        "                    validation_data=(x_val, r_val)\r\n",
        "                    )\r\n",
        "# If you want to save the weights of this trained model, run:\r\n",
        "model_1.save_weights(model_savename)"
      ],
      "execution_count": 82,
      "outputs": [
        {
          "output_type": "stream",
          "text": [
            "Models will be saved in  /content/gdrive/My Drive/Colab Notebooks/DL2021/GA1/Architecture1/\n",
            "architecture1_final_model.h5\t     cp-0015.ckpt.data-00000-of-00001\n",
            "architecture1_model_version_0.10.h5  cp-0015.ckpt.index\n",
            "architecture1_model_version_0.1.h5   cp-0016.ckpt.data-00000-of-00001\n",
            "architecture1_model_version_0.2.h5   cp-0016.ckpt.index\n",
            "architecture1_model_version_0.3.h5   cp-0017.ckpt.data-00000-of-00001\n",
            "architecture1_model_version_0.4.h5   cp-0017.ckpt.index\n",
            "architecture1_model_version_0.5.h5   cp-0018.ckpt.data-00000-of-00001\n",
            "architecture1_model_version_0.6.h5   cp-0018.ckpt.index\n",
            "architecture1_model_version_0.7.h5   cp-0019.ckpt.data-00000-of-00001\n",
            "architecture1_model_version_0.8.h5   cp-0019.ckpt.index\n",
            "architecture1_model_version_0.9.h5   cp-0020.ckpt.data-00000-of-00001\n",
            "checkpoint\t\t\t     cp-0020.ckpt.index\n",
            "cp-0001.ckpt.data-00000-of-00001     cp-0021.ckpt.data-00000-of-00001\n",
            "cp-0001.ckpt.index\t\t     cp-0021.ckpt.index\n",
            "cp-0002.ckpt.data-00000-of-00001     cp-0022.ckpt.data-00000-of-00001\n",
            "cp-0002.ckpt.index\t\t     cp-0022.ckpt.index\n",
            "cp-0003.ckpt.data-00000-of-00001     cp-0023.ckpt.data-00000-of-00001\n",
            "cp-0003.ckpt.index\t\t     cp-0023.ckpt.index\n",
            "cp-0004.ckpt.data-00000-of-00001     cp-0024.ckpt.data-00000-of-00001\n",
            "cp-0004.ckpt.index\t\t     cp-0024.ckpt.index\n",
            "cp-0005.ckpt.data-00000-of-00001     cp-0025.ckpt.data-00000-of-00001\n",
            "cp-0005.ckpt.index\t\t     cp-0025.ckpt.index\n",
            "cp-0006.ckpt.data-00000-of-00001     cp-0027.ckpt.data-00000-of-00001\n",
            "cp-0006.ckpt.index\t\t     cp-0027.ckpt.index\n",
            "cp-0007.ckpt.data-00000-of-00001     cp-0028.ckpt.data-00000-of-00001\n",
            "cp-0007.ckpt.index\t\t     cp-0028.ckpt.index\n",
            "cp-0008.ckpt.data-00000-of-00001     cp-0029.ckpt.data-00000-of-00001\n",
            "cp-0008.ckpt.index\t\t     cp-0029.ckpt.index\n",
            "cp-0009.ckpt.data-00000-of-00001     cp-0030.ckpt.data-00000-of-00001\n",
            "cp-0009.ckpt.index\t\t     cp-0030.ckpt.index\n",
            "cp-0010.ckpt.data-00000-of-00001     cp-0031.ckpt.data-00000-of-00001\n",
            "cp-0010.ckpt.index\t\t     cp-0031.ckpt.index\n",
            "cp-0011.ckpt.data-00000-of-00001     cp-0033.ckpt.data-00000-of-00001\n",
            "cp-0011.ckpt.index\t\t     cp-0033.ckpt.index\n",
            "cp-0012.ckpt.data-00000-of-00001     cp-0035.ckpt.data-00000-of-00001\n",
            "cp-0012.ckpt.index\t\t     cp-0035.ckpt.index\n",
            "cp-0013.ckpt.data-00000-of-00001     cp-0036.ckpt.data-00000-of-00001\n",
            "cp-0013.ckpt.index\t\t     cp-0036.ckpt.index\n",
            "cp-0014.ckpt.data-00000-of-00001     cp-0039.ckpt.data-00000-of-00001\n",
            "cp-0014.ckpt.index\t\t     cp-0039.ckpt.index\n",
            "Model: \"sequential_27\"\n",
            "_________________________________________________________________\n",
            "Layer (type)                 Output Shape              Param #   \n",
            "=================================================================\n",
            "dense_79 (Dense)             (None, 392)               307720    \n",
            "_________________________________________________________________\n",
            "dropout_26 (Dropout)         (None, 392)               0         \n",
            "_________________________________________________________________\n",
            "dense_80 (Dense)             (None, 64)                25152     \n",
            "_________________________________________________________________\n",
            "dropout_27 (Dropout)         (None, 64)                0         \n",
            "_________________________________________________________________\n",
            "dense_81 (Dense)             (None, 10)                650       \n",
            "=================================================================\n",
            "Total params: 333,522\n",
            "Trainable params: 333,522\n",
            "Non-trainable params: 0\n",
            "_________________________________________________________________\n",
            "Epoch 1/60\n",
            "49/49 [==============================] - 3s 45ms/step - loss: 0.9758 - accuracy: 0.6873 - val_loss: 0.2003 - val_accuracy: 0.9390\n",
            "\n",
            "Epoch 00001: val_accuracy improved from -inf to 0.93900, saving model to /content/gdrive/My Drive/Colab Notebooks/DL2021/GA1/Architecture1/cp-0001.ckpt\n",
            "Epoch 2/60\n",
            "49/49 [==============================] - 2s 42ms/step - loss: 0.2374 - accuracy: 0.9293 - val_loss: 0.1332 - val_accuracy: 0.9599\n",
            "\n",
            "Epoch 00002: val_accuracy improved from 0.93900 to 0.95990, saving model to /content/gdrive/My Drive/Colab Notebooks/DL2021/GA1/Architecture1/cp-0002.ckpt\n",
            "Epoch 3/60\n",
            "49/49 [==============================] - 2s 45ms/step - loss: 0.1638 - accuracy: 0.9524 - val_loss: 0.1090 - val_accuracy: 0.9673\n",
            "\n",
            "Epoch 00003: val_accuracy improved from 0.95990 to 0.96730, saving model to /content/gdrive/My Drive/Colab Notebooks/DL2021/GA1/Architecture1/cp-0003.ckpt\n",
            "Epoch 4/60\n",
            "49/49 [==============================] - 2s 41ms/step - loss: 0.1408 - accuracy: 0.9568 - val_loss: 0.0945 - val_accuracy: 0.9708\n",
            "\n",
            "Epoch 00004: val_accuracy improved from 0.96730 to 0.97080, saving model to /content/gdrive/My Drive/Colab Notebooks/DL2021/GA1/Architecture1/cp-0004.ckpt\n",
            "Epoch 5/60\n",
            "49/49 [==============================] - 2s 42ms/step - loss: 0.1174 - accuracy: 0.9635 - val_loss: 0.0849 - val_accuracy: 0.9737\n",
            "\n",
            "Epoch 00005: val_accuracy improved from 0.97080 to 0.97370, saving model to /content/gdrive/My Drive/Colab Notebooks/DL2021/GA1/Architecture1/cp-0005.ckpt\n",
            "Epoch 6/60\n",
            "49/49 [==============================] - 2s 42ms/step - loss: 0.0994 - accuracy: 0.9684 - val_loss: 0.0768 - val_accuracy: 0.9762\n",
            "\n",
            "Epoch 00006: val_accuracy improved from 0.97370 to 0.97620, saving model to /content/gdrive/My Drive/Colab Notebooks/DL2021/GA1/Architecture1/cp-0006.ckpt\n",
            "Epoch 7/60\n",
            "49/49 [==============================] - 2s 41ms/step - loss: 0.0880 - accuracy: 0.9722 - val_loss: 0.0720 - val_accuracy: 0.9775\n",
            "\n",
            "Epoch 00007: val_accuracy improved from 0.97620 to 0.97750, saving model to /content/gdrive/My Drive/Colab Notebooks/DL2021/GA1/Architecture1/cp-0007.ckpt\n",
            "Epoch 8/60\n",
            "49/49 [==============================] - 2s 43ms/step - loss: 0.0788 - accuracy: 0.9758 - val_loss: 0.0713 - val_accuracy: 0.9782\n",
            "\n",
            "Epoch 00008: val_accuracy improved from 0.97750 to 0.97820, saving model to /content/gdrive/My Drive/Colab Notebooks/DL2021/GA1/Architecture1/cp-0008.ckpt\n",
            "Epoch 9/60\n",
            "49/49 [==============================] - 2s 42ms/step - loss: 0.0722 - accuracy: 0.9775 - val_loss: 0.0672 - val_accuracy: 0.9797\n",
            "\n",
            "Epoch 00009: val_accuracy improved from 0.97820 to 0.97970, saving model to /content/gdrive/My Drive/Colab Notebooks/DL2021/GA1/Architecture1/cp-0009.ckpt\n",
            "Epoch 10/60\n",
            "49/49 [==============================] - 2s 42ms/step - loss: 0.0664 - accuracy: 0.9796 - val_loss: 0.0729 - val_accuracy: 0.9775\n",
            "\n",
            "Epoch 00010: val_accuracy did not improve from 0.97970\n",
            "Epoch 11/60\n",
            "49/49 [==============================] - 2s 42ms/step - loss: 0.0614 - accuracy: 0.9811 - val_loss: 0.0660 - val_accuracy: 0.9784\n",
            "\n",
            "Epoch 00011: val_accuracy did not improve from 0.97970\n",
            "Epoch 12/60\n",
            "49/49 [==============================] - 2s 42ms/step - loss: 0.0573 - accuracy: 0.9817 - val_loss: 0.0664 - val_accuracy: 0.9786\n",
            "\n",
            "Epoch 00012: val_accuracy did not improve from 0.97970\n",
            "Epoch 13/60\n",
            "49/49 [==============================] - 2s 42ms/step - loss: 0.0519 - accuracy: 0.9836 - val_loss: 0.0680 - val_accuracy: 0.9803\n",
            "\n",
            "Epoch 00013: val_accuracy improved from 0.97970 to 0.98030, saving model to /content/gdrive/My Drive/Colab Notebooks/DL2021/GA1/Architecture1/cp-0013.ckpt\n",
            "Epoch 14/60\n",
            "49/49 [==============================] - 2s 42ms/step - loss: 0.0501 - accuracy: 0.9833 - val_loss: 0.0651 - val_accuracy: 0.9812\n",
            "\n",
            "Epoch 00014: val_accuracy improved from 0.98030 to 0.98120, saving model to /content/gdrive/My Drive/Colab Notebooks/DL2021/GA1/Architecture1/cp-0014.ckpt\n",
            "Epoch 15/60\n",
            "49/49 [==============================] - 2s 42ms/step - loss: 0.0449 - accuracy: 0.9853 - val_loss: 0.0667 - val_accuracy: 0.9799\n",
            "\n",
            "Epoch 00015: val_accuracy did not improve from 0.98120\n",
            "Epoch 16/60\n",
            "49/49 [==============================] - 2s 42ms/step - loss: 0.0471 - accuracy: 0.9838 - val_loss: 0.0636 - val_accuracy: 0.9818\n",
            "\n",
            "Epoch 00016: val_accuracy improved from 0.98120 to 0.98180, saving model to /content/gdrive/My Drive/Colab Notebooks/DL2021/GA1/Architecture1/cp-0016.ckpt\n",
            "Epoch 17/60\n",
            "49/49 [==============================] - 2s 41ms/step - loss: 0.0439 - accuracy: 0.9852 - val_loss: 0.0616 - val_accuracy: 0.9823\n",
            "\n",
            "Epoch 00017: val_accuracy improved from 0.98180 to 0.98230, saving model to /content/gdrive/My Drive/Colab Notebooks/DL2021/GA1/Architecture1/cp-0017.ckpt\n",
            "Epoch 18/60\n",
            "49/49 [==============================] - 2s 42ms/step - loss: 0.0461 - accuracy: 0.9841 - val_loss: 0.0605 - val_accuracy: 0.9820\n",
            "\n",
            "Epoch 00018: val_accuracy did not improve from 0.98230\n",
            "Epoch 19/60\n",
            "49/49 [==============================] - 2s 43ms/step - loss: 0.0391 - accuracy: 0.9865 - val_loss: 0.0645 - val_accuracy: 0.9806\n",
            "\n",
            "Epoch 00019: val_accuracy did not improve from 0.98230\n",
            "Epoch 20/60\n",
            "49/49 [==============================] - 2s 43ms/step - loss: 0.0396 - accuracy: 0.9868 - val_loss: 0.0618 - val_accuracy: 0.9819\n",
            "\n",
            "Epoch 00020: val_accuracy did not improve from 0.98230\n",
            "Epoch 21/60\n",
            "49/49 [==============================] - 2s 42ms/step - loss: 0.0367 - accuracy: 0.9876 - val_loss: 0.0675 - val_accuracy: 0.9803\n",
            "\n",
            "Epoch 00021: val_accuracy did not improve from 0.98230\n",
            "Epoch 22/60\n",
            "49/49 [==============================] - 2s 42ms/step - loss: 0.0360 - accuracy: 0.9880 - val_loss: 0.0599 - val_accuracy: 0.9833\n",
            "\n",
            "Epoch 00022: val_accuracy improved from 0.98230 to 0.98330, saving model to /content/gdrive/My Drive/Colab Notebooks/DL2021/GA1/Architecture1/cp-0022.ckpt\n",
            "Epoch 23/60\n",
            "49/49 [==============================] - 2s 42ms/step - loss: 0.0345 - accuracy: 0.9886 - val_loss: 0.0638 - val_accuracy: 0.9819\n",
            "\n",
            "Epoch 00023: val_accuracy did not improve from 0.98330\n",
            "Epoch 24/60\n",
            "49/49 [==============================] - 2s 42ms/step - loss: 0.0369 - accuracy: 0.9873 - val_loss: 0.0649 - val_accuracy: 0.9828\n",
            "\n",
            "Epoch 00024: val_accuracy did not improve from 0.98330\n",
            "Epoch 25/60\n",
            "49/49 [==============================] - 2s 42ms/step - loss: 0.0345 - accuracy: 0.9871 - val_loss: 0.0618 - val_accuracy: 0.9833\n",
            "\n",
            "Epoch 00025: val_accuracy did not improve from 0.98330\n",
            "Epoch 26/60\n",
            "49/49 [==============================] - 2s 42ms/step - loss: 0.0318 - accuracy: 0.9892 - val_loss: 0.0688 - val_accuracy: 0.9823\n",
            "\n",
            "Epoch 00026: val_accuracy did not improve from 0.98330\n",
            "Epoch 27/60\n",
            "49/49 [==============================] - 2s 42ms/step - loss: 0.0286 - accuracy: 0.9896 - val_loss: 0.0670 - val_accuracy: 0.9829\n",
            "\n",
            "Epoch 00027: val_accuracy did not improve from 0.98330\n",
            "Epoch 28/60\n",
            "49/49 [==============================] - 2s 42ms/step - loss: 0.0307 - accuracy: 0.9894 - val_loss: 0.0652 - val_accuracy: 0.9842\n",
            "\n",
            "Epoch 00028: val_accuracy improved from 0.98330 to 0.98420, saving model to /content/gdrive/My Drive/Colab Notebooks/DL2021/GA1/Architecture1/cp-0028.ckpt\n",
            "Epoch 29/60\n",
            "49/49 [==============================] - 2s 43ms/step - loss: 0.0294 - accuracy: 0.9903 - val_loss: 0.0626 - val_accuracy: 0.9844\n",
            "\n",
            "Epoch 00029: val_accuracy improved from 0.98420 to 0.98440, saving model to /content/gdrive/My Drive/Colab Notebooks/DL2021/GA1/Architecture1/cp-0029.ckpt\n",
            "Epoch 30/60\n",
            "49/49 [==============================] - 2s 42ms/step - loss: 0.0276 - accuracy: 0.9906 - val_loss: 0.0683 - val_accuracy: 0.9827\n",
            "\n",
            "Epoch 00030: val_accuracy did not improve from 0.98440\n",
            "Epoch 31/60\n",
            "49/49 [==============================] - 2s 42ms/step - loss: 0.0265 - accuracy: 0.9906 - val_loss: 0.0672 - val_accuracy: 0.9844\n",
            "\n",
            "Epoch 00031: val_accuracy did not improve from 0.98440\n",
            "Epoch 32/60\n",
            "49/49 [==============================] - 2s 41ms/step - loss: 0.0257 - accuracy: 0.9916 - val_loss: 0.0681 - val_accuracy: 0.9831\n",
            "\n",
            "Epoch 00032: val_accuracy did not improve from 0.98440\n",
            "Epoch 33/60\n",
            "49/49 [==============================] - 2s 42ms/step - loss: 0.0250 - accuracy: 0.9908 - val_loss: 0.0704 - val_accuracy: 0.9835\n",
            "\n",
            "Epoch 00033: val_accuracy did not improve from 0.98440\n",
            "Epoch 34/60\n",
            "49/49 [==============================] - 2s 44ms/step - loss: 0.0269 - accuracy: 0.9906 - val_loss: 0.0722 - val_accuracy: 0.9829\n",
            "\n",
            "Epoch 00034: val_accuracy did not improve from 0.98440\n",
            "Epoch 35/60\n",
            "49/49 [==============================] - 2s 42ms/step - loss: 0.0243 - accuracy: 0.9914 - val_loss: 0.0696 - val_accuracy: 0.9845\n",
            "\n",
            "Epoch 00035: val_accuracy improved from 0.98440 to 0.98450, saving model to /content/gdrive/My Drive/Colab Notebooks/DL2021/GA1/Architecture1/cp-0035.ckpt\n",
            "Epoch 36/60\n",
            "49/49 [==============================] - 2s 42ms/step - loss: 0.0253 - accuracy: 0.9912 - val_loss: 0.0663 - val_accuracy: 0.9837\n",
            "\n",
            "Epoch 00036: val_accuracy did not improve from 0.98450\n",
            "Epoch 37/60\n",
            "49/49 [==============================] - 2s 42ms/step - loss: 0.0260 - accuracy: 0.9911 - val_loss: 0.0661 - val_accuracy: 0.9843\n",
            "\n",
            "Epoch 00037: val_accuracy did not improve from 0.98450\n",
            "Epoch 38/60\n",
            "49/49 [==============================] - 2s 43ms/step - loss: 0.0224 - accuracy: 0.9928 - val_loss: 0.0690 - val_accuracy: 0.9828\n",
            "\n",
            "Epoch 00038: val_accuracy did not improve from 0.98450\n",
            "Epoch 39/60\n",
            "49/49 [==============================] - 2s 43ms/step - loss: 0.0264 - accuracy: 0.9910 - val_loss: 0.0702 - val_accuracy: 0.9841\n",
            "\n",
            "Epoch 00039: val_accuracy did not improve from 0.98450\n",
            "Epoch 40/60\n",
            "49/49 [==============================] - 2s 42ms/step - loss: 0.0260 - accuracy: 0.9908 - val_loss: 0.0693 - val_accuracy: 0.9835\n",
            "\n",
            "Epoch 00040: val_accuracy did not improve from 0.98450\n",
            "Epoch 41/60\n",
            "49/49 [==============================] - 2s 42ms/step - loss: 0.0255 - accuracy: 0.9910 - val_loss: 0.0662 - val_accuracy: 0.9843\n",
            "\n",
            "Epoch 00041: val_accuracy did not improve from 0.98450\n"
          ],
          "name": "stdout"
        }
      ]
    },
    {
      "cell_type": "markdown",
      "metadata": {
        "id": "x0ZHq_CAtGfD"
      },
      "source": [
        "## Analyse\r\n",
        "Analyse the trained model on train data and validation data"
      ]
    },
    {
      "cell_type": "markdown",
      "metadata": {
        "id": "48kIKuRltk3h"
      },
      "source": [
        "### Analyse last model"
      ]
    },
    {
      "cell_type": "code",
      "metadata": {
        "colab": {
          "base_uri": "https://localhost:8080/",
          "height": 391
        },
        "id": "NigJYW4X3Rf9",
        "outputId": "59466bd4-5cc0-4d56-d9ee-028f53a3e8a3"
      },
      "source": [
        "# model_1 now contains the model at the end of the training run\n",
        "# We analyse the result:\n",
        "\n",
        "[train_loss, train_accuracy] = model_1.evaluate(x_train, r_train, verbose=0)\n",
        "print(\"Training set Accuracy:{:7.4f}\".format(train_accuracy))\n",
        "print(\"Training set Loss:{:7.6f}\\n\".format(train_loss))\n",
        "\n",
        "[val_loss, val_accuracy] = model_1.evaluate(x_val, r_val, verbose=0)\n",
        "print(\"Validation set Accuracy:{:7.4f}\".format(val_accuracy))\n",
        "print(\"Validation set Loss:{:7.6f}\\n\".format(val_loss))\n",
        "\n",
        "#Now we visualise what happened during training\n",
        "plot_history(history_1)"
      ],
      "execution_count": 83,
      "outputs": [
        {
          "output_type": "stream",
          "text": [
            "Training set Accuracy: 0.9994\n",
            "Training set Loss:0.002282\n",
            "\n",
            "Validation set Accuracy: 0.9843\n",
            "Validation set Loss:0.066155\n",
            "\n"
          ],
          "name": "stdout"
        },
        {
          "output_type": "display_data",
          "data": {
            "image/png": "[encoded data removed]",
            "text/plain": [
              "<Figure size 864x288 with 2 Axes>"
            ]
          },
          "metadata": {
            "tags": [],
            "needs_background": "light"
          }
        }
      ]
    },
    {
      "cell_type": "markdown",
      "metadata": {
        "id": "TVOJeV-otnyX"
      },
      "source": [
        "### Analyse best model (from checkpoint)"
      ]
    },
    {
      "cell_type": "code",
      "metadata": {
        "id": "ugpD8ks6ts2H",
        "colab": {
          "base_uri": "https://localhost:8080/"
        },
        "outputId": "d3f33c06-e9fc-4bed-bf87-dd1f2f87668f"
      },
      "source": [
        "import pathlib\r\n",
        "\r\n",
        "# Find latest checkpoint\r\n",
        "# Sort the checkpoints by modification time.\r\n",
        "checkpoints = pathlib.Path(checkpoint_dir).glob(\"*.index\")\r\n",
        "checkpoints = sorted(checkpoints, key=lambda cp:cp.stat().st_mtime)\r\n",
        "checkpoints = [cp.with_suffix('') for cp in checkpoints]\r\n",
        "latest = str(checkpoints[-1])\r\n",
        "print(latest)\r\n",
        "\r\n",
        "# Now restore the model\r\n",
        "\r\n",
        "best_model_1 = initial_model() # this is a new model\r\n",
        "best_model_1.load_weights(latest)\r\n",
        "\r\n",
        "# The code below should give slightly better results than that for the original model\r\n",
        "[train_loss, train_accuracy] = best_model_1.evaluate(x_train, r_train, verbose=0)\r\n",
        "print(\"Training set Accuracy:{:7.4f}\".format(train_accuracy))\r\n",
        "print(\"Training set Loss:{:7.6f}\\n\".format(train_loss))\r\n",
        "\r\n",
        "[val_loss, val_accuracy] = best_model_1.evaluate(x_val, r_val, verbose=0)\r\n",
        "print(\"Validation set Accuracy:{:7.4f}\".format(val_accuracy))\r\n",
        "print(\"Validation set Loss:{:7.6f}\\n\".format(val_loss))"
      ],
      "execution_count": 84,
      "outputs": [
        {
          "output_type": "stream",
          "text": [
            "/content/gdrive/My Drive/Colab Notebooks/DL2021/GA1/Architecture1/cp-0035.ckpt\n",
            "Training set Accuracy: 0.9991\n",
            "Training set Loss:0.003268\n",
            "\n",
            "Validation set Accuracy: 0.9845\n",
            "Validation set Loss:0.069566\n",
            "\n"
          ],
          "name": "stdout"
        }
      ]
    },
    {
      "cell_type": "markdown",
      "metadata": {
        "id": "nJ5Riys4t5ro"
      },
      "source": [
        "## Final model and analysis\r\n",
        "All train data, basic measurements on testdata"
      ]
    },
    {
      "cell_type": "markdown",
      "metadata": {
        "id": "nVM2IoorvIq7"
      },
      "source": [
        "### Retrain on all data"
      ]
    },
    {
      "cell_type": "code",
      "metadata": {
        "id": "Pcu_lr0Ot-lz",
        "colab": {
          "base_uri": "https://localhost:8080/"
        },
        "outputId": "e6144e6d-ad93-48a6-fe30-ee06bb7338be"
      },
      "source": [
        "model_for_test = initial_model()\r\n",
        "model_1.summary()\r\n",
        "\r\n",
        "# We now add batch size to the mix of training parameters\r\n",
        "# If you don't specify batch size below, all training data will be used for each learning step\r\n",
        "batch_size = 1024\r\n",
        "epochs = 40\r\n",
        "\r\n",
        "history_for_test = model_for_test.fit(x_train_all, r_train_all,\r\n",
        "                    batch_size=batch_size,\r\n",
        "                    epochs=epochs,\r\n",
        "                    verbose=1\r\n",
        "                    )\r\n"
      ],
      "execution_count": 85,
      "outputs": [
        {
          "output_type": "stream",
          "text": [
            "Model: \"sequential_27\"\n",
            "_________________________________________________________________\n",
            "Layer (type)                 Output Shape              Param #   \n",
            "=================================================================\n",
            "dense_79 (Dense)             (None, 392)               307720    \n",
            "_________________________________________________________________\n",
            "dropout_26 (Dropout)         (None, 392)               0         \n",
            "_________________________________________________________________\n",
            "dense_80 (Dense)             (None, 64)                25152     \n",
            "_________________________________________________________________\n",
            "dropout_27 (Dropout)         (None, 64)                0         \n",
            "_________________________________________________________________\n",
            "dense_81 (Dense)             (None, 10)                650       \n",
            "=================================================================\n",
            "Total params: 333,522\n",
            "Trainable params: 333,522\n",
            "Non-trainable params: 0\n",
            "_________________________________________________________________\n",
            "Epoch 1/40\n",
            "59/59 [==============================] - 3s 38ms/step - loss: 0.9546 - accuracy: 0.6971\n",
            "Epoch 2/40\n",
            "59/59 [==============================] - 2s 37ms/step - loss: 0.2149 - accuracy: 0.9374\n",
            "Epoch 3/40\n",
            "59/59 [==============================] - 2s 37ms/step - loss: 0.1608 - accuracy: 0.9511\n",
            "Epoch 4/40\n",
            "59/59 [==============================] - 2s 37ms/step - loss: 0.1237 - accuracy: 0.9620\n",
            "Epoch 5/40\n",
            "59/59 [==============================] - 2s 37ms/step - loss: 0.1037 - accuracy: 0.9674\n",
            "Epoch 6/40\n",
            "59/59 [==============================] - 2s 37ms/step - loss: 0.0936 - accuracy: 0.9707\n",
            "Epoch 7/40\n",
            "59/59 [==============================] - 2s 37ms/step - loss: 0.0837 - accuracy: 0.9743\n",
            "Epoch 8/40\n",
            "59/59 [==============================] - 2s 37ms/step - loss: 0.0746 - accuracy: 0.9757\n",
            "Epoch 9/40\n",
            "59/59 [==============================] - 2s 37ms/step - loss: 0.0685 - accuracy: 0.9784\n",
            "Epoch 10/40\n",
            "59/59 [==============================] - 2s 38ms/step - loss: 0.0648 - accuracy: 0.9786\n",
            "Epoch 11/40\n",
            "59/59 [==============================] - 2s 37ms/step - loss: 0.0563 - accuracy: 0.9812\n",
            "Epoch 12/40\n",
            "59/59 [==============================] - 2s 38ms/step - loss: 0.0581 - accuracy: 0.9811\n",
            "Epoch 13/40\n",
            "59/59 [==============================] - 2s 37ms/step - loss: 0.0535 - accuracy: 0.9824\n",
            "Epoch 14/40\n",
            "59/59 [==============================] - 2s 37ms/step - loss: 0.0485 - accuracy: 0.9847\n",
            "Epoch 15/40\n",
            "59/59 [==============================] - 2s 37ms/step - loss: 0.0481 - accuracy: 0.9839\n",
            "Epoch 16/40\n",
            "59/59 [==============================] - 2s 37ms/step - loss: 0.0468 - accuracy: 0.9840\n",
            "Epoch 17/40\n",
            "59/59 [==============================] - 2s 37ms/step - loss: 0.0427 - accuracy: 0.9856\n",
            "Epoch 18/40\n",
            "59/59 [==============================] - 2s 38ms/step - loss: 0.0418 - accuracy: 0.9862\n",
            "Epoch 19/40\n",
            "59/59 [==============================] - 2s 38ms/step - loss: 0.0383 - accuracy: 0.9871\n",
            "Epoch 20/40\n",
            "59/59 [==============================] - 2s 38ms/step - loss: 0.0353 - accuracy: 0.9880\n",
            "Epoch 21/40\n",
            "59/59 [==============================] - 2s 37ms/step - loss: 0.0383 - accuracy: 0.9871\n",
            "Epoch 22/40\n",
            "59/59 [==============================] - 2s 38ms/step - loss: 0.0362 - accuracy: 0.9874\n",
            "Epoch 23/40\n",
            "59/59 [==============================] - 2s 38ms/step - loss: 0.0377 - accuracy: 0.9874\n",
            "Epoch 24/40\n",
            "59/59 [==============================] - 2s 38ms/step - loss: 0.0316 - accuracy: 0.9891\n",
            "Epoch 25/40\n",
            "59/59 [==============================] - 2s 38ms/step - loss: 0.0351 - accuracy: 0.9889\n",
            "Epoch 26/40\n",
            "59/59 [==============================] - 2s 37ms/step - loss: 0.0296 - accuracy: 0.9901\n",
            "Epoch 27/40\n",
            "59/59 [==============================] - 2s 38ms/step - loss: 0.0318 - accuracy: 0.9895\n",
            "Epoch 28/40\n",
            "59/59 [==============================] - 2s 38ms/step - loss: 0.0328 - accuracy: 0.9891\n",
            "Epoch 29/40\n",
            "59/59 [==============================] - 2s 38ms/step - loss: 0.0317 - accuracy: 0.9896\n",
            "Epoch 30/40\n",
            "59/59 [==============================] - 2s 37ms/step - loss: 0.0285 - accuracy: 0.9902\n",
            "Epoch 31/40\n",
            "59/59 [==============================] - 2s 38ms/step - loss: 0.0260 - accuracy: 0.9910\n",
            "Epoch 32/40\n",
            "59/59 [==============================] - 2s 38ms/step - loss: 0.0329 - accuracy: 0.9887\n",
            "Epoch 33/40\n",
            "59/59 [==============================] - 2s 37ms/step - loss: 0.0292 - accuracy: 0.9901\n",
            "Epoch 34/40\n",
            "59/59 [==============================] - 2s 37ms/step - loss: 0.0271 - accuracy: 0.9905\n",
            "Epoch 35/40\n",
            "59/59 [==============================] - 2s 37ms/step - loss: 0.0263 - accuracy: 0.9904\n",
            "Epoch 36/40\n",
            "59/59 [==============================] - 2s 38ms/step - loss: 0.0261 - accuracy: 0.9910\n",
            "Epoch 37/40\n",
            "59/59 [==============================] - 2s 38ms/step - loss: 0.0266 - accuracy: 0.9905\n",
            "Epoch 38/40\n",
            "59/59 [==============================] - 2s 37ms/step - loss: 0.0246 - accuracy: 0.9914\n",
            "Epoch 39/40\n",
            "59/59 [==============================] - 2s 38ms/step - loss: 0.0226 - accuracy: 0.9925\n",
            "Epoch 40/40\n",
            "59/59 [==============================] - 2s 38ms/step - loss: 0.0278 - accuracy: 0.9908\n"
          ],
          "name": "stdout"
        }
      ]
    },
    {
      "cell_type": "markdown",
      "metadata": {
        "id": "vET4MUlZvNc4"
      },
      "source": [
        "### Plot Accuracy and Loss"
      ]
    },
    {
      "cell_type": "code",
      "metadata": {
        "id": "PqRytrMdvBMj",
        "colab": {
          "base_uri": "https://localhost:8080/",
          "height": 297
        },
        "outputId": "13b811dc-d32b-4772-aee8-9335c58c7dac"
      },
      "source": [
        "plt.figure(figsize = (12,4))\r\n",
        "plt.subplot(1,2,1)\r\n",
        "\r\n",
        "plt.xlabel('Epoch')\r\n",
        "plt.ylabel('Accuracy')\r\n",
        "plt.plot(history_for_test.epoch, np.array(history_for_test.history['accuracy']),'g-',\r\n",
        "        label='Train accuracy')\r\n",
        "plt.legend()\r\n",
        "\r\n",
        "plt.subplot(1,2,2)\r\n",
        "plt.xlabel('Epoch')\r\n",
        "plt.ylabel('Loss minimised by model')\r\n",
        "plt.plot(history_for_test.epoch, np.array(history_for_test.history['loss']),'g-',\r\n",
        "        label='Train loss')\r\n",
        "plt.legend()"
      ],
      "execution_count": 86,
      "outputs": [
        {
          "output_type": "execute_result",
          "data": {
            "text/plain": [
              "<matplotlib.legend.Legend at 0x7f259af4efd0>"
            ]
          },
          "metadata": {
            "tags": []
          },
          "execution_count": 86
        },
        {
          "output_type": "display_data",
          "data": {
            "image/png": "[encoded data removed]",
            "text/plain": [
              "<Figure size 864x288 with 2 Axes>"
            ]
          },
          "metadata": {
            "tags": [],
            "needs_background": "light"
          }
        }
      ]
    },
    {
      "cell_type": "markdown",
      "metadata": {
        "id": "GwKlj0LHvFJb"
      },
      "source": [
        "### Saving the whole model"
      ]
    },
    {
      "cell_type": "code",
      "metadata": {
        "id": "O4maECyfvD3o",
        "colab": {
          "base_uri": "https://localhost:8080/"
        },
        "outputId": "c0d0de94-0684-42d4-8e8a-e93fd378fb3e"
      },
      "source": [
        "#the file type for storing complete models is \".h5\"\r\n",
        "# feel free to change the path to whatever suits you best!\r\n",
        "modelpath = checkpoint_dir+\"architecture1_final_model_2.h5\"\r\n",
        "\r\n",
        "print(\"Final model saved as \",modelpath)\r\n",
        "\r\n",
        "# Save entire model to a HDF5 file\r\n",
        "model_for_test.save(modelpath)"
      ],
      "execution_count": 87,
      "outputs": [
        {
          "output_type": "stream",
          "text": [
            "Final model saved as  /content/gdrive/My Drive/Colab Notebooks/DL2021/GA1/Architecture1/architecture1_final_model_2.h5\n"
          ],
          "name": "stdout"
        }
      ]
    },
    {
      "cell_type": "markdown",
      "metadata": {
        "id": "dI9MjVD3vX8G"
      },
      "source": [
        "### Measurements on final model"
      ]
    },
    {
      "cell_type": "code",
      "metadata": {
        "id": "ewS9rl9svXJP",
        "colab": {
          "base_uri": "https://localhost:8080/"
        },
        "outputId": "40a6f022-a434-4e64-ae4d-716dacde4713"
      },
      "source": [
        "# The code below should give the same results as that for the original model\r\n",
        "[train_loss, train_accuracy] = model_for_test.evaluate(x_train_all, r_train_all, verbose=0)\r\n",
        "print(\"Training set Accuracy:{:7.4f}\".format(train_accuracy))\r\n",
        "print(\"Training set Loss:{:7.6f}\\n\".format(train_loss))\r\n",
        "\r\n",
        "[test_loss, test_accuracy] = model_for_test.evaluate(x_test, r_test, verbose=0)\r\n",
        "print(\"Validation set Accuracy:{:7.4f}\".format(test_accuracy))\r\n",
        "print(\"Validation set Loss:{:7.6f}\\n\".format(test_loss))"
      ],
      "execution_count": 88,
      "outputs": [
        {
          "output_type": "stream",
          "text": [
            "WARNING:tensorflow:Unresolved object in checkpoint: (root).optimizer.iter\n",
            "WARNING:tensorflow:Unresolved object in checkpoint: (root).optimizer.beta_1\n",
            "WARNING:tensorflow:Unresolved object in checkpoint: (root).optimizer.beta_2\n",
            "WARNING:tensorflow:Unresolved object in checkpoint: (root).optimizer.decay\n",
            "WARNING:tensorflow:Unresolved object in checkpoint: (root).optimizer.learning_rate\n",
            "WARNING:tensorflow:A checkpoint was restored (e.g. tf.train.Checkpoint.restore or tf.keras.Model.load_weights) but not all checkpointed values were used. See above for specific issues. Use expect_partial() on the load status object, e.g. tf.train.Checkpoint.restore(...).expect_partial(), to silence these warnings, or use assert_consumed() to make the check explicit. See https://www.tensorflow.org/guide/checkpoint#loading_mechanics for details.\n",
            "Training set Accuracy: 0.9991\n",
            "Training set Loss:0.002900\n",
            "\n",
            "Validation set Accuracy: 0.9829\n",
            "Validation set Loss:0.072923\n",
            "\n"
          ],
          "name": "stdout"
        }
      ]
    }
  ]
}