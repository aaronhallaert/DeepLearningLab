{
  "nbformat": 4,
  "nbformat_minor": 0,
  "metadata": {
    "colab": {
      "name": "GA1 - Train Init.ipynb",
      "provenance": [],
      "authorship_tag": "ABX9TyOu6yS0JFYZzbYVaka9r0JI"
    },
    "kernelspec": {
      "name": "python3",
      "display_name": "Python 3"
    }
  },
  "cells": [
    {
      "cell_type": "markdown",
      "metadata": {
        "id": "u2aKnWDyp0PT"
      },
      "source": [
        "# First Graded Assignment \r\n",
        "## (Aaron - Architecture 1)"
      ]
    },
    {
      "cell_type": "markdown",
      "metadata": {
        "id": "Us0MnVh_rW0Q"
      },
      "source": [
        "## Setup"
      ]
    },
    {
      "cell_type": "markdown",
      "metadata": {
        "id": "c7ib5c57qAJs"
      },
      "source": [
        "### Init modules and helper functions\r\n",
        "Load modules and set seed"
      ]
    },
    {
      "cell_type": "code",
      "metadata": {
        "id": "PQ-XU9TLpyHK"
      },
      "source": [
        "try:\r\n",
        "  # %tensorflow_version only exists in Colab.\r\n",
        "  %tensorflow_version 2.x\r\n",
        "except Exception:\r\n",
        "  pass\r\n",
        "\r\n",
        "# TensorFlow and tf.keras\r\n",
        "import tensorflow as tf\r\n",
        "from tensorflow import keras\r\n",
        "\r\n",
        "print(tf.__version__)\r\n",
        "\r\n",
        "# Helper libraries\r\n",
        "import numpy as np\r\n",
        "import matplotlib.pyplot as plt\r\n",
        "import sklearn as sk\r\n",
        "import pandas as pd\r\n",
        "\r\n",
        "# fix random seed for reproducibility\r\n",
        "seed = 2021\r\n",
        "np.random.seed(seed)  \r\n",
        "\r\n",
        "import sklearn as sk\r\n",
        "from sklearn.model_selection import train_test_split\r\n",
        "\r\n",
        "from tensorflow.keras.datasets import mnist\r\n",
        "from tensorflow.keras.models import Sequential\r\n",
        "from tensorflow.keras.layers import Dense, Dropout\r\n",
        "from tensorflow.keras.optimizers import Adam\r\n",
        "from tensorflow.keras.constraints import max_norm\r\n",
        "from tensorflow.keras.callbacks import EarlyStopping, ModelCheckpoint\r\n",
        "from tensorflow.keras.models import load_model"
      ],
      "execution_count": null,
      "outputs": []
    },
    {
      "cell_type": "markdown",
      "metadata": {
        "id": "gih7AYCrqITl"
      },
      "source": [
        "Helper function to plot history"
      ]
    },
    {
      "cell_type": "code",
      "metadata": {
        "id": "rL5nGo4s-PyD"
      },
      "source": [
        "#helper functions for visualisation\n",
        "\n",
        "# same function as in the getting started notebook, \n",
        "# but now plotting the loss functions used in this notebook\n",
        "# we plot the loss we want to optimise on th eleft (in this case: accuracy)\n",
        "def plot_history(history):\n",
        "  plt.figure(figsize = (12,4))\n",
        "  plt.subplot(1,2,1)\n",
        "\n",
        "  plt.xlabel('Epoch')\n",
        "  plt.ylabel('Accuracy')\n",
        "  plt.plot(history.epoch, np.array(history.history['accuracy']),'g-',\n",
        "           label='Train accuracy')\n",
        "  plt.plot(history.epoch, np.array(history.history['val_accuracy']),'r-',\n",
        "           label = 'Validation accuracy')\n",
        "  plt.legend()\n",
        "\n",
        "  plt.subplot(1,2,2)\n",
        "  plt.xlabel('Epoch')\n",
        "  plt.ylabel('Loss minimised by model')\n",
        "  plt.plot(history.epoch, np.array(history.history['loss']),'g-',\n",
        "           label='Train loss')\n",
        "  plt.plot(history.epoch, np.array(history.history['val_loss']),'r-',\n",
        "           label = 'Validation loss')\n",
        "  plt.legend()"
      ],
      "execution_count": 1,
      "outputs": []
    },
    {
      "cell_type": "markdown",
      "metadata": {
        "id": "diH1fR8GqPdy"
      },
      "source": [
        "### Mounting Google Drive"
      ]
    },
    {
      "cell_type": "code",
      "metadata": {
        "id": "FkPQKyYsqSkr"
      },
      "source": [
        "from google.colab import drive\r\n",
        "drive.mount('/content/gdrive')\r\n",
        "\r\n",
        "import os\r\n",
        "\r\n",
        "#!ls '/content/gdrive/My Drive/'"
      ],
      "execution_count": null,
      "outputs": []
    },
    {
      "cell_type": "markdown",
      "metadata": {
        "id": "Bjb18F3cqdYp"
      },
      "source": [
        "### Loading and visualizing the data"
      ]
    },
    {
      "cell_type": "code",
      "metadata": {
        "id": "zuoepw55qh7c"
      },
      "source": [
        "# load train and test data\r\n",
        "(x_train_all, r_train_all_class), (x_test, r_test_class) = mnist.load_data()\r\n",
        "x_train_all = x_train_all.reshape(x_train_all.shape[0], -1)\r\n",
        "x_test = x_test.reshape(x_test.shape[0], -1)\r\n",
        "\r\n",
        "# some preprocessing ... convert integers to floating point and rescale them to [0,1] range\r\n",
        "x_train_all = x_train_all.astype('float32')\r\n",
        "x_test = x_test.astype('float32')\r\n",
        "x_train_all /= 255\r\n",
        "x_test /= 255\r\n",
        "\r\n",
        "print(x_train_all.shape[0], ' original train samples')\r\n",
        "print(x_test.shape[0], ' original test samples')\r\n",
        "\r\n",
        "# This data set contains a train set and test set\r\n",
        "# we still need to split off a validation set\r\n",
        "\r\n",
        "# Number of test samples\r\n",
        "N_test = x_test.shape[0]\r\n",
        "\r\n",
        "# split off 10000 samples for validation\r\n",
        "N_val = 10000\r\n",
        "N_train = x_train_all.shape[0] - N_val\r\n",
        "\r\n",
        "# now extract the samples into train, validate and test sets\r\n",
        "# set random state to make sure you get the same split each time\r\n",
        "x_train, x_val, r_train_class, r_val_class = train_test_split(x_train_all, r_train_all_class, test_size = N_val, random_state=0)\r\n",
        "\r\n",
        "# For initial explorations, it is often useful to \r\n",
        "# try out some things first on a smaller data set\r\n",
        "# in comment below is the code for using all training data\r\n",
        "# in this case, we select 10000 samples for training\r\n",
        "# don't forget to use all training examples for your final model\r\n",
        "# by replacing the line below by the commented one beneath it\r\n",
        "\r\n",
        "# CHANGE!\r\n",
        "\r\n",
        "N_train = 10000\r\n",
        "\r\n",
        "x_train = x_train[:N_train,:]\r\n",
        "r_train_class = r_train_class[:N_train]\r\n",
        "\r\n",
        "print(\"Using \",x_train.shape[0],\" train samples, \", x_val.shape[0], \" validation samples and \",x_test.shape[0],\" test samples\")\r\n",
        "print(\"Each sample has \",x_train.shape[1],\" features\")"
      ],
      "execution_count": null,
      "outputs": []
    },
    {
      "cell_type": "code",
      "metadata": {
        "id": "tqKL4kOuq2DY"
      },
      "source": [
        "# The features in this data set are the pixels of a 28x28 pixel image\r\n",
        "# You can visualise an individual image as follows\r\n",
        "# (here for the first 9 images in the training set)\r\n",
        "\r\n",
        "f = plt.figure(figsize=(10,10));\r\n",
        "for idx in range(9):\r\n",
        "    plt.subplot(3,3,idx+1)\r\n",
        "    plt.subplots_adjust(hspace=0.5)\r\n",
        "    plt.title(\"Label is \" + str(r_train_class[idx]))\r\n",
        "    plt.imshow(np.reshape(x_train[idx,:],(28,28)), cmap='Greys', interpolation='None')\r\n",
        "\r\n",
        "# The labels are numbers from 0 to 9\r\n",
        "print(\"A few labels:\")\r\n",
        "print(r_train_class[:9])"
      ],
      "execution_count": null,
      "outputs": []
    },
    {
      "cell_type": "markdown",
      "metadata": {
        "id": "r7JGQyBBrBO5"
      },
      "source": [
        "### Convert labels for multiclass"
      ]
    },
    {
      "cell_type": "code",
      "metadata": {
        "id": "c4cdY2CLrHBO"
      },
      "source": [
        "r_train_all = keras.utils.to_categorical(r_train_all_class)\r\n",
        "r_train = keras.utils.to_categorical(r_train_class)\r\n",
        "r_val = keras.utils.to_categorical(r_val_class)\r\n",
        "r_test = keras.utils.to_categorical(r_test_class)\r\n",
        "\r\n",
        "# look at the new labels"
      ],
      "execution_count": null,
      "outputs": []
    },
    {
      "cell_type": "markdown",
      "metadata": {
        "id": "pOp6909arNvK"
      },
      "source": [
        "## Model Architecture"
      ]
    },
    {
      "cell_type": "code",
      "metadata": {
        "id": "LsmJgf1QrS16"
      },
      "source": [
        "num_classes = 10\r\n",
        "\r\n",
        "# this first network has 2 hidden layers\r\n",
        "# the first layer needs to be told explicitly what the input shape is\r\n",
        "# the output layer has 10 neurons: one neuron per class\r\n",
        "\r\n",
        "# Note that we use the \"He\" initialisation scheme here, since this is often advised \r\n",
        "# for layers with ReLu neurons - although you are free to change this, it is not necessary for this assignment\r\n",
        "\r\n",
        "# Also note that \"dropout\" is implemented in separate layers in Keras\r\n",
        "# they are added below in comment to show you how to use them\r\n",
        "# note that you can also start your network with a dropout layer (randomly setting input features to 0)\r\n",
        "\r\n",
        "def initial_model():\r\n",
        "    # create linear model\r\n",
        "    model = Sequential()\r\n",
        "    # we start with a first fully connected layer\r\n",
        "    model.add(Dense(16, activation='relu', input_shape=(784,), kernel_initializer='he_uniform'))\r\n",
        "    ## then add some dropout, set at a very low value for now\r\n",
        "    #model.add(Dropout(0.001))\r\n",
        "    # a second dense layer with half as many neurons\r\n",
        "    model.add(Dense(16, activation='relu', kernel_initializer='he_uniform'))\r\n",
        "    ## some more dropout\r\n",
        "    #model.add(Dropout(0.001))\r\n",
        "    # and the output layer\r\n",
        "    model.add(Dense(num_classes, activation='softmax'))\r\n",
        "\r\n",
        "    model.compile(loss='categorical_crossentropy',\r\n",
        "                  optimizer=Adam(learning_rate=0.001), # set to default learning rate here\r\n",
        "                  metrics=['accuracy']) # save accuracy in addition to cross entropy error\r\n",
        "    return model"
      ],
      "execution_count": null,
      "outputs": []
    },
    {
      "cell_type": "markdown",
      "metadata": {
        "id": "1luGMHMVrkmH"
      },
      "source": [
        "## Training"
      ]
    },
    {
      "cell_type": "code",
      "metadata": {
        "id": "tiVCm2VKsSGo"
      },
      "source": [
        "# Model checkpoints are saved versions of intermediate models during training\r\n",
        "\r\n",
        "# Set the path for saving intermediate model checkpoints\r\n",
        "\r\n",
        "# With the setting below, models will be dumped in your drive in the specified folder (make this folder first)\r\n",
        "# Change this path name to a unique path for each model you want to keep (otherwise they will be overwritten)\r\n",
        "\r\n",
        "checkpoint_dir = \"/content/gdrive/My Drive/Colab Notebooks/DL2021/GA1/\"\r\n",
        "print(\"Models will be saved in \",checkpoint_dir)\r\n",
        "# Have a look what is already in that path\r\n",
        "!ls \"{checkpoint_dir}\"\r\n",
        "\r\n",
        "\r\n",
        "# CHANGE THIS!\r\n",
        "# architecture1_model_version_0.1\r\n",
        "model_savename = checkpoint_dir+\"initialmodel_model_version_0.1.h5\"\r\n",
        "checkpoint_path = checkpoint_dir+\"cp-{epoch:04d}.ckpt\"\r\n",
        "\r\n",
        "\r\n",
        "# Create your model\r\n",
        "model_1 = initial_model()\r\n",
        "model_1.summary()\r\n",
        "\r\n",
        "\r\n",
        "# We now add batch size to the mix of training parameters\r\n",
        "# If you don't specify batch size below, all training data will be used for each learning step\r\n",
        "batch_size = 16\r\n",
        "epochs = 20\r\n",
        "\r\n",
        "# Modelcheckpoint callback:\r\n",
        "# - save at every epoch if 'save_best_only'=false\r\n",
        "# - save complete model if 'save weights only' = false\r\n",
        "\r\n",
        "cp_callback = tf.keras.callbacks.ModelCheckpoint(checkpoint_path, \r\n",
        "                                                 monitor='val_accuracy',\r\n",
        "                                                 save_weights_only=True,\r\n",
        "                                                 save_best_only=True,\r\n",
        "                                                 verbose=1)\r\n",
        "\r\n",
        "# Set early stopping: with parameters below, training will stop \r\n",
        "# when validation accuracy hasn't improved for 6 epochs\r\n",
        "# (or when the total number of epochs has passed)\r\n",
        "# If necessary, you can also set a threshold, ignoring all improvements below the threshold\r\n",
        "stopping_callback = tf.keras.callbacks.EarlyStopping(monitor='val_accuracy', patience=4,min_delta=0.0001)\r\n",
        "\r\n",
        "# NOTE that it may be useful NOT to use early stopping while you are tisll tuning learning convergence\r\n",
        "# also be sure to adapt the patience in order to allow convergence\r\n",
        "\r\n",
        "# Putting verbose = 1 below (instead of 0 i the previous notebook) plots out 1 line per epoch\r\n",
        "history_1 = model_1.fit(x_train, r_train,\r\n",
        "                    batch_size=batch_size,\r\n",
        "                    epochs=epochs,\r\n",
        "                    verbose=1,\r\n",
        "                    callbacks = [cp_callback, stopping_callback],\r\n",
        "                    validation_data=(x_val, r_val)\r\n",
        "                    )\r\n",
        "# If you want to save the weights of this trained model, run:\r\n",
        "model_1.save_weights(model_savename)"
      ],
      "execution_count": null,
      "outputs": []
    },
    {
      "cell_type": "markdown",
      "metadata": {
        "id": "x0ZHq_CAtGfD"
      },
      "source": [
        "## Analyse\r\n",
        "Analyse the trained model on train data and validation data"
      ]
    },
    {
      "cell_type": "markdown",
      "metadata": {
        "id": "48kIKuRltk3h"
      },
      "source": [
        "### Analyse last model"
      ]
    },
    {
      "cell_type": "code",
      "metadata": {
        "colab": {
          "base_uri": "https://localhost:8080/",
          "height": 390
        },
        "id": "NigJYW4X3Rf9",
        "outputId": "788afe03-ddef-4587-98d6-0a0532c9f55b"
      },
      "source": [
        "# model_1 now contains the model at the end of the training run\n",
        "# We analyse the result:\n",
        "\n",
        "[train_loss, train_accuracy] = model_1.evaluate(x_train, r_train, verbose=0)\n",
        "print(\"Training set Accuracy:{:7.4f}\".format(train_accuracy))\n",
        "print(\"Training set Loss:{:7.6f}\\n\".format(train_loss))\n",
        "\n",
        "[val_loss, val_accuracy] = model_1.evaluate(x_val, r_val, verbose=0)\n",
        "print(\"Validation set Accuracy:{:7.4f}\".format(val_accuracy))\n",
        "print(\"Validation set Loss:{:7.6f}\\n\".format(val_loss))\n",
        "\n",
        "#Now we visualise what happened during training\n",
        "plot_history(history_1)"
      ],
      "execution_count": null,
      "outputs": [
        {
          "output_type": "stream",
          "text": [
            "Training set Accuracy: 0.9713\n",
            "Training set Loss:0.107090\n",
            "\n",
            "Validation set Accuracy: 0.9316\n",
            "Validation set Loss:0.236494\n",
            "\n"
          ],
          "name": "stdout"
        },
        {
          "output_type": "display_data",
          "data": {
            "image/png": "[encoded data removed]",
            "text/plain": [
              "<Figure size 864x288 with 2 Axes>"
            ]
          },
          "metadata": {
            "tags": [],
            "needs_background": "light"
          }
        }
      ]
    },
    {
      "cell_type": "markdown",
      "metadata": {
        "id": "TVOJeV-otnyX"
      },
      "source": [
        "### Analyse best model (from checkpoint)"
      ]
    },
    {
      "cell_type": "code",
      "metadata": {
        "id": "ugpD8ks6ts2H"
      },
      "source": [
        "import pathlib\r\n",
        "\r\n",
        "# Find latest checkpoint\r\n",
        "# Sort the checkpoints by modification time.\r\n",
        "checkpoints = pathlib.Path(checkpoint_dir).glob(\"*.index\")\r\n",
        "checkpoints = sorted(checkpoints, key=lambda cp:cp.stat().st_mtime)\r\n",
        "checkpoints = [cp.with_suffix('') for cp in checkpoints]\r\n",
        "latest = str(checkpoints[-1])\r\n",
        "print(latest)\r\n",
        "\r\n",
        "# Now restore the model\r\n",
        "\r\n",
        "best_model_1 = initial_model() # this is a new model\r\n",
        "best_model_1.load_weights(latest)\r\n",
        "\r\n",
        "# The code below should give slightly better results than that for the original model\r\n",
        "[train_loss, train_accuracy] = best_model_1.evaluate(x_train, r_train, verbose=0)\r\n",
        "print(\"Training set Accuracy:{:7.4f}\".format(train_accuracy))\r\n",
        "print(\"Training set Loss:{:7.6f}\\n\".format(train_loss))\r\n",
        "\r\n",
        "[val_loss, val_accuracy] = best_model_1.evaluate(x_val, r_val, verbose=0)\r\n",
        "print(\"Validation set Accuracy:{:7.4f}\".format(val_accuracy))\r\n",
        "print(\"Validation set Loss:{:7.6f}\\n\".format(val_loss))"
      ],
      "execution_count": null,
      "outputs": []
    },
    {
      "cell_type": "markdown",
      "metadata": {
        "id": "nJ5Riys4t5ro"
      },
      "source": [
        "## Final model and analysis\r\n",
        "All train data, basic measurements on testdata"
      ]
    },
    {
      "cell_type": "markdown",
      "metadata": {
        "id": "nVM2IoorvIq7"
      },
      "source": [
        "### Retrain on all data"
      ]
    },
    {
      "cell_type": "code",
      "metadata": {
        "id": "Pcu_lr0Ot-lz"
      },
      "source": [
        "model_for_test = initial_model()\r\n",
        "model_1.summary()\r\n",
        "\r\n",
        "# We now add batch size to the mix of training parameters\r\n",
        "# If you don't specify batch size below, all training data will be used for each learning step\r\n",
        "batch_size = 16\r\n",
        "epochs = 10\r\n",
        "\r\n",
        "history_for_test = model_for_test.fit(x_train_all, r_train_all,\r\n",
        "                    batch_size=batch_size,\r\n",
        "                    epochs=epochs,\r\n",
        "                    verbose=1\r\n",
        "                    )\r\n"
      ],
      "execution_count": null,
      "outputs": []
    },
    {
      "cell_type": "markdown",
      "metadata": {
        "id": "vET4MUlZvNc4"
      },
      "source": [
        "### Plot Accuracy and Loss"
      ]
    },
    {
      "cell_type": "code",
      "metadata": {
        "id": "PqRytrMdvBMj"
      },
      "source": [
        "plt.figure(figsize = (12,4))\r\n",
        "plt.subplot(1,2,1)\r\n",
        "\r\n",
        "plt.xlabel('Epoch')\r\n",
        "plt.ylabel('Accuracy')\r\n",
        "plt.plot(history_for_test.epoch, np.array(history_for_test.history['accuracy']),'g-',\r\n",
        "        label='Train accuracy')\r\n",
        "plt.legend()\r\n",
        "\r\n",
        "plt.subplot(1,2,2)\r\n",
        "plt.xlabel('Epoch')\r\n",
        "plt.ylabel('Loss minimised by model')\r\n",
        "plt.plot(history_for_test.epoch, np.array(history_for_test.history['loss']),'g-',\r\n",
        "        label='Train loss')\r\n",
        "plt.legend()"
      ],
      "execution_count": null,
      "outputs": []
    },
    {
      "cell_type": "markdown",
      "metadata": {
        "id": "GwKlj0LHvFJb"
      },
      "source": [
        "### Saving the whole model"
      ]
    },
    {
      "cell_type": "code",
      "metadata": {
        "id": "O4maECyfvD3o"
      },
      "source": [
        "#the file type for storing complete models is \".h5\"\r\n",
        "# feel free to change the path to whatever suits you best!\r\n",
        "modelpath = checkpoint_dir+\"first_final_model.h5\"\r\n",
        "\r\n",
        "print(\"Final model saved as \",modelpath)\r\n",
        "\r\n",
        "# Save entire model to a HDF5 file\r\n",
        "model_for_test.save(modelpath)"
      ],
      "execution_count": null,
      "outputs": []
    },
    {
      "cell_type": "markdown",
      "metadata": {
        "id": "dI9MjVD3vX8G"
      },
      "source": [
        "### Measurements on final model"
      ]
    },
    {
      "cell_type": "code",
      "metadata": {
        "id": "ewS9rl9svXJP"
      },
      "source": [
        "# The code below should give the same results as that for the original model\r\n",
        "[train_loss, train_accuracy] = model_for_test.evaluate(x_train_all, r_train_all, verbose=0)\r\n",
        "print(\"Training set Accuracy:{:7.4f}\".format(train_accuracy))\r\n",
        "print(\"Training set Loss:{:7.6f}\\n\".format(train_loss))\r\n",
        "\r\n",
        "[test_loss, test_accuracy] = model_for_test.evaluate(x_test, r_test, verbose=0)\r\n",
        "print(\"Validation set Accuracy:{:7.4f}\".format(test_accuracy))\r\n",
        "print(\"Validation set Loss:{:7.6f}\\n\".format(test_loss))"
      ],
      "execution_count": null,
      "outputs": []
    }
  ]
}